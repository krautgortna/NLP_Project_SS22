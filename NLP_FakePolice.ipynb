{
 "nbformat": 4,
 "nbformat_minor": 0,
 "metadata": {
  "colab": {
   "name": "NLP_FakePolice.ipynb",
   "provenance": [],
   "collapsed_sections": [],
   "include_colab_link": true
  },
  "kernelspec": {
   "name": "python3",
   "display_name": "Python 3"
  },
  "language_info": {
   "name": "python"
  }
 },
 "cells": [
  {
   "cell_type": "code",
   "execution_count": 1,
   "outputs": [],
   "source": [
    "import numpy as np\n",
    "import pandas as pd\n",
    "import matplotlib.pyplot as plt\n",
    "import seaborn as sns\n",
    "\n",
    "from sklearn.model_selection import train_test_split\n",
    "from sklearn.feature_extraction.text import CountVectorizer, TfidfTransformer\n",
    "from sklearn.linear_model import SGDClassifier\n",
    "from scipy.sparse import csr_matrix\n",
    "from sklearn.model_selection import RandomizedSearchCV\n",
    "from scipy.stats import uniform\n",
    "from sklearn.metrics import confusion_matrix, classification_report\n",
    "\n",
    "from xgboost import XGBClassifier\n",
    "from sklearn.naive_bayes import MultinomialNB\n",
    "from sklearn.ensemble import GradientBoostingClassifier"
   ],
   "metadata": {
    "collapsed": false,
    "pycharm": {
     "name": "#%%\n"
    }
   }
  },
  {
   "cell_type": "markdown",
   "source": [
    "<a href=\"https://colab.research.google.com/github/krautgortna/NLP_Project_SS22/blob/main/NLP_FakePolice.ipynb\" target=\"_parent\"><img src=\"https://colab.research.google.com/assets/colab-badge.svg\" alt=\"Open In Colab\"/></a>"
   ],
   "metadata": {
    "collapsed": false,
    "pycharm": {
     "name": "#%% md\n"
    }
   }
  },
  {
   "cell_type": "markdown",
   "source": [
    "# NLP Project 2022"
   ],
   "metadata": {
    "collapsed": false,
    "pycharm": {
     "name": "#%% md\n"
    }
   }
  },
  {
   "cell_type": "markdown",
   "source": [
    "## Get data"
   ],
   "metadata": {
    "collapsed": false,
    "pycharm": {
     "name": "#%% md\n"
    }
   }
  },
  {
   "cell_type": "code",
   "execution_count": 2,
   "outputs": [
    {
     "data": {
      "text/plain": "                    id  is_misinfo\n0  1344795424855642112           0\n1  1344794858133860353           0\n2  1344794822691983360           0\n3  1344794752819077123           1\n4  1344792070507134977           0",
      "text/html": "<div>\n<style scoped>\n    .dataframe tbody tr th:only-of-type {\n        vertical-align: middle;\n    }\n\n    .dataframe tbody tr th {\n        vertical-align: top;\n    }\n\n    .dataframe thead th {\n        text-align: right;\n    }\n</style>\n<table border=\"1\" class=\"dataframe\">\n  <thead>\n    <tr style=\"text-align: right;\">\n      <th></th>\n      <th>id</th>\n      <th>is_misinfo</th>\n    </tr>\n  </thead>\n  <tbody>\n    <tr>\n      <th>0</th>\n      <td>1344795424855642112</td>\n      <td>0</td>\n    </tr>\n    <tr>\n      <th>1</th>\n      <td>1344794858133860353</td>\n      <td>0</td>\n    </tr>\n    <tr>\n      <th>2</th>\n      <td>1344794822691983360</td>\n      <td>0</td>\n    </tr>\n    <tr>\n      <th>3</th>\n      <td>1344794752819077123</td>\n      <td>1</td>\n    </tr>\n    <tr>\n      <th>4</th>\n      <td>1344792070507134977</td>\n      <td>0</td>\n    </tr>\n  </tbody>\n</table>\n</div>"
     },
     "execution_count": 2,
     "metadata": {},
     "output_type": "execute_result"
    }
   ],
   "source": [
    "url = 'https://raw.githubusercontent.com/SakibShahriar95/ANTiVax/main/Labeled/VaxMisinfoData.csv'\n",
    "df = pd.read_csv(url)\n",
    "df.head()"
   ],
   "metadata": {
    "collapsed": false,
    "pycharm": {
     "name": "#%%\n"
    }
   }
  },
  {
   "cell_type": "code",
   "execution_count": 3,
   "outputs": [],
   "source": [
    "#  !pip install twarc\n",
    "#  !twarc configure"
   ],
   "metadata": {
    "collapsed": false,
    "pycharm": {
     "name": "#%%\n"
    }
   }
  },
  {
   "cell_type": "markdown",
   "source": [
    "from twarc import Twarc\n",
    "from urllib.request import urlretrieve\n",
    "\n",
    "tweet_ids_url = 'https://raw.githubusercontent.com/SakibShahriar95/ANTiVax/main/Labeled/ids.txt'\n",
    "tweet_ids = urlretrieve(tweet_ids_url, './ids.txt') # it's a file like object and works just like a file\n",
    "\n",
    "df = pd.read_csv('./ids.txt')\n",
    "df.head()\n",
    "\n",
    "consumer_key=\"2lNba8Nvu9f0i5YgfmQhfh3mP\"\n",
    "consumer_secret=\"TGVv9QJhtkjSqm7QyMeLfpZm3IU3xjrrMabyae42VxbkaT5t0g\"\n",
    "access_token=\"1600730532-ZCeeHr9h033QRlC95BLZrpz85TRFN4pZ0w7vGhY\"\n",
    "access_token_secret=\"eoiufziPLBr0eYgR12gAoAEiTQjlnTkZ1BHBLXoDuQbtC\"\n",
    "t = Twarc(consumer_key, consumer_secret, access_token, access_token_secret)\n",
    "\n",
    "df = pd.DataFrame()\n",
    "for tweet in t.hydrate(open('./ids.txt')):\n",
    "  row = { 'id': tweet['id'], 'text': tweet['text'] }\n",
    "  df.append(row, ignore_index = True)\n",
    "\n"
   ],
   "metadata": {
    "collapsed": false,
    "pycharm": {
     "name": "#%% md\n"
    }
   }
  },
  {
   "cell_type": "code",
   "execution_count": 4,
   "outputs": [
    {
     "data": {
      "text/plain": "0        My 87 year old grandmother has been quarantini...\n1        I’m so excited that with this vaccine I can se...\n2        So excited that I was able to close out 2020 o...\n3        Well, it happened. My daughter used my grandch...\n4        I’m getting my COVID-19 vaccine, baby! I’m so ...\n                               ...                        \n12292    Ooh! Potential #CoronaVac by @Sinovac side-eff...\n12293    This rocks, very excited to get the vaccine as...\n12294    We're excited to announce a COVID-19 vaccinati...\n12295    Dec 2020:\\nMOH: Vaccines are here!\\nFPs: Yay! ...\n12296    Fauci to #unvaccinated Americans: “get over th...\nName: text, Length: 12297, dtype: object"
     },
     "execution_count": 4,
     "metadata": {},
     "output_type": "execute_result"
    }
   ],
   "source": [
    "url = 'https://raw.githubusercontent.com/krautgortna/NLP_Project_SS22/main/data/hydrated_tweets.csv'\n",
    "df_all_data = pd.read_csv(url)\n",
    "df_all_data_original = df_all_data.copy()\n",
    "df_all_data.text"
   ],
   "metadata": {
    "collapsed": false,
    "pycharm": {
     "name": "#%%\n"
    }
   }
  },
  {
   "cell_type": "code",
   "execution_count": 5,
   "outputs": [
    {
     "data": {
      "text/plain": "                            Total   Percent\nin_reply_to_status_id       12297  1.000000\nretweet_screen_name         12297  1.000000\nretweet_id                  12297  1.000000\nquote_id                    12297  1.000000\nin_reply_to_user_id         12297  1.000000\nuser_time_zone              12297  1.000000\nin_reply_to_screen_name     12297  1.000000\ncoordinates                 12265  0.997398\nplace                       11785  0.958364\nmedia                        9704  0.789136\nurls                         9273  0.754086\nhashtags                     8889  0.722859\nuser_urls                    7719  0.627714\npossibly_sensitive           7032  0.571847\nuser_location                3228  0.262503\nuser_description             1115  0.090673\nuser_name                       5  0.000407\nuser_statuses_count             0  0.000000\nuser_screen_name                0  0.000000\nuser_listed_count               0  0.000000\nuser_friends_count              0  0.000000\nuser_followers_count            0  0.000000\nuser_favourites_count           0  0.000000\nsource                          0  0.000000\nuser_default_profile_image      0  0.000000",
      "text/html": "<div>\n<style scoped>\n    .dataframe tbody tr th:only-of-type {\n        vertical-align: middle;\n    }\n\n    .dataframe tbody tr th {\n        vertical-align: top;\n    }\n\n    .dataframe thead th {\n        text-align: right;\n    }\n</style>\n<table border=\"1\" class=\"dataframe\">\n  <thead>\n    <tr style=\"text-align: right;\">\n      <th></th>\n      <th>Total</th>\n      <th>Percent</th>\n    </tr>\n  </thead>\n  <tbody>\n    <tr>\n      <th>in_reply_to_status_id</th>\n      <td>12297</td>\n      <td>1.000000</td>\n    </tr>\n    <tr>\n      <th>retweet_screen_name</th>\n      <td>12297</td>\n      <td>1.000000</td>\n    </tr>\n    <tr>\n      <th>retweet_id</th>\n      <td>12297</td>\n      <td>1.000000</td>\n    </tr>\n    <tr>\n      <th>quote_id</th>\n      <td>12297</td>\n      <td>1.000000</td>\n    </tr>\n    <tr>\n      <th>in_reply_to_user_id</th>\n      <td>12297</td>\n      <td>1.000000</td>\n    </tr>\n    <tr>\n      <th>user_time_zone</th>\n      <td>12297</td>\n      <td>1.000000</td>\n    </tr>\n    <tr>\n      <th>in_reply_to_screen_name</th>\n      <td>12297</td>\n      <td>1.000000</td>\n    </tr>\n    <tr>\n      <th>coordinates</th>\n      <td>12265</td>\n      <td>0.997398</td>\n    </tr>\n    <tr>\n      <th>place</th>\n      <td>11785</td>\n      <td>0.958364</td>\n    </tr>\n    <tr>\n      <th>media</th>\n      <td>9704</td>\n      <td>0.789136</td>\n    </tr>\n    <tr>\n      <th>urls</th>\n      <td>9273</td>\n      <td>0.754086</td>\n    </tr>\n    <tr>\n      <th>hashtags</th>\n      <td>8889</td>\n      <td>0.722859</td>\n    </tr>\n    <tr>\n      <th>user_urls</th>\n      <td>7719</td>\n      <td>0.627714</td>\n    </tr>\n    <tr>\n      <th>possibly_sensitive</th>\n      <td>7032</td>\n      <td>0.571847</td>\n    </tr>\n    <tr>\n      <th>user_location</th>\n      <td>3228</td>\n      <td>0.262503</td>\n    </tr>\n    <tr>\n      <th>user_description</th>\n      <td>1115</td>\n      <td>0.090673</td>\n    </tr>\n    <tr>\n      <th>user_name</th>\n      <td>5</td>\n      <td>0.000407</td>\n    </tr>\n    <tr>\n      <th>user_statuses_count</th>\n      <td>0</td>\n      <td>0.000000</td>\n    </tr>\n    <tr>\n      <th>user_screen_name</th>\n      <td>0</td>\n      <td>0.000000</td>\n    </tr>\n    <tr>\n      <th>user_listed_count</th>\n      <td>0</td>\n      <td>0.000000</td>\n    </tr>\n    <tr>\n      <th>user_friends_count</th>\n      <td>0</td>\n      <td>0.000000</td>\n    </tr>\n    <tr>\n      <th>user_followers_count</th>\n      <td>0</td>\n      <td>0.000000</td>\n    </tr>\n    <tr>\n      <th>user_favourites_count</th>\n      <td>0</td>\n      <td>0.000000</td>\n    </tr>\n    <tr>\n      <th>source</th>\n      <td>0</td>\n      <td>0.000000</td>\n    </tr>\n    <tr>\n      <th>user_default_profile_image</th>\n      <td>0</td>\n      <td>0.000000</td>\n    </tr>\n  </tbody>\n</table>\n</div>"
     },
     "execution_count": 5,
     "metadata": {},
     "output_type": "execute_result"
    }
   ],
   "source": [
    "Total = df_all_data.isnull().sum().sort_values(ascending=False)\n",
    "percent = (df_all_data.isnull().sum() / df_all_data.isnull().count()).sort_values(ascending=False)\n",
    "missing_stats = pd.concat([Total, percent], axis=1, keys=['Total', 'Percent'])\n",
    "\n",
    "all_data_drop_80_missing = df_all_data.drop((missing_stats[missing_stats['Percent'] > .8]).index, axis=1)\n",
    "missing_stats.head(25)"
   ],
   "metadata": {
    "collapsed": false,
    "pycharm": {
     "name": "#%%\n"
    }
   }
  },
  {
   "cell_type": "code",
   "execution_count": 6,
   "outputs": [
    {
     "data": {
      "text/plain": "                        id  is_misinfo  \\\n0      1344795424855642112           0   \n1      1344794858133860353           0   \n2      1344794822691983360           0   \n3      1344794752819077123           1   \n4      1344790296119422980           1   \n...                    ...         ...   \n12292  1413088663886573569           1   \n12293  1413087751474397186           0   \n12294  1413087030578401283           0   \n12295  1413085519710363648           0   \n12296  1413085365745774593           0   \n\n                                                    text  \\\n0      if you kissed someone on Amelia St, don’t worr...   \n1      i really doubt 2021 will be much different imo...   \n2      People want answers, but they’re also just exc...   \n3      Why any healthy person would want to take an e...   \n4      1/1 @TheBMA surely consenting people to a two ...   \n...                                                  ...   \n12292  Go ahead, take it...#Vaccine #TheJab #Genocide...   \n12293  Going to my first vaccine today. Very very ner...   \n12294  Media: \"The #Japanese government declared a ne...   \n12295  Getting my first dose vaccine tomorrow. HUKM d...   \n12296  I’m so happy that my mom got her first dose va...   \n\n                                                hashtags  \n0                                                    NaN  \n1                                                    NaN  \n2                                                    NaN  \n3                                                    NaN  \n4                                                    NaN  \n...                                                  ...  \n12292  Vaccine TheJab Genocide Depopulation Resist198...  \n12293                     firstjab VACCINE hull hull2021  \n12294                               Japanese coronavirus  \n12295                                                NaN  \n12296                                                NaN  \n\n[12297 rows x 4 columns]",
      "text/html": "<div>\n<style scoped>\n    .dataframe tbody tr th:only-of-type {\n        vertical-align: middle;\n    }\n\n    .dataframe tbody tr th {\n        vertical-align: top;\n    }\n\n    .dataframe thead th {\n        text-align: right;\n    }\n</style>\n<table border=\"1\" class=\"dataframe\">\n  <thead>\n    <tr style=\"text-align: right;\">\n      <th></th>\n      <th>id</th>\n      <th>is_misinfo</th>\n      <th>text</th>\n      <th>hashtags</th>\n    </tr>\n  </thead>\n  <tbody>\n    <tr>\n      <th>0</th>\n      <td>1344795424855642112</td>\n      <td>0</td>\n      <td>if you kissed someone on Amelia St, don’t worr...</td>\n      <td>NaN</td>\n    </tr>\n    <tr>\n      <th>1</th>\n      <td>1344794858133860353</td>\n      <td>0</td>\n      <td>i really doubt 2021 will be much different imo...</td>\n      <td>NaN</td>\n    </tr>\n    <tr>\n      <th>2</th>\n      <td>1344794822691983360</td>\n      <td>0</td>\n      <td>People want answers, but they’re also just exc...</td>\n      <td>NaN</td>\n    </tr>\n    <tr>\n      <th>3</th>\n      <td>1344794752819077123</td>\n      <td>1</td>\n      <td>Why any healthy person would want to take an e...</td>\n      <td>NaN</td>\n    </tr>\n    <tr>\n      <th>4</th>\n      <td>1344790296119422980</td>\n      <td>1</td>\n      <td>1/1 @TheBMA surely consenting people to a two ...</td>\n      <td>NaN</td>\n    </tr>\n    <tr>\n      <th>...</th>\n      <td>...</td>\n      <td>...</td>\n      <td>...</td>\n      <td>...</td>\n    </tr>\n    <tr>\n      <th>12292</th>\n      <td>1413088663886573569</td>\n      <td>1</td>\n      <td>Go ahead, take it...#Vaccine #TheJab #Genocide...</td>\n      <td>Vaccine TheJab Genocide Depopulation Resist198...</td>\n    </tr>\n    <tr>\n      <th>12293</th>\n      <td>1413087751474397186</td>\n      <td>0</td>\n      <td>Going to my first vaccine today. Very very ner...</td>\n      <td>firstjab VACCINE hull hull2021</td>\n    </tr>\n    <tr>\n      <th>12294</th>\n      <td>1413087030578401283</td>\n      <td>0</td>\n      <td>Media: \"The #Japanese government declared a ne...</td>\n      <td>Japanese coronavirus</td>\n    </tr>\n    <tr>\n      <th>12295</th>\n      <td>1413085519710363648</td>\n      <td>0</td>\n      <td>Getting my first dose vaccine tomorrow. HUKM d...</td>\n      <td>NaN</td>\n    </tr>\n    <tr>\n      <th>12296</th>\n      <td>1413085365745774593</td>\n      <td>0</td>\n      <td>I’m so happy that my mom got her first dose va...</td>\n      <td>NaN</td>\n    </tr>\n  </tbody>\n</table>\n<p>12297 rows × 4 columns</p>\n</div>"
     },
     "execution_count": 6,
     "metadata": {},
     "output_type": "execute_result"
    }
   ],
   "source": [
    "df_merged = df.merge(df_all_data[['id', 'text', 'hashtags']], on='id')\n",
    "df_merged\n"
   ],
   "metadata": {
    "collapsed": false,
    "pycharm": {
     "name": "#%%\n"
    }
   }
  },
  {
   "cell_type": "markdown",
   "source": [
    "## Preprocessing"
   ],
   "metadata": {
    "collapsed": false,
    "pycharm": {
     "name": "#%% md\n"
    }
   }
  },
  {
   "cell_type": "code",
   "execution_count": 7,
   "outputs": [
    {
     "data": {
      "text/plain": "                        id  is_misinfo  \\\n0      1344795424855642112           0   \n1      1344794858133860353           0   \n2      1344794822691983360           0   \n3      1344794752819077123           1   \n4      1344790296119422980           1   \n...                    ...         ...   \n12292  1413088663886573569           1   \n12293  1413087751474397186           0   \n12294  1413087030578401283           0   \n12295  1413085519710363648           0   \n12296  1413085365745774593           0   \n\n                                                    text  \\\n0      if you kissed someone on amelia st dont worry ...   \n1      i really doubt  will be much different imo bec...   \n2      people want answers but theyre also just excit...   \n3      why any healthy person would want to take an e...   \n4        surely consenting people to a two part licen...   \n...                                                  ...   \n12292  go ahead take it vaccine  thejab  genocide  de...   \n12293  going to my first vaccine today very very nerv...   \n12294  media the  japanese government declared a new ...   \n12295  getting my first dose vaccine tomorrow hukm dr...   \n12296  im so happy that my mom got her first dose vac...   \n\n                                                hashtags  \n0                                                    NaN  \n1                                                    NaN  \n2                                                    NaN  \n3                                                    NaN  \n4                                                    NaN  \n...                                                  ...  \n12292  Vaccine TheJab Genocide Depopulation Resist198...  \n12293                     firstjab VACCINE hull hull2021  \n12294                               Japanese coronavirus  \n12295                                                NaN  \n12296                                                NaN  \n\n[12297 rows x 4 columns]",
      "text/html": "<div>\n<style scoped>\n    .dataframe tbody tr th:only-of-type {\n        vertical-align: middle;\n    }\n\n    .dataframe tbody tr th {\n        vertical-align: top;\n    }\n\n    .dataframe thead th {\n        text-align: right;\n    }\n</style>\n<table border=\"1\" class=\"dataframe\">\n  <thead>\n    <tr style=\"text-align: right;\">\n      <th></th>\n      <th>id</th>\n      <th>is_misinfo</th>\n      <th>text</th>\n      <th>hashtags</th>\n    </tr>\n  </thead>\n  <tbody>\n    <tr>\n      <th>0</th>\n      <td>1344795424855642112</td>\n      <td>0</td>\n      <td>if you kissed someone on amelia st dont worry ...</td>\n      <td>NaN</td>\n    </tr>\n    <tr>\n      <th>1</th>\n      <td>1344794858133860353</td>\n      <td>0</td>\n      <td>i really doubt  will be much different imo bec...</td>\n      <td>NaN</td>\n    </tr>\n    <tr>\n      <th>2</th>\n      <td>1344794822691983360</td>\n      <td>0</td>\n      <td>people want answers but theyre also just excit...</td>\n      <td>NaN</td>\n    </tr>\n    <tr>\n      <th>3</th>\n      <td>1344794752819077123</td>\n      <td>1</td>\n      <td>why any healthy person would want to take an e...</td>\n      <td>NaN</td>\n    </tr>\n    <tr>\n      <th>4</th>\n      <td>1344790296119422980</td>\n      <td>1</td>\n      <td>surely consenting people to a two part licen...</td>\n      <td>NaN</td>\n    </tr>\n    <tr>\n      <th>...</th>\n      <td>...</td>\n      <td>...</td>\n      <td>...</td>\n      <td>...</td>\n    </tr>\n    <tr>\n      <th>12292</th>\n      <td>1413088663886573569</td>\n      <td>1</td>\n      <td>go ahead take it vaccine  thejab  genocide  de...</td>\n      <td>Vaccine TheJab Genocide Depopulation Resist198...</td>\n    </tr>\n    <tr>\n      <th>12293</th>\n      <td>1413087751474397186</td>\n      <td>0</td>\n      <td>going to my first vaccine today very very nerv...</td>\n      <td>firstjab VACCINE hull hull2021</td>\n    </tr>\n    <tr>\n      <th>12294</th>\n      <td>1413087030578401283</td>\n      <td>0</td>\n      <td>media the  japanese government declared a new ...</td>\n      <td>Japanese coronavirus</td>\n    </tr>\n    <tr>\n      <th>12295</th>\n      <td>1413085519710363648</td>\n      <td>0</td>\n      <td>getting my first dose vaccine tomorrow hukm dr...</td>\n      <td>NaN</td>\n    </tr>\n    <tr>\n      <th>12296</th>\n      <td>1413085365745774593</td>\n      <td>0</td>\n      <td>im so happy that my mom got her first dose vac...</td>\n      <td>NaN</td>\n    </tr>\n  </tbody>\n</table>\n<p>12297 rows × 4 columns</p>\n</div>"
     },
     "execution_count": 7,
     "metadata": {},
     "output_type": "execute_result"
    }
   ],
   "source": [
    "# EDA\n",
    "import re\n",
    "\n",
    "\n",
    "def remove_targets(review_text):\n",
    "    return re.sub('(@[A-Za-z0-9])\\w+', '', review_text)\n",
    "\n",
    "\n",
    "def remove_hashtags(review_text):\n",
    "    return review_text.replace(\"#\", \" \")\n",
    "\n",
    "\n",
    "def remove_numbers(review_text):\n",
    "    return re.sub('[0-9]', '', review_text)\n",
    "\n",
    "\n",
    "def remove_punctuation(review_text):\n",
    "    return re.sub(r'[/\\[\\]\\\\\\{\\}\\(\\)\\|\\;\\'\\:\\\"\\,\\!\\?\\.]', '', review_text)\n",
    "\n",
    "\n",
    "def remove_newlines(review_text):\n",
    "    return review_text.replace(\"\\n\", \" \")\n",
    "\n",
    "\n",
    "df_cleaned = df_merged.copy(deep=True)\n",
    "\n",
    "df_cleaned['text'] = df_cleaned['text'].apply(remove_targets)\n",
    "df_cleaned['text'] = df_cleaned['text'].apply(remove_hashtags)\n",
    "df_cleaned['text'] = df_cleaned['text'].apply(remove_numbers)\n",
    "\n",
    "df_cleaned['text'] = df_cleaned['text'].apply(remove_punctuation)\n",
    "df_cleaned['text'] = df_cleaned['text'].apply(remove_newlines)\n",
    "\n",
    "df_cleaned['text'] = df_cleaned['text'].str.encode('ascii', 'ignore').str.decode('ascii')\n",
    "df_cleaned['text'] = df_cleaned['text'].str.lower()\n",
    "\n",
    "df_cleaned"
   ],
   "metadata": {
    "collapsed": false,
    "pycharm": {
     "name": "#%%\n"
    }
   }
  },
  {
   "cell_type": "markdown",
   "source": [
    "## Train model"
   ],
   "metadata": {
    "collapsed": false,
    "pycharm": {
     "name": "#%% md\n"
    }
   }
  },
  {
   "cell_type": "code",
   "execution_count": 8,
   "outputs": [
    {
     "data": {
      "text/plain": "                        id  is_misinfo  \\\n0      1344795424855642112           0   \n1      1344794858133860353           0   \n2      1344794822691983360           0   \n3      1344794752819077123           1   \n4      1344790296119422980           1   \n...                    ...         ...   \n12292  1413088663886573569           1   \n12293  1413087751474397186           0   \n12294  1413087030578401283           0   \n12295  1413085519710363648           0   \n12296  1413085365745774593           0   \n\n                                                    text  \n0      if you kissed someone on Amelia St, don’t worr...  \n1      i really doubt 2021 will be much different imo...  \n2      People want answers, but they’re also just exc...  \n3      Why any healthy person would want to take an e...  \n4      1/1 @TheBMA surely consenting people to a two ...  \n...                                                  ...  \n12292  Go ahead, take it...#Vaccine #TheJab #Genocide...  \n12293  Going to my first vaccine today. Very very ner...  \n12294  Media: \"The #Japanese government declared a ne...  \n12295  Getting my first dose vaccine tomorrow. HUKM d...  \n12296  I’m so happy that my mom got her first dose va...  \n\n[12297 rows x 3 columns]",
      "text/html": "<div>\n<style scoped>\n    .dataframe tbody tr th:only-of-type {\n        vertical-align: middle;\n    }\n\n    .dataframe tbody tr th {\n        vertical-align: top;\n    }\n\n    .dataframe thead th {\n        text-align: right;\n    }\n</style>\n<table border=\"1\" class=\"dataframe\">\n  <thead>\n    <tr style=\"text-align: right;\">\n      <th></th>\n      <th>id</th>\n      <th>is_misinfo</th>\n      <th>text</th>\n    </tr>\n  </thead>\n  <tbody>\n    <tr>\n      <th>0</th>\n      <td>1344795424855642112</td>\n      <td>0</td>\n      <td>if you kissed someone on Amelia St, don’t worr...</td>\n    </tr>\n    <tr>\n      <th>1</th>\n      <td>1344794858133860353</td>\n      <td>0</td>\n      <td>i really doubt 2021 will be much different imo...</td>\n    </tr>\n    <tr>\n      <th>2</th>\n      <td>1344794822691983360</td>\n      <td>0</td>\n      <td>People want answers, but they’re also just exc...</td>\n    </tr>\n    <tr>\n      <th>3</th>\n      <td>1344794752819077123</td>\n      <td>1</td>\n      <td>Why any healthy person would want to take an e...</td>\n    </tr>\n    <tr>\n      <th>4</th>\n      <td>1344790296119422980</td>\n      <td>1</td>\n      <td>1/1 @TheBMA surely consenting people to a two ...</td>\n    </tr>\n    <tr>\n      <th>...</th>\n      <td>...</td>\n      <td>...</td>\n      <td>...</td>\n    </tr>\n    <tr>\n      <th>12292</th>\n      <td>1413088663886573569</td>\n      <td>1</td>\n      <td>Go ahead, take it...#Vaccine #TheJab #Genocide...</td>\n    </tr>\n    <tr>\n      <th>12293</th>\n      <td>1413087751474397186</td>\n      <td>0</td>\n      <td>Going to my first vaccine today. Very very ner...</td>\n    </tr>\n    <tr>\n      <th>12294</th>\n      <td>1413087030578401283</td>\n      <td>0</td>\n      <td>Media: \"The #Japanese government declared a ne...</td>\n    </tr>\n    <tr>\n      <th>12295</th>\n      <td>1413085519710363648</td>\n      <td>0</td>\n      <td>Getting my first dose vaccine tomorrow. HUKM d...</td>\n    </tr>\n    <tr>\n      <th>12296</th>\n      <td>1413085365745774593</td>\n      <td>0</td>\n      <td>I’m so happy that my mom got her first dose va...</td>\n    </tr>\n  </tbody>\n</table>\n<p>12297 rows × 3 columns</p>\n</div>"
     },
     "execution_count": 8,
     "metadata": {},
     "output_type": "execute_result"
    }
   ],
   "source": [
    "df_original = df.merge(df_all_data_original[['id', 'text']], on='id')\n",
    "df_original"
   ],
   "metadata": {
    "collapsed": false,
    "pycharm": {
     "name": "#%%\n"
    }
   }
  },
  {
   "cell_type": "code",
   "execution_count": 9,
   "outputs": [
    {
     "data": {
      "text/plain": "((8607, 2), (8607,), (3690, 2), (3690,))"
     },
     "execution_count": 9,
     "metadata": {},
     "output_type": "execute_result"
    }
   ],
   "source": [
    "X = df_original.drop('is_misinfo', axis=1)\n",
    "y = df_original.is_misinfo\n",
    "X_train, X_test, y_train, y_test = train_test_split(X, y, test_size=0.3, random_state=0)\n",
    "\n",
    "X_train.shape, y_train.shape, X_test.shape, y_test.shape"
   ],
   "metadata": {
    "collapsed": false,
    "pycharm": {
     "name": "#%%\n"
    }
   }
  },
  {
   "cell_type": "code",
   "execution_count": 10,
   "outputs": [],
   "source": [
    "# Unigram Counts\n",
    "\n",
    "X_train_texts = X_train.text\n",
    "\n",
    "unigram_vectorizer = CountVectorizer(ngram_range=(1, 1))\n",
    "unigram_vectorizer.fit(X_train_texts)\n",
    "X_train_unigram = unigram_vectorizer.transform(X_train_texts)\n",
    "\n",
    "\n",
    "# Unigram Tf-Idf\n",
    "\n",
    "unigram_tf_idf_transformer = TfidfTransformer()\n",
    "unigram_tf_idf_transformer.fit(X_train_unigram)\n",
    "\n",
    "X_train_unigram_tf_idf = unigram_tf_idf_transformer.transform(X_train_unigram)\n",
    "\n",
    "\n",
    "# Bigram Counts\n",
    "\n",
    "bigram_vectorizer = CountVectorizer(ngram_range=(1, 2))\n",
    "bigram_vectorizer.fit(X_train_texts)\n",
    "X_train_bigram = bigram_vectorizer.transform(X_train_texts)\n",
    "\n",
    "\n",
    "# Bigram Tf-Idf\n",
    "\n",
    "bigram_tf_idf_transformer = TfidfTransformer()\n",
    "bigram_tf_idf_transformer.fit(X_train_bigram)\n",
    "\n",
    "X_train_bigram_tf_idf = bigram_tf_idf_transformer.transform(X_train_bigram)"
   ],
   "metadata": {
    "collapsed": false,
    "pycharm": {
     "name": "#%%\n"
    }
   }
  },
  {
   "cell_type": "code",
   "execution_count": 11,
   "outputs": [
    {
     "name": "stdout",
     "output_type": "stream",
     "text": [
      "Unigram Counts\n",
      "SGDClassifier: Train score: 1.0 ; Validation score: 0.98\n",
      "XGBoostClassifier: Train score: 0.99 ; Validation score: 0.98\n",
      "MultinomialNB: Train score: 0.98 ; Validation score: 0.95\n",
      "\n",
      "Unigram Tf-Idf\n",
      "SGDClassifier: Train score: 1.0 ; Validation score: 0.98\n",
      "XGBoostClassifier: Train score: 1.0 ; Validation score: 0.98\n",
      "MultinomialNB: Train score: 0.96 ; Validation score: 0.93\n",
      "\n",
      "Bigram Counts\n",
      "SGDClassifier: Train score: 1.0 ; Validation score: 0.98\n",
      "XGBoostClassifier: Train score: 1.0 ; Validation score: 0.98\n",
      "MultinomialNB: Train score: 0.99 ; Validation score: 0.96\n",
      "\n",
      "Bigram Tf-Idf\n",
      "SGDClassifier: Train score: 1.0 ; Validation score: 0.98\n",
      "XGBoostClassifier: Train score: 1.0 ; Validation score: 0.98\n",
      "MultinomialNB: Train score: 0.97 ; Validation score: 0.92\n",
      "\n"
     ]
    }
   ],
   "source": [
    "def train_and_show_scores(X: csr_matrix, y: np.array, title: str) -> None:\n",
    "    X_train, X_valid, y_train, y_valid = train_test_split(\n",
    "        X, y, train_size=0.8, stratify=y\n",
    "    )\n",
    "\n",
    "    clf = SGDClassifier()\n",
    "    clf.fit(X_train, y_train)\n",
    "    train_score = clf.score(X_train, y_train)\n",
    "    valid_score = clf.score(X_valid, y_valid)\n",
    "    print(f'{title}\\nSGDClassifier: Train score: {round(train_score, 2)} ; Validation score: {round(valid_score, 2)}')\n",
    "\n",
    "    clf = XGBClassifier()\n",
    "    clf.fit(X_train, y_train)\n",
    "    train_score = clf.score(X_train, y_train)\n",
    "    valid_score = clf.score(X_valid, y_valid)\n",
    "    print(f'XGBoostClassifier: Train score: {round(train_score, 2)} ; Validation score: {round(valid_score, 2)}')\n",
    "\n",
    "    clf = MultinomialNB()\n",
    "    clf.fit(X_train, y_train)\n",
    "    train_score = clf.score(X_train, y_train)\n",
    "    valid_score = clf.score(X_valid, y_valid)\n",
    "    print(f'MultinomialNB: Train score: {round(train_score, 2)} ; Validation score: {round(valid_score, 2)}\\n')\n",
    "\n",
    "train_and_show_scores(X_train_unigram, y_train, 'Unigram Counts')\n",
    "train_and_show_scores(X_train_unigram_tf_idf, y_train, 'Unigram Tf-Idf')\n",
    "train_and_show_scores(X_train_bigram, y_train, 'Bigram Counts')\n",
    "train_and_show_scores(X_train_bigram_tf_idf, y_train, 'Bigram Tf-Idf')"
   ],
   "metadata": {
    "collapsed": false,
    "pycharm": {
     "name": "#%%\n"
    }
   }
  },
  {
   "cell_type": "code",
   "execution_count": 12,
   "outputs": [
    {
     "name": "stdout",
     "output_type": "stream",
     "text": [
      "Best params: {'alpha': 4.878056336305308e-05, 'eta0': 0.008692794286615848, 'learning_rate': 'optimal', 'loss': 'hinge', 'penalty': 'l1'}\n",
      "Best score: 0.981527027273261\n"
     ]
    }
   ],
   "source": [
    "x_train_transformed = X_train_bigram_tf_idf #this had the best validation score (88%)\n",
    "clf = SGDClassifier()\n",
    "\n",
    "distributions = dict(\n",
    "    penalty=['l1', 'l2', 'elasticnet'],\n",
    "    alpha=uniform(loc=1e-6, scale=1e-4),\n",
    "    loss=['hinge', 'log', 'modified_huber', 'squared_hinge', 'perceptron'],\n",
    "    learning_rate=['optimal', 'invscaling', 'adaptive'],\n",
    "    eta0=uniform(loc=1e-7, scale=1e-2)\n",
    ")\n",
    "\n",
    "random_search_cv = RandomizedSearchCV(\n",
    "    estimator=clf,\n",
    "    param_distributions=distributions,\n",
    "    cv=5,\n",
    "    n_iter=50,\n",
    "    n_jobs = -1,\n",
    ")\n",
    "random_search_cv.fit(x_train_transformed, y_train)\n",
    "print(f'Best params: {random_search_cv.best_params_}')\n",
    "print(f'Best score: {random_search_cv.best_score_}')"
   ],
   "metadata": {
    "collapsed": false,
    "pycharm": {
     "name": "#%%\n"
    }
   }
  },
  {
   "cell_type": "code",
   "execution_count": 13,
   "outputs": [
    {
     "name": "stdout",
     "output_type": "stream",
     "text": [
      "Test score SGD:  0.983739837398374\n",
      "Test score MultinomialNB:  0.9655826558265582\n"
     ]
    }
   ],
   "source": [
    "sgd_classifier = random_search_cv.best_estimator_\n",
    "\n",
    "#sgd_classifier = SGDClassifier(alpha=6.9567079387589e-05, eta0=0.0019570170635736096, learning_rate='optimal', loss='modified_huber', penalty='elasticnet')\n",
    "sgd_classifier = SGDClassifier(alpha=random_search_cv.best_params_['alpha'], eta0=random_search_cv.best_params_['eta0'], learning_rate=random_search_cv.best_params_['learning_rate'], loss=random_search_cv.best_params_['loss'], penalty=random_search_cv.best_params_['penalty'])\n",
    "sgd_classifier.fit(x_train_transformed, y_train)\n",
    "\n",
    "#transform test data\n",
    "x_test_transformed = bigram_vectorizer.transform(X_test.text)\n",
    "x_test_transformed = bigram_tf_idf_transformer.transform(x_test_transformed)\n",
    "\n",
    "#test score\n",
    "score = sgd_classifier.score(x_test_transformed, y_test)\n",
    "print(\"Test score SGD: \", score)\n",
    "\n",
    "# try MultinomialNB\n",
    "\n",
    "# Vectorize text reviews to numbers\n",
    "vec = CountVectorizer(ngram_range=(1, 1))\n",
    "x_train = vec.fit_transform(X_train_texts).toarray()\n",
    "x_test = vec.transform(X_test.text).toarray()\n",
    "\n",
    "model = MultinomialNB()\n",
    "model.fit(x_train, y_train)\n",
    "score = model.score(x_test, y_test)\n",
    "print(\"Test score MultinomialNB: \", score)"
   ],
   "metadata": {
    "collapsed": false,
    "pycharm": {
     "name": "#%%\n"
    }
   }
  },
  {
   "cell_type": "code",
   "execution_count": 14,
   "outputs": [
    {
     "name": "stdout",
     "output_type": "stream",
     "text": [
      "Test score XGB:  0.9758807588075881\n"
     ]
    }
   ],
   "source": [
    "clf = XGBClassifier()\n",
    "clf.fit(x_train_transformed, y_train)\n",
    "score = clf.score(x_test_transformed, y_test)\n",
    "print(\"Test score XGB: \", score)"
   ],
   "metadata": {
    "collapsed": false,
    "pycharm": {
     "name": "#%%\n"
    }
   }
  },
  {
   "cell_type": "markdown",
   "source": [
    "## Tuning"
   ],
   "metadata": {
    "collapsed": false,
    "pycharm": {
     "name": "#%% md\n"
    }
   }
  },
  {
   "cell_type": "code",
   "execution_count": 14,
   "outputs": [],
   "source": [],
   "metadata": {
    "collapsed": false,
    "pycharm": {
     "name": "#%%\n"
    }
   }
  },
  {
   "cell_type": "markdown",
   "source": [
    "## Debugging"
   ],
   "metadata": {
    "collapsed": false,
    "pycharm": {
     "name": "#%% md\n"
    }
   }
  },
  {
   "cell_type": "code",
   "execution_count": 15,
   "outputs": [
    {
     "name": "stdout",
     "output_type": "stream",
     "text": [
      "Confusion Matrix\n",
      "[[2419   22]\n",
      " [  38 1211]]\n"
     ]
    },
    {
     "data": {
      "text/plain": "<Figure size 432x288 with 2 Axes>",
      "image/png": "[encoded data removed]"
     },
     "metadata": {
      "needs_background": "light"
     },
     "output_type": "display_data"
    },
    {
     "name": "stdout",
     "output_type": "stream",
     "text": [
      "\n",
      "Classification Report\n",
      "              precision    recall  f1-score   support\n",
      "\n",
      "           0       0.98      0.99      0.99      2441\n",
      "           1       0.98      0.97      0.98      1249\n",
      "\n",
      "    accuracy                           0.98      3690\n",
      "   macro avg       0.98      0.98      0.98      3690\n",
      "weighted avg       0.98      0.98      0.98      3690\n",
      "\n"
     ]
    }
   ],
   "source": [
    "y_pred = sgd_classifier.predict(x_test_transformed)\n",
    "\n",
    "print(\"Confusion Matrix\")\n",
    "cf_matrix = confusion_matrix(y_test, y_pred)\n",
    "print(cf_matrix)\n",
    "\n",
    "ax = sns.heatmap(cf_matrix, annot=True, fmt='.0f', cmap='Blues')\n",
    "\n",
    "ax.set_title('Confusion Matrix with labels\\n\\n')\n",
    "ax.set_xlabel('\\nPredicted Values')\n",
    "ax.set_ylabel('Actual Values ')\n",
    "\n",
    "## Ticket labels - List must be in alphabetical order\n",
    "ax.xaxis.set_ticklabels(['Negative','Positive'])\n",
    "ax.yaxis.set_ticklabels(['Negative','Positive'])\n",
    "\n",
    "## Display the visualization of the Confusion Matrix.\n",
    "plt.show()\n",
    "\n",
    "# Classification Report\n",
    "print(\"\\nClassification Report\")\n",
    "report = classification_report(y_test, y_pred)\n",
    "print(report)"
   ],
   "metadata": {
    "collapsed": false,
    "pycharm": {
     "name": "#%%\n"
    }
   }
  },
  {
   "cell_type": "code",
   "execution_count": 16,
   "outputs": [
    {
     "data": {
      "text/plain": "                        id                                               text  \\\n8236   1387148412336869382  Doctors calling the vaccine  a bioweapond!\\n\\n...   \n4831   1358872934195089414  THE MANY LIES ABOUT COVID-19 &amp; VACCINE💉💉 h...   \n10633  1403937413077024771  That would be something if these businesses sa...   \n10839  1403530034888032259  The phrase “experimental vaccine” is the most ...   \n8113   1387249582682243074  There’s so much dangerous vaccine misinformati...   \n9978   1388316602752503810  Israel said probing link between Pfizer shot a...   \n3147   1345668354858754049  DEPOPULATION by VACCINE after VACCINE after VA...   \n1665   1346964919376355333            Don’t take the vaccine 🙏🏾they killin us   \n9757   1389160851760893953  #VaccineSideEffects #Moderna #NotFDAApproved #...   \n11877  1413496861273382916  This is for everyone excited about getting the...   \n3981   1360262240352546818  Take whatever COVID vaccine you can get. All o...   \n10028  1388312040310149122  Stay Away From The Vaxxed, It Is Official, Fro...   \n2551   1346549586521948163  All these people who think the world will just...   \n8995   1390294319286800384  ppl that think the covid vaccine is dangerous ...   \n7502   1387654765333475331  No, COVID-19 vaccines aren't \"gene therapy\" an...   \n4943   1358453799321554944  For people who say it is an 'experimental vacc...   \n1643   1346967884400971779  Severe allergic reactions to @pfizer's coronav...   \n10544  1404136332822138883  Yay. What dumbasses to think it's ok to spread...   \n9074   1390206974634176514  We can't ignore the link between the COVID vac...   \n3990   1360261907307847685  How many more have to die from #COVID19? \\n\\nT...   \n11289  1402804399064354822  If #JoeBiden is buying and pushing the 'TRIAL'...   \n2813   1346277228594802688  “Mass Sterilization”: Kenyan Doctors Find Anti...   \n9663   1389356923963658241  Currently rumours are being spread all over th...   \n6292   1372780548918190085  Depopulationist Pentagon pushing for kinetic w...   \n9450   1389867929848647680  COVID Vaccine Media Advisory: Genocidal biomed...   \n2828   1346258223876083713  I have the option to get the vaccine but the w...   \n9531   1389645100494491652  And when Pfizer gets FDA approval what excuse ...   \n3279   1345032703553515520  The Covid Vaccine Is an Anti-fertility Vaccine...   \n9688   1389301684023828482  They’re coming for everyone y’all. Stay ready....   \n8860   1390400466446700546  I received the second dose of the Pfizer vacci...   \n10120  1388304842167263240  Coronavirus conspiracy theories: how vaccine i...   \n9174   1390090522035834880  My dad : you took and untested vaccine and it ...   \n7496   1387661021230231553  China wants to build a coalition to fight agai...   \n1743   1346918277734424579  $PFE Confirms will evaluate Covid-19 vaccine i...   \n10469  1404270973726171147  Fact check: Document does not show the COVID-1...   \n6805   1388277015338381313  Stay Away From The Vaxxed, It Is Official, Fro...   \n2646   1346509513994760192  Sanford Vice President Dr. Doug Griffin states...   \n8154   1387198574593728512  For all those that say they won't get the Covi...   \n2009   1346888430072942593  Do people still want to receive the \"vaccine\"?...   \n9038   1390260371513020417  Sharing false information about the #COVIDVacc...   \n1813   1346902552198209538  THEY rushed out this vaccine, but no one wants...   \n1874   1346898915006664704  If one dose of the vaccine is ok, well why bot...   \n9999   1388314485513879552  Covid vaccine: More people suffer from side ef...   \n1599   1341950378879844352  polyethylene glycol #PEG causing severe allerg...   \n2923   1346196014609395713  Covid vaccine and male fertility, DO NOT HAVE ...   \n8862   1390399506542436354  There is no evidence that COVID-19 vaccines ca...   \n385    1344289312926527488  Vaccines are Safe, No Matter What Bobby Kenned...   \n8546   1386198546219679744  Watch Dr. Fauci Shut Down Senator Ron Johnson'...   \n10158  1388297924786991104  got my 10th vaccine dose today. how many y’all...   \n8418   1386908745750302721  Make Covaxin of Bharat Biotech a globally avai...   \n6669   1371470247107133442  Germany suspends use of the Oxford/AstraZeneca...   \n12107  1413311850880540675                    Hasn’t Pfizer done enough harm?   \n8859   1390401454892978177  People who are afraid of the vaccine because i...   \n10080  1388308341366083586  The vaccine contains an anti-stupid serum.  Th...   \n2212   1346714799032307712  Vaccine should only be rolled out for high ris...   \n2182   1346763524891156480  Why didn't Chris answer the question about the...   \n379    1344293096532676609  #econtwitter : discussions on papers, runs,  R...   \n3885   1360292867198119938  The Stand | The Truth About the COVID-19 #Expe...   \n1995   1346889535406403587  Allergic reactions including anaphylaxis after...   \n1666   1346964683345940482  #COVIDvaccine Side effects\\n21 persons experie...   \n\n       is_misinfo_pred  is_misinfo_true  \n8236                 0                1  \n4831                 0                1  \n10633                0                1  \n10839                1                0  \n8113                 1                0  \n9978                 0                1  \n3147                 0                1  \n1665                 0                1  \n9757                 0                1  \n11877                0                1  \n3981                 1                0  \n10028                0                1  \n2551                 0                1  \n8995                 1                0  \n7502                 1                0  \n4943                 1                0  \n1643                 0                1  \n10544                1                0  \n9074                 0                1  \n3990                 0                1  \n11289                0                1  \n2813                 0                1  \n9663                 1                0  \n6292                 0                1  \n9450                 0                1  \n2828                 0                1  \n9531                 1                0  \n3279                 0                1  \n9688                 0                1  \n8860                 0                1  \n10120                1                0  \n9174                 1                0  \n7496                 0                1  \n1743                 1                0  \n10469                1                0  \n6805                 0                1  \n2646                 1                0  \n8154                 1                0  \n2009                 0                1  \n9038                 1                0  \n1813                 1                0  \n1874                 0                1  \n9999                 0                1  \n1599                 0                1  \n2923                 0                1  \n8862                 1                0  \n385                  1                0  \n8546                 1                0  \n10158                0                1  \n8418                 0                1  \n6669                 0                1  \n12107                0                1  \n8859                 1                0  \n10080                0                1  \n2212                 0                1  \n2182                 0                1  \n379                  1                0  \n3885                 0                1  \n1995                 0                1  \n1666                 0                1  ",
      "text/html": "<div>\n<style scoped>\n    .dataframe tbody tr th:only-of-type {\n        vertical-align: middle;\n    }\n\n    .dataframe tbody tr th {\n        vertical-align: top;\n    }\n\n    .dataframe thead th {\n        text-align: right;\n    }\n</style>\n<table border=\"1\" class=\"dataframe\">\n  <thead>\n    <tr style=\"text-align: right;\">\n      <th></th>\n      <th>id</th>\n      <th>text</th>\n      <th>is_misinfo_pred</th>\n      <th>is_misinfo_true</th>\n    </tr>\n  </thead>\n  <tbody>\n    <tr>\n      <th>8236</th>\n      <td>1387148412336869382</td>\n      <td>Doctors calling the vaccine  a bioweapond!\\n\\n...</td>\n      <td>0</td>\n      <td>1</td>\n    </tr>\n    <tr>\n      <th>4831</th>\n      <td>1358872934195089414</td>\n      <td>THE MANY LIES ABOUT COVID-19 &amp;amp; VACCINE💉💉 h...</td>\n      <td>0</td>\n      <td>1</td>\n    </tr>\n    <tr>\n      <th>10633</th>\n      <td>1403937413077024771</td>\n      <td>That would be something if these businesses sa...</td>\n      <td>0</td>\n      <td>1</td>\n    </tr>\n    <tr>\n      <th>10839</th>\n      <td>1403530034888032259</td>\n      <td>The phrase “experimental vaccine” is the most ...</td>\n      <td>1</td>\n      <td>0</td>\n    </tr>\n    <tr>\n      <th>8113</th>\n      <td>1387249582682243074</td>\n      <td>There’s so much dangerous vaccine misinformati...</td>\n      <td>1</td>\n      <td>0</td>\n    </tr>\n    <tr>\n      <th>9978</th>\n      <td>1388316602752503810</td>\n      <td>Israel said probing link between Pfizer shot a...</td>\n      <td>0</td>\n      <td>1</td>\n    </tr>\n    <tr>\n      <th>3147</th>\n      <td>1345668354858754049</td>\n      <td>DEPOPULATION by VACCINE after VACCINE after VA...</td>\n      <td>0</td>\n      <td>1</td>\n    </tr>\n    <tr>\n      <th>1665</th>\n      <td>1346964919376355333</td>\n      <td>Don’t take the vaccine 🙏🏾they killin us</td>\n      <td>0</td>\n      <td>1</td>\n    </tr>\n    <tr>\n      <th>9757</th>\n      <td>1389160851760893953</td>\n      <td>#VaccineSideEffects #Moderna #NotFDAApproved #...</td>\n      <td>0</td>\n      <td>1</td>\n    </tr>\n    <tr>\n      <th>11877</th>\n      <td>1413496861273382916</td>\n      <td>This is for everyone excited about getting the...</td>\n      <td>0</td>\n      <td>1</td>\n    </tr>\n    <tr>\n      <th>3981</th>\n      <td>1360262240352546818</td>\n      <td>Take whatever COVID vaccine you can get. All o...</td>\n      <td>1</td>\n      <td>0</td>\n    </tr>\n    <tr>\n      <th>10028</th>\n      <td>1388312040310149122</td>\n      <td>Stay Away From The Vaxxed, It Is Official, Fro...</td>\n      <td>0</td>\n      <td>1</td>\n    </tr>\n    <tr>\n      <th>2551</th>\n      <td>1346549586521948163</td>\n      <td>All these people who think the world will just...</td>\n      <td>0</td>\n      <td>1</td>\n    </tr>\n    <tr>\n      <th>8995</th>\n      <td>1390294319286800384</td>\n      <td>ppl that think the covid vaccine is dangerous ...</td>\n      <td>1</td>\n      <td>0</td>\n    </tr>\n    <tr>\n      <th>7502</th>\n      <td>1387654765333475331</td>\n      <td>No, COVID-19 vaccines aren't \"gene therapy\" an...</td>\n      <td>1</td>\n      <td>0</td>\n    </tr>\n    <tr>\n      <th>4943</th>\n      <td>1358453799321554944</td>\n      <td>For people who say it is an 'experimental vacc...</td>\n      <td>1</td>\n      <td>0</td>\n    </tr>\n    <tr>\n      <th>1643</th>\n      <td>1346967884400971779</td>\n      <td>Severe allergic reactions to @pfizer's coronav...</td>\n      <td>0</td>\n      <td>1</td>\n    </tr>\n    <tr>\n      <th>10544</th>\n      <td>1404136332822138883</td>\n      <td>Yay. What dumbasses to think it's ok to spread...</td>\n      <td>1</td>\n      <td>0</td>\n    </tr>\n    <tr>\n      <th>9074</th>\n      <td>1390206974634176514</td>\n      <td>We can't ignore the link between the COVID vac...</td>\n      <td>0</td>\n      <td>1</td>\n    </tr>\n    <tr>\n      <th>3990</th>\n      <td>1360261907307847685</td>\n      <td>How many more have to die from #COVID19? \\n\\nT...</td>\n      <td>0</td>\n      <td>1</td>\n    </tr>\n    <tr>\n      <th>11289</th>\n      <td>1402804399064354822</td>\n      <td>If #JoeBiden is buying and pushing the 'TRIAL'...</td>\n      <td>0</td>\n      <td>1</td>\n    </tr>\n    <tr>\n      <th>2813</th>\n      <td>1346277228594802688</td>\n      <td>“Mass Sterilization”: Kenyan Doctors Find Anti...</td>\n      <td>0</td>\n      <td>1</td>\n    </tr>\n    <tr>\n      <th>9663</th>\n      <td>1389356923963658241</td>\n      <td>Currently rumours are being spread all over th...</td>\n      <td>1</td>\n      <td>0</td>\n    </tr>\n    <tr>\n      <th>6292</th>\n      <td>1372780548918190085</td>\n      <td>Depopulationist Pentagon pushing for kinetic w...</td>\n      <td>0</td>\n      <td>1</td>\n    </tr>\n    <tr>\n      <th>9450</th>\n      <td>1389867929848647680</td>\n      <td>COVID Vaccine Media Advisory: Genocidal biomed...</td>\n      <td>0</td>\n      <td>1</td>\n    </tr>\n    <tr>\n      <th>2828</th>\n      <td>1346258223876083713</td>\n      <td>I have the option to get the vaccine but the w...</td>\n      <td>0</td>\n      <td>1</td>\n    </tr>\n    <tr>\n      <th>9531</th>\n      <td>1389645100494491652</td>\n      <td>And when Pfizer gets FDA approval what excuse ...</td>\n      <td>1</td>\n      <td>0</td>\n    </tr>\n    <tr>\n      <th>3279</th>\n      <td>1345032703553515520</td>\n      <td>The Covid Vaccine Is an Anti-fertility Vaccine...</td>\n      <td>0</td>\n      <td>1</td>\n    </tr>\n    <tr>\n      <th>9688</th>\n      <td>1389301684023828482</td>\n      <td>They’re coming for everyone y’all. Stay ready....</td>\n      <td>0</td>\n      <td>1</td>\n    </tr>\n    <tr>\n      <th>8860</th>\n      <td>1390400466446700546</td>\n      <td>I received the second dose of the Pfizer vacci...</td>\n      <td>0</td>\n      <td>1</td>\n    </tr>\n    <tr>\n      <th>10120</th>\n      <td>1388304842167263240</td>\n      <td>Coronavirus conspiracy theories: how vaccine i...</td>\n      <td>1</td>\n      <td>0</td>\n    </tr>\n    <tr>\n      <th>9174</th>\n      <td>1390090522035834880</td>\n      <td>My dad : you took and untested vaccine and it ...</td>\n      <td>1</td>\n      <td>0</td>\n    </tr>\n    <tr>\n      <th>7496</th>\n      <td>1387661021230231553</td>\n      <td>China wants to build a coalition to fight agai...</td>\n      <td>0</td>\n      <td>1</td>\n    </tr>\n    <tr>\n      <th>1743</th>\n      <td>1346918277734424579</td>\n      <td>$PFE Confirms will evaluate Covid-19 vaccine i...</td>\n      <td>1</td>\n      <td>0</td>\n    </tr>\n    <tr>\n      <th>10469</th>\n      <td>1404270973726171147</td>\n      <td>Fact check: Document does not show the COVID-1...</td>\n      <td>1</td>\n      <td>0</td>\n    </tr>\n    <tr>\n      <th>6805</th>\n      <td>1388277015338381313</td>\n      <td>Stay Away From The Vaxxed, It Is Official, Fro...</td>\n      <td>0</td>\n      <td>1</td>\n    </tr>\n    <tr>\n      <th>2646</th>\n      <td>1346509513994760192</td>\n      <td>Sanford Vice President Dr. Doug Griffin states...</td>\n      <td>1</td>\n      <td>0</td>\n    </tr>\n    <tr>\n      <th>8154</th>\n      <td>1387198574593728512</td>\n      <td>For all those that say they won't get the Covi...</td>\n      <td>1</td>\n      <td>0</td>\n    </tr>\n    <tr>\n      <th>2009</th>\n      <td>1346888430072942593</td>\n      <td>Do people still want to receive the \"vaccine\"?...</td>\n      <td>0</td>\n      <td>1</td>\n    </tr>\n    <tr>\n      <th>9038</th>\n      <td>1390260371513020417</td>\n      <td>Sharing false information about the #COVIDVacc...</td>\n      <td>1</td>\n      <td>0</td>\n    </tr>\n    <tr>\n      <th>1813</th>\n      <td>1346902552198209538</td>\n      <td>THEY rushed out this vaccine, but no one wants...</td>\n      <td>1</td>\n      <td>0</td>\n    </tr>\n    <tr>\n      <th>1874</th>\n      <td>1346898915006664704</td>\n      <td>If one dose of the vaccine is ok, well why bot...</td>\n      <td>0</td>\n      <td>1</td>\n    </tr>\n    <tr>\n      <th>9999</th>\n      <td>1388314485513879552</td>\n      <td>Covid vaccine: More people suffer from side ef...</td>\n      <td>0</td>\n      <td>1</td>\n    </tr>\n    <tr>\n      <th>1599</th>\n      <td>1341950378879844352</td>\n      <td>polyethylene glycol #PEG causing severe allerg...</td>\n      <td>0</td>\n      <td>1</td>\n    </tr>\n    <tr>\n      <th>2923</th>\n      <td>1346196014609395713</td>\n      <td>Covid vaccine and male fertility, DO NOT HAVE ...</td>\n      <td>0</td>\n      <td>1</td>\n    </tr>\n    <tr>\n      <th>8862</th>\n      <td>1390399506542436354</td>\n      <td>There is no evidence that COVID-19 vaccines ca...</td>\n      <td>1</td>\n      <td>0</td>\n    </tr>\n    <tr>\n      <th>385</th>\n      <td>1344289312926527488</td>\n      <td>Vaccines are Safe, No Matter What Bobby Kenned...</td>\n      <td>1</td>\n      <td>0</td>\n    </tr>\n    <tr>\n      <th>8546</th>\n      <td>1386198546219679744</td>\n      <td>Watch Dr. Fauci Shut Down Senator Ron Johnson'...</td>\n      <td>1</td>\n      <td>0</td>\n    </tr>\n    <tr>\n      <th>10158</th>\n      <td>1388297924786991104</td>\n      <td>got my 10th vaccine dose today. how many y’all...</td>\n      <td>0</td>\n      <td>1</td>\n    </tr>\n    <tr>\n      <th>8418</th>\n      <td>1386908745750302721</td>\n      <td>Make Covaxin of Bharat Biotech a globally avai...</td>\n      <td>0</td>\n      <td>1</td>\n    </tr>\n    <tr>\n      <th>6669</th>\n      <td>1371470247107133442</td>\n      <td>Germany suspends use of the Oxford/AstraZeneca...</td>\n      <td>0</td>\n      <td>1</td>\n    </tr>\n    <tr>\n      <th>12107</th>\n      <td>1413311850880540675</td>\n      <td>Hasn’t Pfizer done enough harm?</td>\n      <td>0</td>\n      <td>1</td>\n    </tr>\n    <tr>\n      <th>8859</th>\n      <td>1390401454892978177</td>\n      <td>People who are afraid of the vaccine because i...</td>\n      <td>1</td>\n      <td>0</td>\n    </tr>\n    <tr>\n      <th>10080</th>\n      <td>1388308341366083586</td>\n      <td>The vaccine contains an anti-stupid serum.  Th...</td>\n      <td>0</td>\n      <td>1</td>\n    </tr>\n    <tr>\n      <th>2212</th>\n      <td>1346714799032307712</td>\n      <td>Vaccine should only be rolled out for high ris...</td>\n      <td>0</td>\n      <td>1</td>\n    </tr>\n    <tr>\n      <th>2182</th>\n      <td>1346763524891156480</td>\n      <td>Why didn't Chris answer the question about the...</td>\n      <td>0</td>\n      <td>1</td>\n    </tr>\n    <tr>\n      <th>379</th>\n      <td>1344293096532676609</td>\n      <td>#econtwitter : discussions on papers, runs,  R...</td>\n      <td>1</td>\n      <td>0</td>\n    </tr>\n    <tr>\n      <th>3885</th>\n      <td>1360292867198119938</td>\n      <td>The Stand | The Truth About the COVID-19 #Expe...</td>\n      <td>0</td>\n      <td>1</td>\n    </tr>\n    <tr>\n      <th>1995</th>\n      <td>1346889535406403587</td>\n      <td>Allergic reactions including anaphylaxis after...</td>\n      <td>0</td>\n      <td>1</td>\n    </tr>\n    <tr>\n      <th>1666</th>\n      <td>1346964683345940482</td>\n      <td>#COVIDvaccine Side effects\\n21 persons experie...</td>\n      <td>0</td>\n      <td>1</td>\n    </tr>\n  </tbody>\n</table>\n</div>"
     },
     "execution_count": 16,
     "metadata": {},
     "output_type": "execute_result"
    }
   ],
   "source": [
    "X_test['is_misinfo_pred'] = y_pred\n",
    "X_test['is_misinfo_true'] = y_test\n",
    "X_test.loc[~(X_test['is_misinfo_pred'] == X_test['is_misinfo_true'])]"
   ],
   "metadata": {
    "collapsed": false,
    "pycharm": {
     "name": "#%%\n"
    }
   }
  },
  {
   "cell_type": "code",
   "execution_count": 16,
   "outputs": [],
   "source": [],
   "metadata": {
    "collapsed": false,
    "pycharm": {
     "name": "#%%\n"
    }
   }
  },
  {
   "cell_type": "code",
   "execution_count": 17,
   "outputs": [
    {
     "name": "stdout",
     "output_type": "stream",
     "text": [
      "Confusion Matrix\n",
      "[[2419   22]\n",
      " [  38 1211]]\n"
     ]
    },
    {
     "data": {
      "text/plain": "<Figure size 432x288 with 2 Axes>",
      "image/png": "[encoded data removed]"
     },
     "metadata": {
      "needs_background": "light"
     },
     "output_type": "display_data"
    },
    {
     "name": "stdout",
     "output_type": "stream",
     "text": [
      "\n",
      "Classification Report\n",
      "              precision    recall  f1-score   support\n",
      "\n",
      "           0       0.98      0.99      0.99      2441\n",
      "           1       0.98      0.97      0.98      1249\n",
      "\n",
      "    accuracy                           0.98      3690\n",
      "   macro avg       0.98      0.98      0.98      3690\n",
      "weighted avg       0.98      0.98      0.98      3690\n",
      "\n"
     ]
    }
   ],
   "source": [
    "y_pred = sgd_classifier.predict(x_test_transformed)\n",
    "\n",
    "print(\"Confusion Matrix\")\n",
    "cf_matrix = confusion_matrix(y_test, y_pred)\n",
    "print(cf_matrix)\n",
    "\n",
    "ax = sns.heatmap(cf_matrix, annot=True, fmt='.0f', cmap='Blues')\n",
    "\n",
    "ax.set_title('Confusion Matrix with labels\\n\\n')\n",
    "ax.set_xlabel('\\nPredicted Values')\n",
    "ax.set_ylabel('Actual Values ')\n",
    "\n",
    "## Ticket labels - List must be in alphabetical order\n",
    "ax.xaxis.set_ticklabels(['Negative','Positive'])\n",
    "ax.yaxis.set_ticklabels(['Negative','Positive'])\n",
    "\n",
    "## Display the visualization of the Confusion Matrix.\n",
    "plt.show()\n",
    "\n",
    "# Classification Report\n",
    "print(\"\\nClassification Report\")\n",
    "report = classification_report(y_test, y_pred)\n",
    "print(report)"
   ],
   "metadata": {
    "collapsed": false,
    "pycharm": {
     "name": "#%%\n"
    }
   }
  },
  {
   "cell_type": "code",
   "execution_count": 18,
   "outputs": [
    {
     "data": {
      "text/plain": "                        id                                               text  \\\n8236   1387148412336869382  Doctors calling the vaccine  a bioweapond!\\n\\n...   \n4831   1358872934195089414  THE MANY LIES ABOUT COVID-19 &amp; VACCINE💉💉 h...   \n10633  1403937413077024771  That would be something if these businesses sa...   \n10839  1403530034888032259  The phrase “experimental vaccine” is the most ...   \n8113   1387249582682243074  There’s so much dangerous vaccine misinformati...   \n9978   1388316602752503810  Israel said probing link between Pfizer shot a...   \n3147   1345668354858754049  DEPOPULATION by VACCINE after VACCINE after VA...   \n1665   1346964919376355333            Don’t take the vaccine 🙏🏾they killin us   \n9757   1389160851760893953  #VaccineSideEffects #Moderna #NotFDAApproved #...   \n11877  1413496861273382916  This is for everyone excited about getting the...   \n3981   1360262240352546818  Take whatever COVID vaccine you can get. All o...   \n10028  1388312040310149122  Stay Away From The Vaxxed, It Is Official, Fro...   \n2551   1346549586521948163  All these people who think the world will just...   \n8995   1390294319286800384  ppl that think the covid vaccine is dangerous ...   \n7502   1387654765333475331  No, COVID-19 vaccines aren't \"gene therapy\" an...   \n4943   1358453799321554944  For people who say it is an 'experimental vacc...   \n1643   1346967884400971779  Severe allergic reactions to @pfizer's coronav...   \n10544  1404136332822138883  Yay. What dumbasses to think it's ok to spread...   \n9074   1390206974634176514  We can't ignore the link between the COVID vac...   \n3990   1360261907307847685  How many more have to die from #COVID19? \\n\\nT...   \n11289  1402804399064354822  If #JoeBiden is buying and pushing the 'TRIAL'...   \n2813   1346277228594802688  “Mass Sterilization”: Kenyan Doctors Find Anti...   \n9663   1389356923963658241  Currently rumours are being spread all over th...   \n6292   1372780548918190085  Depopulationist Pentagon pushing for kinetic w...   \n9450   1389867929848647680  COVID Vaccine Media Advisory: Genocidal biomed...   \n2828   1346258223876083713  I have the option to get the vaccine but the w...   \n9531   1389645100494491652  And when Pfizer gets FDA approval what excuse ...   \n3279   1345032703553515520  The Covid Vaccine Is an Anti-fertility Vaccine...   \n9688   1389301684023828482  They’re coming for everyone y’all. Stay ready....   \n8860   1390400466446700546  I received the second dose of the Pfizer vacci...   \n10120  1388304842167263240  Coronavirus conspiracy theories: how vaccine i...   \n9174   1390090522035834880  My dad : you took and untested vaccine and it ...   \n7496   1387661021230231553  China wants to build a coalition to fight agai...   \n1743   1346918277734424579  $PFE Confirms will evaluate Covid-19 vaccine i...   \n10469  1404270973726171147  Fact check: Document does not show the COVID-1...   \n6805   1388277015338381313  Stay Away From The Vaxxed, It Is Official, Fro...   \n2646   1346509513994760192  Sanford Vice President Dr. Doug Griffin states...   \n8154   1387198574593728512  For all those that say they won't get the Covi...   \n2009   1346888430072942593  Do people still want to receive the \"vaccine\"?...   \n9038   1390260371513020417  Sharing false information about the #COVIDVacc...   \n1813   1346902552198209538  THEY rushed out this vaccine, but no one wants...   \n1874   1346898915006664704  If one dose of the vaccine is ok, well why bot...   \n9999   1388314485513879552  Covid vaccine: More people suffer from side ef...   \n1599   1341950378879844352  polyethylene glycol #PEG causing severe allerg...   \n2923   1346196014609395713  Covid vaccine and male fertility, DO NOT HAVE ...   \n8862   1390399506542436354  There is no evidence that COVID-19 vaccines ca...   \n385    1344289312926527488  Vaccines are Safe, No Matter What Bobby Kenned...   \n8546   1386198546219679744  Watch Dr. Fauci Shut Down Senator Ron Johnson'...   \n10158  1388297924786991104  got my 10th vaccine dose today. how many y’all...   \n8418   1386908745750302721  Make Covaxin of Bharat Biotech a globally avai...   \n6669   1371470247107133442  Germany suspends use of the Oxford/AstraZeneca...   \n12107  1413311850880540675                    Hasn’t Pfizer done enough harm?   \n8859   1390401454892978177  People who are afraid of the vaccine because i...   \n10080  1388308341366083586  The vaccine contains an anti-stupid serum.  Th...   \n2212   1346714799032307712  Vaccine should only be rolled out for high ris...   \n2182   1346763524891156480  Why didn't Chris answer the question about the...   \n379    1344293096532676609  #econtwitter : discussions on papers, runs,  R...   \n3885   1360292867198119938  The Stand | The Truth About the COVID-19 #Expe...   \n1995   1346889535406403587  Allergic reactions including anaphylaxis after...   \n1666   1346964683345940482  #COVIDvaccine Side effects\\n21 persons experie...   \n\n       is_misinfo_pred  is_misinfo_true  \n8236                 0                1  \n4831                 0                1  \n10633                0                1  \n10839                1                0  \n8113                 1                0  \n9978                 0                1  \n3147                 0                1  \n1665                 0                1  \n9757                 0                1  \n11877                0                1  \n3981                 1                0  \n10028                0                1  \n2551                 0                1  \n8995                 1                0  \n7502                 1                0  \n4943                 1                0  \n1643                 0                1  \n10544                1                0  \n9074                 0                1  \n3990                 0                1  \n11289                0                1  \n2813                 0                1  \n9663                 1                0  \n6292                 0                1  \n9450                 0                1  \n2828                 0                1  \n9531                 1                0  \n3279                 0                1  \n9688                 0                1  \n8860                 0                1  \n10120                1                0  \n9174                 1                0  \n7496                 0                1  \n1743                 1                0  \n10469                1                0  \n6805                 0                1  \n2646                 1                0  \n8154                 1                0  \n2009                 0                1  \n9038                 1                0  \n1813                 1                0  \n1874                 0                1  \n9999                 0                1  \n1599                 0                1  \n2923                 0                1  \n8862                 1                0  \n385                  1                0  \n8546                 1                0  \n10158                0                1  \n8418                 0                1  \n6669                 0                1  \n12107                0                1  \n8859                 1                0  \n10080                0                1  \n2212                 0                1  \n2182                 0                1  \n379                  1                0  \n3885                 0                1  \n1995                 0                1  \n1666                 0                1  ",
      "text/html": "<div>\n<style scoped>\n    .dataframe tbody tr th:only-of-type {\n        vertical-align: middle;\n    }\n\n    .dataframe tbody tr th {\n        vertical-align: top;\n    }\n\n    .dataframe thead th {\n        text-align: right;\n    }\n</style>\n<table border=\"1\" class=\"dataframe\">\n  <thead>\n    <tr style=\"text-align: right;\">\n      <th></th>\n      <th>id</th>\n      <th>text</th>\n      <th>is_misinfo_pred</th>\n      <th>is_misinfo_true</th>\n    </tr>\n  </thead>\n  <tbody>\n    <tr>\n      <th>8236</th>\n      <td>1387148412336869382</td>\n      <td>Doctors calling the vaccine  a bioweapond!\\n\\n...</td>\n      <td>0</td>\n      <td>1</td>\n    </tr>\n    <tr>\n      <th>4831</th>\n      <td>1358872934195089414</td>\n      <td>THE MANY LIES ABOUT COVID-19 &amp;amp; VACCINE💉💉 h...</td>\n      <td>0</td>\n      <td>1</td>\n    </tr>\n    <tr>\n      <th>10633</th>\n      <td>1403937413077024771</td>\n      <td>That would be something if these businesses sa...</td>\n      <td>0</td>\n      <td>1</td>\n    </tr>\n    <tr>\n      <th>10839</th>\n      <td>1403530034888032259</td>\n      <td>The phrase “experimental vaccine” is the most ...</td>\n      <td>1</td>\n      <td>0</td>\n    </tr>\n    <tr>\n      <th>8113</th>\n      <td>1387249582682243074</td>\n      <td>There’s so much dangerous vaccine misinformati...</td>\n      <td>1</td>\n      <td>0</td>\n    </tr>\n    <tr>\n      <th>9978</th>\n      <td>1388316602752503810</td>\n      <td>Israel said probing link between Pfizer shot a...</td>\n      <td>0</td>\n      <td>1</td>\n    </tr>\n    <tr>\n      <th>3147</th>\n      <td>1345668354858754049</td>\n      <td>DEPOPULATION by VACCINE after VACCINE after VA...</td>\n      <td>0</td>\n      <td>1</td>\n    </tr>\n    <tr>\n      <th>1665</th>\n      <td>1346964919376355333</td>\n      <td>Don’t take the vaccine 🙏🏾they killin us</td>\n      <td>0</td>\n      <td>1</td>\n    </tr>\n    <tr>\n      <th>9757</th>\n      <td>1389160851760893953</td>\n      <td>#VaccineSideEffects #Moderna #NotFDAApproved #...</td>\n      <td>0</td>\n      <td>1</td>\n    </tr>\n    <tr>\n      <th>11877</th>\n      <td>1413496861273382916</td>\n      <td>This is for everyone excited about getting the...</td>\n      <td>0</td>\n      <td>1</td>\n    </tr>\n    <tr>\n      <th>3981</th>\n      <td>1360262240352546818</td>\n      <td>Take whatever COVID vaccine you can get. All o...</td>\n      <td>1</td>\n      <td>0</td>\n    </tr>\n    <tr>\n      <th>10028</th>\n      <td>1388312040310149122</td>\n      <td>Stay Away From The Vaxxed, It Is Official, Fro...</td>\n      <td>0</td>\n      <td>1</td>\n    </tr>\n    <tr>\n      <th>2551</th>\n      <td>1346549586521948163</td>\n      <td>All these people who think the world will just...</td>\n      <td>0</td>\n      <td>1</td>\n    </tr>\n    <tr>\n      <th>8995</th>\n      <td>1390294319286800384</td>\n      <td>ppl that think the covid vaccine is dangerous ...</td>\n      <td>1</td>\n      <td>0</td>\n    </tr>\n    <tr>\n      <th>7502</th>\n      <td>1387654765333475331</td>\n      <td>No, COVID-19 vaccines aren't \"gene therapy\" an...</td>\n      <td>1</td>\n      <td>0</td>\n    </tr>\n    <tr>\n      <th>4943</th>\n      <td>1358453799321554944</td>\n      <td>For people who say it is an 'experimental vacc...</td>\n      <td>1</td>\n      <td>0</td>\n    </tr>\n    <tr>\n      <th>1643</th>\n      <td>1346967884400971779</td>\n      <td>Severe allergic reactions to @pfizer's coronav...</td>\n      <td>0</td>\n      <td>1</td>\n    </tr>\n    <tr>\n      <th>10544</th>\n      <td>1404136332822138883</td>\n      <td>Yay. What dumbasses to think it's ok to spread...</td>\n      <td>1</td>\n      <td>0</td>\n    </tr>\n    <tr>\n      <th>9074</th>\n      <td>1390206974634176514</td>\n      <td>We can't ignore the link between the COVID vac...</td>\n      <td>0</td>\n      <td>1</td>\n    </tr>\n    <tr>\n      <th>3990</th>\n      <td>1360261907307847685</td>\n      <td>How many more have to die from #COVID19? \\n\\nT...</td>\n      <td>0</td>\n      <td>1</td>\n    </tr>\n    <tr>\n      <th>11289</th>\n      <td>1402804399064354822</td>\n      <td>If #JoeBiden is buying and pushing the 'TRIAL'...</td>\n      <td>0</td>\n      <td>1</td>\n    </tr>\n    <tr>\n      <th>2813</th>\n      <td>1346277228594802688</td>\n      <td>“Mass Sterilization”: Kenyan Doctors Find Anti...</td>\n      <td>0</td>\n      <td>1</td>\n    </tr>\n    <tr>\n      <th>9663</th>\n      <td>1389356923963658241</td>\n      <td>Currently rumours are being spread all over th...</td>\n      <td>1</td>\n      <td>0</td>\n    </tr>\n    <tr>\n      <th>6292</th>\n      <td>1372780548918190085</td>\n      <td>Depopulationist Pentagon pushing for kinetic w...</td>\n      <td>0</td>\n      <td>1</td>\n    </tr>\n    <tr>\n      <th>9450</th>\n      <td>1389867929848647680</td>\n      <td>COVID Vaccine Media Advisory: Genocidal biomed...</td>\n      <td>0</td>\n      <td>1</td>\n    </tr>\n    <tr>\n      <th>2828</th>\n      <td>1346258223876083713</td>\n      <td>I have the option to get the vaccine but the w...</td>\n      <td>0</td>\n      <td>1</td>\n    </tr>\n    <tr>\n      <th>9531</th>\n      <td>1389645100494491652</td>\n      <td>And when Pfizer gets FDA approval what excuse ...</td>\n      <td>1</td>\n      <td>0</td>\n    </tr>\n    <tr>\n      <th>3279</th>\n      <td>1345032703553515520</td>\n      <td>The Covid Vaccine Is an Anti-fertility Vaccine...</td>\n      <td>0</td>\n      <td>1</td>\n    </tr>\n    <tr>\n      <th>9688</th>\n      <td>1389301684023828482</td>\n      <td>They’re coming for everyone y’all. Stay ready....</td>\n      <td>0</td>\n      <td>1</td>\n    </tr>\n    <tr>\n      <th>8860</th>\n      <td>1390400466446700546</td>\n      <td>I received the second dose of the Pfizer vacci...</td>\n      <td>0</td>\n      <td>1</td>\n    </tr>\n    <tr>\n      <th>10120</th>\n      <td>1388304842167263240</td>\n      <td>Coronavirus conspiracy theories: how vaccine i...</td>\n      <td>1</td>\n      <td>0</td>\n    </tr>\n    <tr>\n      <th>9174</th>\n      <td>1390090522035834880</td>\n      <td>My dad : you took and untested vaccine and it ...</td>\n      <td>1</td>\n      <td>0</td>\n    </tr>\n    <tr>\n      <th>7496</th>\n      <td>1387661021230231553</td>\n      <td>China wants to build a coalition to fight agai...</td>\n      <td>0</td>\n      <td>1</td>\n    </tr>\n    <tr>\n      <th>1743</th>\n      <td>1346918277734424579</td>\n      <td>$PFE Confirms will evaluate Covid-19 vaccine i...</td>\n      <td>1</td>\n      <td>0</td>\n    </tr>\n    <tr>\n      <th>10469</th>\n      <td>1404270973726171147</td>\n      <td>Fact check: Document does not show the COVID-1...</td>\n      <td>1</td>\n      <td>0</td>\n    </tr>\n    <tr>\n      <th>6805</th>\n      <td>1388277015338381313</td>\n      <td>Stay Away From The Vaxxed, It Is Official, Fro...</td>\n      <td>0</td>\n      <td>1</td>\n    </tr>\n    <tr>\n      <th>2646</th>\n      <td>1346509513994760192</td>\n      <td>Sanford Vice President Dr. Doug Griffin states...</td>\n      <td>1</td>\n      <td>0</td>\n    </tr>\n    <tr>\n      <th>8154</th>\n      <td>1387198574593728512</td>\n      <td>For all those that say they won't get the Covi...</td>\n      <td>1</td>\n      <td>0</td>\n    </tr>\n    <tr>\n      <th>2009</th>\n      <td>1346888430072942593</td>\n      <td>Do people still want to receive the \"vaccine\"?...</td>\n      <td>0</td>\n      <td>1</td>\n    </tr>\n    <tr>\n      <th>9038</th>\n      <td>1390260371513020417</td>\n      <td>Sharing false information about the #COVIDVacc...</td>\n      <td>1</td>\n      <td>0</td>\n    </tr>\n    <tr>\n      <th>1813</th>\n      <td>1346902552198209538</td>\n      <td>THEY rushed out this vaccine, but no one wants...</td>\n      <td>1</td>\n      <td>0</td>\n    </tr>\n    <tr>\n      <th>1874</th>\n      <td>1346898915006664704</td>\n      <td>If one dose of the vaccine is ok, well why bot...</td>\n      <td>0</td>\n      <td>1</td>\n    </tr>\n    <tr>\n      <th>9999</th>\n      <td>1388314485513879552</td>\n      <td>Covid vaccine: More people suffer from side ef...</td>\n      <td>0</td>\n      <td>1</td>\n    </tr>\n    <tr>\n      <th>1599</th>\n      <td>1341950378879844352</td>\n      <td>polyethylene glycol #PEG causing severe allerg...</td>\n      <td>0</td>\n      <td>1</td>\n    </tr>\n    <tr>\n      <th>2923</th>\n      <td>1346196014609395713</td>\n      <td>Covid vaccine and male fertility, DO NOT HAVE ...</td>\n      <td>0</td>\n      <td>1</td>\n    </tr>\n    <tr>\n      <th>8862</th>\n      <td>1390399506542436354</td>\n      <td>There is no evidence that COVID-19 vaccines ca...</td>\n      <td>1</td>\n      <td>0</td>\n    </tr>\n    <tr>\n      <th>385</th>\n      <td>1344289312926527488</td>\n      <td>Vaccines are Safe, No Matter What Bobby Kenned...</td>\n      <td>1</td>\n      <td>0</td>\n    </tr>\n    <tr>\n      <th>8546</th>\n      <td>1386198546219679744</td>\n      <td>Watch Dr. Fauci Shut Down Senator Ron Johnson'...</td>\n      <td>1</td>\n      <td>0</td>\n    </tr>\n    <tr>\n      <th>10158</th>\n      <td>1388297924786991104</td>\n      <td>got my 10th vaccine dose today. how many y’all...</td>\n      <td>0</td>\n      <td>1</td>\n    </tr>\n    <tr>\n      <th>8418</th>\n      <td>1386908745750302721</td>\n      <td>Make Covaxin of Bharat Biotech a globally avai...</td>\n      <td>0</td>\n      <td>1</td>\n    </tr>\n    <tr>\n      <th>6669</th>\n      <td>1371470247107133442</td>\n      <td>Germany suspends use of the Oxford/AstraZeneca...</td>\n      <td>0</td>\n      <td>1</td>\n    </tr>\n    <tr>\n      <th>12107</th>\n      <td>1413311850880540675</td>\n      <td>Hasn’t Pfizer done enough harm?</td>\n      <td>0</td>\n      <td>1</td>\n    </tr>\n    <tr>\n      <th>8859</th>\n      <td>1390401454892978177</td>\n      <td>People who are afraid of the vaccine because i...</td>\n      <td>1</td>\n      <td>0</td>\n    </tr>\n    <tr>\n      <th>10080</th>\n      <td>1388308341366083586</td>\n      <td>The vaccine contains an anti-stupid serum.  Th...</td>\n      <td>0</td>\n      <td>1</td>\n    </tr>\n    <tr>\n      <th>2212</th>\n      <td>1346714799032307712</td>\n      <td>Vaccine should only be rolled out for high ris...</td>\n      <td>0</td>\n      <td>1</td>\n    </tr>\n    <tr>\n      <th>2182</th>\n      <td>1346763524891156480</td>\n      <td>Why didn't Chris answer the question about the...</td>\n      <td>0</td>\n      <td>1</td>\n    </tr>\n    <tr>\n      <th>379</th>\n      <td>1344293096532676609</td>\n      <td>#econtwitter : discussions on papers, runs,  R...</td>\n      <td>1</td>\n      <td>0</td>\n    </tr>\n    <tr>\n      <th>3885</th>\n      <td>1360292867198119938</td>\n      <td>The Stand | The Truth About the COVID-19 #Expe...</td>\n      <td>0</td>\n      <td>1</td>\n    </tr>\n    <tr>\n      <th>1995</th>\n      <td>1346889535406403587</td>\n      <td>Allergic reactions including anaphylaxis after...</td>\n      <td>0</td>\n      <td>1</td>\n    </tr>\n    <tr>\n      <th>1666</th>\n      <td>1346964683345940482</td>\n      <td>#COVIDvaccine Side effects\\n21 persons experie...</td>\n      <td>0</td>\n      <td>1</td>\n    </tr>\n  </tbody>\n</table>\n</div>"
     },
     "execution_count": 18,
     "metadata": {},
     "output_type": "execute_result"
    }
   ],
   "source": [
    "X_test['is_misinfo_pred'] = y_pred\n",
    "X_test['is_misinfo_true'] = y_test\n",
    "X_test.loc[~(X_test['is_misinfo_pred'] == X_test['is_misinfo_true'])]"
   ],
   "metadata": {
    "collapsed": false,
    "pycharm": {
     "name": "#%%\n"
    }
   }
  },
  {
   "cell_type": "code",
   "execution_count": 18,
   "outputs": [],
   "source": [],
   "metadata": {
    "collapsed": false,
    "pycharm": {
     "name": "#%%\n"
    }
   }
  },
  {
   "cell_type": "code",
   "execution_count": 19,
   "outputs": [
    {
     "name": "stdout",
     "output_type": "stream",
     "text": [
      "Confusion Matrix\n",
      "[[2419   22]\n",
      " [  38 1211]]\n"
     ]
    },
    {
     "data": {
      "text/plain": "<Figure size 432x288 with 2 Axes>",
      "image/png": "[encoded data removed]"
     },
     "metadata": {
      "needs_background": "light"
     },
     "output_type": "display_data"
    },
    {
     "name": "stdout",
     "output_type": "stream",
     "text": [
      "\n",
      "Classification Report\n",
      "              precision    recall  f1-score   support\n",
      "\n",
      "           0       0.98      0.99      0.99      2441\n",
      "           1       0.98      0.97      0.98      1249\n",
      "\n",
      "    accuracy                           0.98      3690\n",
      "   macro avg       0.98      0.98      0.98      3690\n",
      "weighted avg       0.98      0.98      0.98      3690\n",
      "\n"
     ]
    }
   ],
   "source": [
    "y_pred = sgd_classifier.predict(x_test_transformed)\n",
    "\n",
    "print(\"Confusion Matrix\")\n",
    "cf_matrix = confusion_matrix(y_test, y_pred)\n",
    "print(cf_matrix)\n",
    "\n",
    "ax = sns.heatmap(cf_matrix, annot=True, fmt='.0f', cmap='Blues')\n",
    "\n",
    "ax.set_title('Confusion Matrix with labels\\n\\n')\n",
    "ax.set_xlabel('\\nPredicted Values')\n",
    "ax.set_ylabel('Actual Values ')\n",
    "\n",
    "## Ticket labels - List must be in alphabetical order\n",
    "ax.xaxis.set_ticklabels(['Negative','Positive'])\n",
    "ax.yaxis.set_ticklabels(['Negative','Positive'])\n",
    "\n",
    "## Display the visualization of the Confusion Matrix.\n",
    "plt.show()\n",
    "\n",
    "# Classification Report\n",
    "print(\"\\nClassification Report\")\n",
    "report = classification_report(y_test, y_pred)\n",
    "print(report)"
   ],
   "metadata": {
    "collapsed": false,
    "pycharm": {
     "name": "#%%\n"
    }
   }
  },
  {
   "cell_type": "code",
   "execution_count": 20,
   "outputs": [
    {
     "data": {
      "text/plain": "                        id                                               text  \\\n8236   1387148412336869382  Doctors calling the vaccine  a bioweapond!\\n\\n...   \n4831   1358872934195089414  THE MANY LIES ABOUT COVID-19 &amp; VACCINE💉💉 h...   \n10633  1403937413077024771  That would be something if these businesses sa...   \n10839  1403530034888032259  The phrase “experimental vaccine” is the most ...   \n8113   1387249582682243074  There’s so much dangerous vaccine misinformati...   \n9978   1388316602752503810  Israel said probing link between Pfizer shot a...   \n3147   1345668354858754049  DEPOPULATION by VACCINE after VACCINE after VA...   \n1665   1346964919376355333            Don’t take the vaccine 🙏🏾they killin us   \n9757   1389160851760893953  #VaccineSideEffects #Moderna #NotFDAApproved #...   \n11877  1413496861273382916  This is for everyone excited about getting the...   \n3981   1360262240352546818  Take whatever COVID vaccine you can get. All o...   \n10028  1388312040310149122  Stay Away From The Vaxxed, It Is Official, Fro...   \n2551   1346549586521948163  All these people who think the world will just...   \n8995   1390294319286800384  ppl that think the covid vaccine is dangerous ...   \n7502   1387654765333475331  No, COVID-19 vaccines aren't \"gene therapy\" an...   \n4943   1358453799321554944  For people who say it is an 'experimental vacc...   \n1643   1346967884400971779  Severe allergic reactions to @pfizer's coronav...   \n10544  1404136332822138883  Yay. What dumbasses to think it's ok to spread...   \n9074   1390206974634176514  We can't ignore the link between the COVID vac...   \n3990   1360261907307847685  How many more have to die from #COVID19? \\n\\nT...   \n11289  1402804399064354822  If #JoeBiden is buying and pushing the 'TRIAL'...   \n2813   1346277228594802688  “Mass Sterilization”: Kenyan Doctors Find Anti...   \n9663   1389356923963658241  Currently rumours are being spread all over th...   \n6292   1372780548918190085  Depopulationist Pentagon pushing for kinetic w...   \n9450   1389867929848647680  COVID Vaccine Media Advisory: Genocidal biomed...   \n2828   1346258223876083713  I have the option to get the vaccine but the w...   \n9531   1389645100494491652  And when Pfizer gets FDA approval what excuse ...   \n3279   1345032703553515520  The Covid Vaccine Is an Anti-fertility Vaccine...   \n9688   1389301684023828482  They’re coming for everyone y’all. Stay ready....   \n8860   1390400466446700546  I received the second dose of the Pfizer vacci...   \n10120  1388304842167263240  Coronavirus conspiracy theories: how vaccine i...   \n9174   1390090522035834880  My dad : you took and untested vaccine and it ...   \n7496   1387661021230231553  China wants to build a coalition to fight agai...   \n1743   1346918277734424579  $PFE Confirms will evaluate Covid-19 vaccine i...   \n10469  1404270973726171147  Fact check: Document does not show the COVID-1...   \n6805   1388277015338381313  Stay Away From The Vaxxed, It Is Official, Fro...   \n2646   1346509513994760192  Sanford Vice President Dr. Doug Griffin states...   \n8154   1387198574593728512  For all those that say they won't get the Covi...   \n2009   1346888430072942593  Do people still want to receive the \"vaccine\"?...   \n9038   1390260371513020417  Sharing false information about the #COVIDVacc...   \n1813   1346902552198209538  THEY rushed out this vaccine, but no one wants...   \n1874   1346898915006664704  If one dose of the vaccine is ok, well why bot...   \n9999   1388314485513879552  Covid vaccine: More people suffer from side ef...   \n1599   1341950378879844352  polyethylene glycol #PEG causing severe allerg...   \n2923   1346196014609395713  Covid vaccine and male fertility, DO NOT HAVE ...   \n8862   1390399506542436354  There is no evidence that COVID-19 vaccines ca...   \n385    1344289312926527488  Vaccines are Safe, No Matter What Bobby Kenned...   \n8546   1386198546219679744  Watch Dr. Fauci Shut Down Senator Ron Johnson'...   \n10158  1388297924786991104  got my 10th vaccine dose today. how many y’all...   \n8418   1386908745750302721  Make Covaxin of Bharat Biotech a globally avai...   \n6669   1371470247107133442  Germany suspends use of the Oxford/AstraZeneca...   \n12107  1413311850880540675                    Hasn’t Pfizer done enough harm?   \n8859   1390401454892978177  People who are afraid of the vaccine because i...   \n10080  1388308341366083586  The vaccine contains an anti-stupid serum.  Th...   \n2212   1346714799032307712  Vaccine should only be rolled out for high ris...   \n2182   1346763524891156480  Why didn't Chris answer the question about the...   \n379    1344293096532676609  #econtwitter : discussions on papers, runs,  R...   \n3885   1360292867198119938  The Stand | The Truth About the COVID-19 #Expe...   \n1995   1346889535406403587  Allergic reactions including anaphylaxis after...   \n1666   1346964683345940482  #COVIDvaccine Side effects\\n21 persons experie...   \n\n       is_misinfo_pred  is_misinfo_true  \n8236                 0                1  \n4831                 0                1  \n10633                0                1  \n10839                1                0  \n8113                 1                0  \n9978                 0                1  \n3147                 0                1  \n1665                 0                1  \n9757                 0                1  \n11877                0                1  \n3981                 1                0  \n10028                0                1  \n2551                 0                1  \n8995                 1                0  \n7502                 1                0  \n4943                 1                0  \n1643                 0                1  \n10544                1                0  \n9074                 0                1  \n3990                 0                1  \n11289                0                1  \n2813                 0                1  \n9663                 1                0  \n6292                 0                1  \n9450                 0                1  \n2828                 0                1  \n9531                 1                0  \n3279                 0                1  \n9688                 0                1  \n8860                 0                1  \n10120                1                0  \n9174                 1                0  \n7496                 0                1  \n1743                 1                0  \n10469                1                0  \n6805                 0                1  \n2646                 1                0  \n8154                 1                0  \n2009                 0                1  \n9038                 1                0  \n1813                 1                0  \n1874                 0                1  \n9999                 0                1  \n1599                 0                1  \n2923                 0                1  \n8862                 1                0  \n385                  1                0  \n8546                 1                0  \n10158                0                1  \n8418                 0                1  \n6669                 0                1  \n12107                0                1  \n8859                 1                0  \n10080                0                1  \n2212                 0                1  \n2182                 0                1  \n379                  1                0  \n3885                 0                1  \n1995                 0                1  \n1666                 0                1  ",
      "text/html": "<div>\n<style scoped>\n    .dataframe tbody tr th:only-of-type {\n        vertical-align: middle;\n    }\n\n    .dataframe tbody tr th {\n        vertical-align: top;\n    }\n\n    .dataframe thead th {\n        text-align: right;\n    }\n</style>\n<table border=\"1\" class=\"dataframe\">\n  <thead>\n    <tr style=\"text-align: right;\">\n      <th></th>\n      <th>id</th>\n      <th>text</th>\n      <th>is_misinfo_pred</th>\n      <th>is_misinfo_true</th>\n    </tr>\n  </thead>\n  <tbody>\n    <tr>\n      <th>8236</th>\n      <td>1387148412336869382</td>\n      <td>Doctors calling the vaccine  a bioweapond!\\n\\n...</td>\n      <td>0</td>\n      <td>1</td>\n    </tr>\n    <tr>\n      <th>4831</th>\n      <td>1358872934195089414</td>\n      <td>THE MANY LIES ABOUT COVID-19 &amp;amp; VACCINE💉💉 h...</td>\n      <td>0</td>\n      <td>1</td>\n    </tr>\n    <tr>\n      <th>10633</th>\n      <td>1403937413077024771</td>\n      <td>That would be something if these businesses sa...</td>\n      <td>0</td>\n      <td>1</td>\n    </tr>\n    <tr>\n      <th>10839</th>\n      <td>1403530034888032259</td>\n      <td>The phrase “experimental vaccine” is the most ...</td>\n      <td>1</td>\n      <td>0</td>\n    </tr>\n    <tr>\n      <th>8113</th>\n      <td>1387249582682243074</td>\n      <td>There’s so much dangerous vaccine misinformati...</td>\n      <td>1</td>\n      <td>0</td>\n    </tr>\n    <tr>\n      <th>9978</th>\n      <td>1388316602752503810</td>\n      <td>Israel said probing link between Pfizer shot a...</td>\n      <td>0</td>\n      <td>1</td>\n    </tr>\n    <tr>\n      <th>3147</th>\n      <td>1345668354858754049</td>\n      <td>DEPOPULATION by VACCINE after VACCINE after VA...</td>\n      <td>0</td>\n      <td>1</td>\n    </tr>\n    <tr>\n      <th>1665</th>\n      <td>1346964919376355333</td>\n      <td>Don’t take the vaccine 🙏🏾they killin us</td>\n      <td>0</td>\n      <td>1</td>\n    </tr>\n    <tr>\n      <th>9757</th>\n      <td>1389160851760893953</td>\n      <td>#VaccineSideEffects #Moderna #NotFDAApproved #...</td>\n      <td>0</td>\n      <td>1</td>\n    </tr>\n    <tr>\n      <th>11877</th>\n      <td>1413496861273382916</td>\n      <td>This is for everyone excited about getting the...</td>\n      <td>0</td>\n      <td>1</td>\n    </tr>\n    <tr>\n      <th>3981</th>\n      <td>1360262240352546818</td>\n      <td>Take whatever COVID vaccine you can get. All o...</td>\n      <td>1</td>\n      <td>0</td>\n    </tr>\n    <tr>\n      <th>10028</th>\n      <td>1388312040310149122</td>\n      <td>Stay Away From The Vaxxed, It Is Official, Fro...</td>\n      <td>0</td>\n      <td>1</td>\n    </tr>\n    <tr>\n      <th>2551</th>\n      <td>1346549586521948163</td>\n      <td>All these people who think the world will just...</td>\n      <td>0</td>\n      <td>1</td>\n    </tr>\n    <tr>\n      <th>8995</th>\n      <td>1390294319286800384</td>\n      <td>ppl that think the covid vaccine is dangerous ...</td>\n      <td>1</td>\n      <td>0</td>\n    </tr>\n    <tr>\n      <th>7502</th>\n      <td>1387654765333475331</td>\n      <td>No, COVID-19 vaccines aren't \"gene therapy\" an...</td>\n      <td>1</td>\n      <td>0</td>\n    </tr>\n    <tr>\n      <th>4943</th>\n      <td>1358453799321554944</td>\n      <td>For people who say it is an 'experimental vacc...</td>\n      <td>1</td>\n      <td>0</td>\n    </tr>\n    <tr>\n      <th>1643</th>\n      <td>1346967884400971779</td>\n      <td>Severe allergic reactions to @pfizer's coronav...</td>\n      <td>0</td>\n      <td>1</td>\n    </tr>\n    <tr>\n      <th>10544</th>\n      <td>1404136332822138883</td>\n      <td>Yay. What dumbasses to think it's ok to spread...</td>\n      <td>1</td>\n      <td>0</td>\n    </tr>\n    <tr>\n      <th>9074</th>\n      <td>1390206974634176514</td>\n      <td>We can't ignore the link between the COVID vac...</td>\n      <td>0</td>\n      <td>1</td>\n    </tr>\n    <tr>\n      <th>3990</th>\n      <td>1360261907307847685</td>\n      <td>How many more have to die from #COVID19? \\n\\nT...</td>\n      <td>0</td>\n      <td>1</td>\n    </tr>\n    <tr>\n      <th>11289</th>\n      <td>1402804399064354822</td>\n      <td>If #JoeBiden is buying and pushing the 'TRIAL'...</td>\n      <td>0</td>\n      <td>1</td>\n    </tr>\n    <tr>\n      <th>2813</th>\n      <td>1346277228594802688</td>\n      <td>“Mass Sterilization”: Kenyan Doctors Find Anti...</td>\n      <td>0</td>\n      <td>1</td>\n    </tr>\n    <tr>\n      <th>9663</th>\n      <td>1389356923963658241</td>\n      <td>Currently rumours are being spread all over th...</td>\n      <td>1</td>\n      <td>0</td>\n    </tr>\n    <tr>\n      <th>6292</th>\n      <td>1372780548918190085</td>\n      <td>Depopulationist Pentagon pushing for kinetic w...</td>\n      <td>0</td>\n      <td>1</td>\n    </tr>\n    <tr>\n      <th>9450</th>\n      <td>1389867929848647680</td>\n      <td>COVID Vaccine Media Advisory: Genocidal biomed...</td>\n      <td>0</td>\n      <td>1</td>\n    </tr>\n    <tr>\n      <th>2828</th>\n      <td>1346258223876083713</td>\n      <td>I have the option to get the vaccine but the w...</td>\n      <td>0</td>\n      <td>1</td>\n    </tr>\n    <tr>\n      <th>9531</th>\n      <td>1389645100494491652</td>\n      <td>And when Pfizer gets FDA approval what excuse ...</td>\n      <td>1</td>\n      <td>0</td>\n    </tr>\n    <tr>\n      <th>3279</th>\n      <td>1345032703553515520</td>\n      <td>The Covid Vaccine Is an Anti-fertility Vaccine...</td>\n      <td>0</td>\n      <td>1</td>\n    </tr>\n    <tr>\n      <th>9688</th>\n      <td>1389301684023828482</td>\n      <td>They’re coming for everyone y’all. Stay ready....</td>\n      <td>0</td>\n      <td>1</td>\n    </tr>\n    <tr>\n      <th>8860</th>\n      <td>1390400466446700546</td>\n      <td>I received the second dose of the Pfizer vacci...</td>\n      <td>0</td>\n      <td>1</td>\n    </tr>\n    <tr>\n      <th>10120</th>\n      <td>1388304842167263240</td>\n      <td>Coronavirus conspiracy theories: how vaccine i...</td>\n      <td>1</td>\n      <td>0</td>\n    </tr>\n    <tr>\n      <th>9174</th>\n      <td>1390090522035834880</td>\n      <td>My dad : you took and untested vaccine and it ...</td>\n      <td>1</td>\n      <td>0</td>\n    </tr>\n    <tr>\n      <th>7496</th>\n      <td>1387661021230231553</td>\n      <td>China wants to build a coalition to fight agai...</td>\n      <td>0</td>\n      <td>1</td>\n    </tr>\n    <tr>\n      <th>1743</th>\n      <td>1346918277734424579</td>\n      <td>$PFE Confirms will evaluate Covid-19 vaccine i...</td>\n      <td>1</td>\n      <td>0</td>\n    </tr>\n    <tr>\n      <th>10469</th>\n      <td>1404270973726171147</td>\n      <td>Fact check: Document does not show the COVID-1...</td>\n      <td>1</td>\n      <td>0</td>\n    </tr>\n    <tr>\n      <th>6805</th>\n      <td>1388277015338381313</td>\n      <td>Stay Away From The Vaxxed, It Is Official, Fro...</td>\n      <td>0</td>\n      <td>1</td>\n    </tr>\n    <tr>\n      <th>2646</th>\n      <td>1346509513994760192</td>\n      <td>Sanford Vice President Dr. Doug Griffin states...</td>\n      <td>1</td>\n      <td>0</td>\n    </tr>\n    <tr>\n      <th>8154</th>\n      <td>1387198574593728512</td>\n      <td>For all those that say they won't get the Covi...</td>\n      <td>1</td>\n      <td>0</td>\n    </tr>\n    <tr>\n      <th>2009</th>\n      <td>1346888430072942593</td>\n      <td>Do people still want to receive the \"vaccine\"?...</td>\n      <td>0</td>\n      <td>1</td>\n    </tr>\n    <tr>\n      <th>9038</th>\n      <td>1390260371513020417</td>\n      <td>Sharing false information about the #COVIDVacc...</td>\n      <td>1</td>\n      <td>0</td>\n    </tr>\n    <tr>\n      <th>1813</th>\n      <td>1346902552198209538</td>\n      <td>THEY rushed out this vaccine, but no one wants...</td>\n      <td>1</td>\n      <td>0</td>\n    </tr>\n    <tr>\n      <th>1874</th>\n      <td>1346898915006664704</td>\n      <td>If one dose of the vaccine is ok, well why bot...</td>\n      <td>0</td>\n      <td>1</td>\n    </tr>\n    <tr>\n      <th>9999</th>\n      <td>1388314485513879552</td>\n      <td>Covid vaccine: More people suffer from side ef...</td>\n      <td>0</td>\n      <td>1</td>\n    </tr>\n    <tr>\n      <th>1599</th>\n      <td>1341950378879844352</td>\n      <td>polyethylene glycol #PEG causing severe allerg...</td>\n      <td>0</td>\n      <td>1</td>\n    </tr>\n    <tr>\n      <th>2923</th>\n      <td>1346196014609395713</td>\n      <td>Covid vaccine and male fertility, DO NOT HAVE ...</td>\n      <td>0</td>\n      <td>1</td>\n    </tr>\n    <tr>\n      <th>8862</th>\n      <td>1390399506542436354</td>\n      <td>There is no evidence that COVID-19 vaccines ca...</td>\n      <td>1</td>\n      <td>0</td>\n    </tr>\n    <tr>\n      <th>385</th>\n      <td>1344289312926527488</td>\n      <td>Vaccines are Safe, No Matter What Bobby Kenned...</td>\n      <td>1</td>\n      <td>0</td>\n    </tr>\n    <tr>\n      <th>8546</th>\n      <td>1386198546219679744</td>\n      <td>Watch Dr. Fauci Shut Down Senator Ron Johnson'...</td>\n      <td>1</td>\n      <td>0</td>\n    </tr>\n    <tr>\n      <th>10158</th>\n      <td>1388297924786991104</td>\n      <td>got my 10th vaccine dose today. how many y’all...</td>\n      <td>0</td>\n      <td>1</td>\n    </tr>\n    <tr>\n      <th>8418</th>\n      <td>1386908745750302721</td>\n      <td>Make Covaxin of Bharat Biotech a globally avai...</td>\n      <td>0</td>\n      <td>1</td>\n    </tr>\n    <tr>\n      <th>6669</th>\n      <td>1371470247107133442</td>\n      <td>Germany suspends use of the Oxford/AstraZeneca...</td>\n      <td>0</td>\n      <td>1</td>\n    </tr>\n    <tr>\n      <th>12107</th>\n      <td>1413311850880540675</td>\n      <td>Hasn’t Pfizer done enough harm?</td>\n      <td>0</td>\n      <td>1</td>\n    </tr>\n    <tr>\n      <th>8859</th>\n      <td>1390401454892978177</td>\n      <td>People who are afraid of the vaccine because i...</td>\n      <td>1</td>\n      <td>0</td>\n    </tr>\n    <tr>\n      <th>10080</th>\n      <td>1388308341366083586</td>\n      <td>The vaccine contains an anti-stupid serum.  Th...</td>\n      <td>0</td>\n      <td>1</td>\n    </tr>\n    <tr>\n      <th>2212</th>\n      <td>1346714799032307712</td>\n      <td>Vaccine should only be rolled out for high ris...</td>\n      <td>0</td>\n      <td>1</td>\n    </tr>\n    <tr>\n      <th>2182</th>\n      <td>1346763524891156480</td>\n      <td>Why didn't Chris answer the question about the...</td>\n      <td>0</td>\n      <td>1</td>\n    </tr>\n    <tr>\n      <th>379</th>\n      <td>1344293096532676609</td>\n      <td>#econtwitter : discussions on papers, runs,  R...</td>\n      <td>1</td>\n      <td>0</td>\n    </tr>\n    <tr>\n      <th>3885</th>\n      <td>1360292867198119938</td>\n      <td>The Stand | The Truth About the COVID-19 #Expe...</td>\n      <td>0</td>\n      <td>1</td>\n    </tr>\n    <tr>\n      <th>1995</th>\n      <td>1346889535406403587</td>\n      <td>Allergic reactions including anaphylaxis after...</td>\n      <td>0</td>\n      <td>1</td>\n    </tr>\n    <tr>\n      <th>1666</th>\n      <td>1346964683345940482</td>\n      <td>#COVIDvaccine Side effects\\n21 persons experie...</td>\n      <td>0</td>\n      <td>1</td>\n    </tr>\n  </tbody>\n</table>\n</div>"
     },
     "execution_count": 20,
     "metadata": {},
     "output_type": "execute_result"
    }
   ],
   "source": [
    "X_test['is_misinfo_pred'] = y_pred\n",
    "X_test['is_misinfo_true'] = y_test\n",
    "X_test.loc[~(X_test['is_misinfo_pred'] == X_test['is_misinfo_true'])]"
   ],
   "metadata": {
    "collapsed": false,
    "pycharm": {
     "name": "#%%\n"
    }
   }
  },
  {
   "cell_type": "code",
   "execution_count": 20,
   "outputs": [],
   "source": [],
   "metadata": {
    "collapsed": false,
    "pycharm": {
     "name": "#%%\n"
    }
   }
  },
  {
   "cell_type": "code",
   "execution_count": 21,
   "outputs": [
    {
     "name": "stdout",
     "output_type": "stream",
     "text": [
      "Confusion Matrix\n",
      "[[2419   22]\n",
      " [  38 1211]]\n"
     ]
    },
    {
     "data": {
      "text/plain": "<Figure size 432x288 with 2 Axes>",
      "image/png": "[encoded data removed]"
     },
     "metadata": {
      "needs_background": "light"
     },
     "output_type": "display_data"
    },
    {
     "name": "stdout",
     "output_type": "stream",
     "text": [
      "\n",
      "Classification Report\n",
      "              precision    recall  f1-score   support\n",
      "\n",
      "           0       0.98      0.99      0.99      2441\n",
      "           1       0.98      0.97      0.98      1249\n",
      "\n",
      "    accuracy                           0.98      3690\n",
      "   macro avg       0.98      0.98      0.98      3690\n",
      "weighted avg       0.98      0.98      0.98      3690\n",
      "\n"
     ]
    }
   ],
   "source": [
    "y_pred = sgd_classifier.predict(x_test_transformed)\n",
    "\n",
    "print(\"Confusion Matrix\")\n",
    "cf_matrix = confusion_matrix(y_test, y_pred)\n",
    "print(cf_matrix)\n",
    "\n",
    "ax = sns.heatmap(cf_matrix, annot=True, fmt='.0f', cmap='Blues')\n",
    "\n",
    "ax.set_title('Confusion Matrix with labels\\n\\n')\n",
    "ax.set_xlabel('\\nPredicted Values')\n",
    "ax.set_ylabel('Actual Values ')\n",
    "\n",
    "## Ticket labels - List must be in alphabetical order\n",
    "ax.xaxis.set_ticklabels(['Negative','Positive'])\n",
    "ax.yaxis.set_ticklabels(['Negative','Positive'])\n",
    "\n",
    "## Display the visualization of the Confusion Matrix.\n",
    "plt.show()\n",
    "\n",
    "# Classification Report\n",
    "print(\"\\nClassification Report\")\n",
    "report = classification_report(y_test, y_pred)\n",
    "print(report)"
   ],
   "metadata": {
    "collapsed": false,
    "pycharm": {
     "name": "#%%\n"
    }
   }
  },
  {
   "cell_type": "code",
   "execution_count": 22,
   "outputs": [
    {
     "data": {
      "text/plain": "                        id                                               text  \\\n8236   1387148412336869382  Doctors calling the vaccine  a bioweapond!\\n\\n...   \n4831   1358872934195089414  THE MANY LIES ABOUT COVID-19 &amp; VACCINE💉💉 h...   \n10633  1403937413077024771  That would be something if these businesses sa...   \n10839  1403530034888032259  The phrase “experimental vaccine” is the most ...   \n8113   1387249582682243074  There’s so much dangerous vaccine misinformati...   \n9978   1388316602752503810  Israel said probing link between Pfizer shot a...   \n3147   1345668354858754049  DEPOPULATION by VACCINE after VACCINE after VA...   \n1665   1346964919376355333            Don’t take the vaccine 🙏🏾they killin us   \n9757   1389160851760893953  #VaccineSideEffects #Moderna #NotFDAApproved #...   \n11877  1413496861273382916  This is for everyone excited about getting the...   \n3981   1360262240352546818  Take whatever COVID vaccine you can get. All o...   \n10028  1388312040310149122  Stay Away From The Vaxxed, It Is Official, Fro...   \n2551   1346549586521948163  All these people who think the world will just...   \n8995   1390294319286800384  ppl that think the covid vaccine is dangerous ...   \n7502   1387654765333475331  No, COVID-19 vaccines aren't \"gene therapy\" an...   \n4943   1358453799321554944  For people who say it is an 'experimental vacc...   \n1643   1346967884400971779  Severe allergic reactions to @pfizer's coronav...   \n10544  1404136332822138883  Yay. What dumbasses to think it's ok to spread...   \n9074   1390206974634176514  We can't ignore the link between the COVID vac...   \n3990   1360261907307847685  How many more have to die from #COVID19? \\n\\nT...   \n11289  1402804399064354822  If #JoeBiden is buying and pushing the 'TRIAL'...   \n2813   1346277228594802688  “Mass Sterilization”: Kenyan Doctors Find Anti...   \n9663   1389356923963658241  Currently rumours are being spread all over th...   \n6292   1372780548918190085  Depopulationist Pentagon pushing for kinetic w...   \n9450   1389867929848647680  COVID Vaccine Media Advisory: Genocidal biomed...   \n2828   1346258223876083713  I have the option to get the vaccine but the w...   \n9531   1389645100494491652  And when Pfizer gets FDA approval what excuse ...   \n3279   1345032703553515520  The Covid Vaccine Is an Anti-fertility Vaccine...   \n9688   1389301684023828482  They’re coming for everyone y’all. Stay ready....   \n8860   1390400466446700546  I received the second dose of the Pfizer vacci...   \n10120  1388304842167263240  Coronavirus conspiracy theories: how vaccine i...   \n9174   1390090522035834880  My dad : you took and untested vaccine and it ...   \n7496   1387661021230231553  China wants to build a coalition to fight agai...   \n1743   1346918277734424579  $PFE Confirms will evaluate Covid-19 vaccine i...   \n10469  1404270973726171147  Fact check: Document does not show the COVID-1...   \n6805   1388277015338381313  Stay Away From The Vaxxed, It Is Official, Fro...   \n2646   1346509513994760192  Sanford Vice President Dr. Doug Griffin states...   \n8154   1387198574593728512  For all those that say they won't get the Covi...   \n2009   1346888430072942593  Do people still want to receive the \"vaccine\"?...   \n9038   1390260371513020417  Sharing false information about the #COVIDVacc...   \n1813   1346902552198209538  THEY rushed out this vaccine, but no one wants...   \n1874   1346898915006664704  If one dose of the vaccine is ok, well why bot...   \n9999   1388314485513879552  Covid vaccine: More people suffer from side ef...   \n1599   1341950378879844352  polyethylene glycol #PEG causing severe allerg...   \n2923   1346196014609395713  Covid vaccine and male fertility, DO NOT HAVE ...   \n8862   1390399506542436354  There is no evidence that COVID-19 vaccines ca...   \n385    1344289312926527488  Vaccines are Safe, No Matter What Bobby Kenned...   \n8546   1386198546219679744  Watch Dr. Fauci Shut Down Senator Ron Johnson'...   \n10158  1388297924786991104  got my 10th vaccine dose today. how many y’all...   \n8418   1386908745750302721  Make Covaxin of Bharat Biotech a globally avai...   \n6669   1371470247107133442  Germany suspends use of the Oxford/AstraZeneca...   \n12107  1413311850880540675                    Hasn’t Pfizer done enough harm?   \n8859   1390401454892978177  People who are afraid of the vaccine because i...   \n10080  1388308341366083586  The vaccine contains an anti-stupid serum.  Th...   \n2212   1346714799032307712  Vaccine should only be rolled out for high ris...   \n2182   1346763524891156480  Why didn't Chris answer the question about the...   \n379    1344293096532676609  #econtwitter : discussions on papers, runs,  R...   \n3885   1360292867198119938  The Stand | The Truth About the COVID-19 #Expe...   \n1995   1346889535406403587  Allergic reactions including anaphylaxis after...   \n1666   1346964683345940482  #COVIDvaccine Side effects\\n21 persons experie...   \n\n       is_misinfo_pred  is_misinfo_true  \n8236                 0                1  \n4831                 0                1  \n10633                0                1  \n10839                1                0  \n8113                 1                0  \n9978                 0                1  \n3147                 0                1  \n1665                 0                1  \n9757                 0                1  \n11877                0                1  \n3981                 1                0  \n10028                0                1  \n2551                 0                1  \n8995                 1                0  \n7502                 1                0  \n4943                 1                0  \n1643                 0                1  \n10544                1                0  \n9074                 0                1  \n3990                 0                1  \n11289                0                1  \n2813                 0                1  \n9663                 1                0  \n6292                 0                1  \n9450                 0                1  \n2828                 0                1  \n9531                 1                0  \n3279                 0                1  \n9688                 0                1  \n8860                 0                1  \n10120                1                0  \n9174                 1                0  \n7496                 0                1  \n1743                 1                0  \n10469                1                0  \n6805                 0                1  \n2646                 1                0  \n8154                 1                0  \n2009                 0                1  \n9038                 1                0  \n1813                 1                0  \n1874                 0                1  \n9999                 0                1  \n1599                 0                1  \n2923                 0                1  \n8862                 1                0  \n385                  1                0  \n8546                 1                0  \n10158                0                1  \n8418                 0                1  \n6669                 0                1  \n12107                0                1  \n8859                 1                0  \n10080                0                1  \n2212                 0                1  \n2182                 0                1  \n379                  1                0  \n3885                 0                1  \n1995                 0                1  \n1666                 0                1  ",
      "text/html": "<div>\n<style scoped>\n    .dataframe tbody tr th:only-of-type {\n        vertical-align: middle;\n    }\n\n    .dataframe tbody tr th {\n        vertical-align: top;\n    }\n\n    .dataframe thead th {\n        text-align: right;\n    }\n</style>\n<table border=\"1\" class=\"dataframe\">\n  <thead>\n    <tr style=\"text-align: right;\">\n      <th></th>\n      <th>id</th>\n      <th>text</th>\n      <th>is_misinfo_pred</th>\n      <th>is_misinfo_true</th>\n    </tr>\n  </thead>\n  <tbody>\n    <tr>\n      <th>8236</th>\n      <td>1387148412336869382</td>\n      <td>Doctors calling the vaccine  a bioweapond!\\n\\n...</td>\n      <td>0</td>\n      <td>1</td>\n    </tr>\n    <tr>\n      <th>4831</th>\n      <td>1358872934195089414</td>\n      <td>THE MANY LIES ABOUT COVID-19 &amp;amp; VACCINE💉💉 h...</td>\n      <td>0</td>\n      <td>1</td>\n    </tr>\n    <tr>\n      <th>10633</th>\n      <td>1403937413077024771</td>\n      <td>That would be something if these businesses sa...</td>\n      <td>0</td>\n      <td>1</td>\n    </tr>\n    <tr>\n      <th>10839</th>\n      <td>1403530034888032259</td>\n      <td>The phrase “experimental vaccine” is the most ...</td>\n      <td>1</td>\n      <td>0</td>\n    </tr>\n    <tr>\n      <th>8113</th>\n      <td>1387249582682243074</td>\n      <td>There’s so much dangerous vaccine misinformati...</td>\n      <td>1</td>\n      <td>0</td>\n    </tr>\n    <tr>\n      <th>9978</th>\n      <td>1388316602752503810</td>\n      <td>Israel said probing link between Pfizer shot a...</td>\n      <td>0</td>\n      <td>1</td>\n    </tr>\n    <tr>\n      <th>3147</th>\n      <td>1345668354858754049</td>\n      <td>DEPOPULATION by VACCINE after VACCINE after VA...</td>\n      <td>0</td>\n      <td>1</td>\n    </tr>\n    <tr>\n      <th>1665</th>\n      <td>1346964919376355333</td>\n      <td>Don’t take the vaccine 🙏🏾they killin us</td>\n      <td>0</td>\n      <td>1</td>\n    </tr>\n    <tr>\n      <th>9757</th>\n      <td>1389160851760893953</td>\n      <td>#VaccineSideEffects #Moderna #NotFDAApproved #...</td>\n      <td>0</td>\n      <td>1</td>\n    </tr>\n    <tr>\n      <th>11877</th>\n      <td>1413496861273382916</td>\n      <td>This is for everyone excited about getting the...</td>\n      <td>0</td>\n      <td>1</td>\n    </tr>\n    <tr>\n      <th>3981</th>\n      <td>1360262240352546818</td>\n      <td>Take whatever COVID vaccine you can get. All o...</td>\n      <td>1</td>\n      <td>0</td>\n    </tr>\n    <tr>\n      <th>10028</th>\n      <td>1388312040310149122</td>\n      <td>Stay Away From The Vaxxed, It Is Official, Fro...</td>\n      <td>0</td>\n      <td>1</td>\n    </tr>\n    <tr>\n      <th>2551</th>\n      <td>1346549586521948163</td>\n      <td>All these people who think the world will just...</td>\n      <td>0</td>\n      <td>1</td>\n    </tr>\n    <tr>\n      <th>8995</th>\n      <td>1390294319286800384</td>\n      <td>ppl that think the covid vaccine is dangerous ...</td>\n      <td>1</td>\n      <td>0</td>\n    </tr>\n    <tr>\n      <th>7502</th>\n      <td>1387654765333475331</td>\n      <td>No, COVID-19 vaccines aren't \"gene therapy\" an...</td>\n      <td>1</td>\n      <td>0</td>\n    </tr>\n    <tr>\n      <th>4943</th>\n      <td>1358453799321554944</td>\n      <td>For people who say it is an 'experimental vacc...</td>\n      <td>1</td>\n      <td>0</td>\n    </tr>\n    <tr>\n      <th>1643</th>\n      <td>1346967884400971779</td>\n      <td>Severe allergic reactions to @pfizer's coronav...</td>\n      <td>0</td>\n      <td>1</td>\n    </tr>\n    <tr>\n      <th>10544</th>\n      <td>1404136332822138883</td>\n      <td>Yay. What dumbasses to think it's ok to spread...</td>\n      <td>1</td>\n      <td>0</td>\n    </tr>\n    <tr>\n      <th>9074</th>\n      <td>1390206974634176514</td>\n      <td>We can't ignore the link between the COVID vac...</td>\n      <td>0</td>\n      <td>1</td>\n    </tr>\n    <tr>\n      <th>3990</th>\n      <td>1360261907307847685</td>\n      <td>How many more have to die from #COVID19? \\n\\nT...</td>\n      <td>0</td>\n      <td>1</td>\n    </tr>\n    <tr>\n      <th>11289</th>\n      <td>1402804399064354822</td>\n      <td>If #JoeBiden is buying and pushing the 'TRIAL'...</td>\n      <td>0</td>\n      <td>1</td>\n    </tr>\n    <tr>\n      <th>2813</th>\n      <td>1346277228594802688</td>\n      <td>“Mass Sterilization”: Kenyan Doctors Find Anti...</td>\n      <td>0</td>\n      <td>1</td>\n    </tr>\n    <tr>\n      <th>9663</th>\n      <td>1389356923963658241</td>\n      <td>Currently rumours are being spread all over th...</td>\n      <td>1</td>\n      <td>0</td>\n    </tr>\n    <tr>\n      <th>6292</th>\n      <td>1372780548918190085</td>\n      <td>Depopulationist Pentagon pushing for kinetic w...</td>\n      <td>0</td>\n      <td>1</td>\n    </tr>\n    <tr>\n      <th>9450</th>\n      <td>1389867929848647680</td>\n      <td>COVID Vaccine Media Advisory: Genocidal biomed...</td>\n      <td>0</td>\n      <td>1</td>\n    </tr>\n    <tr>\n      <th>2828</th>\n      <td>1346258223876083713</td>\n      <td>I have the option to get the vaccine but the w...</td>\n      <td>0</td>\n      <td>1</td>\n    </tr>\n    <tr>\n      <th>9531</th>\n      <td>1389645100494491652</td>\n      <td>And when Pfizer gets FDA approval what excuse ...</td>\n      <td>1</td>\n      <td>0</td>\n    </tr>\n    <tr>\n      <th>3279</th>\n      <td>1345032703553515520</td>\n      <td>The Covid Vaccine Is an Anti-fertility Vaccine...</td>\n      <td>0</td>\n      <td>1</td>\n    </tr>\n    <tr>\n      <th>9688</th>\n      <td>1389301684023828482</td>\n      <td>They’re coming for everyone y’all. Stay ready....</td>\n      <td>0</td>\n      <td>1</td>\n    </tr>\n    <tr>\n      <th>8860</th>\n      <td>1390400466446700546</td>\n      <td>I received the second dose of the Pfizer vacci...</td>\n      <td>0</td>\n      <td>1</td>\n    </tr>\n    <tr>\n      <th>10120</th>\n      <td>1388304842167263240</td>\n      <td>Coronavirus conspiracy theories: how vaccine i...</td>\n      <td>1</td>\n      <td>0</td>\n    </tr>\n    <tr>\n      <th>9174</th>\n      <td>1390090522035834880</td>\n      <td>My dad : you took and untested vaccine and it ...</td>\n      <td>1</td>\n      <td>0</td>\n    </tr>\n    <tr>\n      <th>7496</th>\n      <td>1387661021230231553</td>\n      <td>China wants to build a coalition to fight agai...</td>\n      <td>0</td>\n      <td>1</td>\n    </tr>\n    <tr>\n      <th>1743</th>\n      <td>1346918277734424579</td>\n      <td>$PFE Confirms will evaluate Covid-19 vaccine i...</td>\n      <td>1</td>\n      <td>0</td>\n    </tr>\n    <tr>\n      <th>10469</th>\n      <td>1404270973726171147</td>\n      <td>Fact check: Document does not show the COVID-1...</td>\n      <td>1</td>\n      <td>0</td>\n    </tr>\n    <tr>\n      <th>6805</th>\n      <td>1388277015338381313</td>\n      <td>Stay Away From The Vaxxed, It Is Official, Fro...</td>\n      <td>0</td>\n      <td>1</td>\n    </tr>\n    <tr>\n      <th>2646</th>\n      <td>1346509513994760192</td>\n      <td>Sanford Vice President Dr. Doug Griffin states...</td>\n      <td>1</td>\n      <td>0</td>\n    </tr>\n    <tr>\n      <th>8154</th>\n      <td>1387198574593728512</td>\n      <td>For all those that say they won't get the Covi...</td>\n      <td>1</td>\n      <td>0</td>\n    </tr>\n    <tr>\n      <th>2009</th>\n      <td>1346888430072942593</td>\n      <td>Do people still want to receive the \"vaccine\"?...</td>\n      <td>0</td>\n      <td>1</td>\n    </tr>\n    <tr>\n      <th>9038</th>\n      <td>1390260371513020417</td>\n      <td>Sharing false information about the #COVIDVacc...</td>\n      <td>1</td>\n      <td>0</td>\n    </tr>\n    <tr>\n      <th>1813</th>\n      <td>1346902552198209538</td>\n      <td>THEY rushed out this vaccine, but no one wants...</td>\n      <td>1</td>\n      <td>0</td>\n    </tr>\n    <tr>\n      <th>1874</th>\n      <td>1346898915006664704</td>\n      <td>If one dose of the vaccine is ok, well why bot...</td>\n      <td>0</td>\n      <td>1</td>\n    </tr>\n    <tr>\n      <th>9999</th>\n      <td>1388314485513879552</td>\n      <td>Covid vaccine: More people suffer from side ef...</td>\n      <td>0</td>\n      <td>1</td>\n    </tr>\n    <tr>\n      <th>1599</th>\n      <td>1341950378879844352</td>\n      <td>polyethylene glycol #PEG causing severe allerg...</td>\n      <td>0</td>\n      <td>1</td>\n    </tr>\n    <tr>\n      <th>2923</th>\n      <td>1346196014609395713</td>\n      <td>Covid vaccine and male fertility, DO NOT HAVE ...</td>\n      <td>0</td>\n      <td>1</td>\n    </tr>\n    <tr>\n      <th>8862</th>\n      <td>1390399506542436354</td>\n      <td>There is no evidence that COVID-19 vaccines ca...</td>\n      <td>1</td>\n      <td>0</td>\n    </tr>\n    <tr>\n      <th>385</th>\n      <td>1344289312926527488</td>\n      <td>Vaccines are Safe, No Matter What Bobby Kenned...</td>\n      <td>1</td>\n      <td>0</td>\n    </tr>\n    <tr>\n      <th>8546</th>\n      <td>1386198546219679744</td>\n      <td>Watch Dr. Fauci Shut Down Senator Ron Johnson'...</td>\n      <td>1</td>\n      <td>0</td>\n    </tr>\n    <tr>\n      <th>10158</th>\n      <td>1388297924786991104</td>\n      <td>got my 10th vaccine dose today. how many y’all...</td>\n      <td>0</td>\n      <td>1</td>\n    </tr>\n    <tr>\n      <th>8418</th>\n      <td>1386908745750302721</td>\n      <td>Make Covaxin of Bharat Biotech a globally avai...</td>\n      <td>0</td>\n      <td>1</td>\n    </tr>\n    <tr>\n      <th>6669</th>\n      <td>1371470247107133442</td>\n      <td>Germany suspends use of the Oxford/AstraZeneca...</td>\n      <td>0</td>\n      <td>1</td>\n    </tr>\n    <tr>\n      <th>12107</th>\n      <td>1413311850880540675</td>\n      <td>Hasn’t Pfizer done enough harm?</td>\n      <td>0</td>\n      <td>1</td>\n    </tr>\n    <tr>\n      <th>8859</th>\n      <td>1390401454892978177</td>\n      <td>People who are afraid of the vaccine because i...</td>\n      <td>1</td>\n      <td>0</td>\n    </tr>\n    <tr>\n      <th>10080</th>\n      <td>1388308341366083586</td>\n      <td>The vaccine contains an anti-stupid serum.  Th...</td>\n      <td>0</td>\n      <td>1</td>\n    </tr>\n    <tr>\n      <th>2212</th>\n      <td>1346714799032307712</td>\n      <td>Vaccine should only be rolled out for high ris...</td>\n      <td>0</td>\n      <td>1</td>\n    </tr>\n    <tr>\n      <th>2182</th>\n      <td>1346763524891156480</td>\n      <td>Why didn't Chris answer the question about the...</td>\n      <td>0</td>\n      <td>1</td>\n    </tr>\n    <tr>\n      <th>379</th>\n      <td>1344293096532676609</td>\n      <td>#econtwitter : discussions on papers, runs,  R...</td>\n      <td>1</td>\n      <td>0</td>\n    </tr>\n    <tr>\n      <th>3885</th>\n      <td>1360292867198119938</td>\n      <td>The Stand | The Truth About the COVID-19 #Expe...</td>\n      <td>0</td>\n      <td>1</td>\n    </tr>\n    <tr>\n      <th>1995</th>\n      <td>1346889535406403587</td>\n      <td>Allergic reactions including anaphylaxis after...</td>\n      <td>0</td>\n      <td>1</td>\n    </tr>\n    <tr>\n      <th>1666</th>\n      <td>1346964683345940482</td>\n      <td>#COVIDvaccine Side effects\\n21 persons experie...</td>\n      <td>0</td>\n      <td>1</td>\n    </tr>\n  </tbody>\n</table>\n</div>"
     },
     "execution_count": 22,
     "metadata": {},
     "output_type": "execute_result"
    }
   ],
   "source": [
    "X_test['is_misinfo_pred'] = y_pred\n",
    "X_test['is_misinfo_true'] = y_test\n",
    "X_test.loc[~(X_test['is_misinfo_pred'] == X_test['is_misinfo_true'])]"
   ],
   "metadata": {
    "collapsed": false,
    "pycharm": {
     "name": "#%%\n"
    }
   }
  },
  {
   "cell_type": "code",
   "execution_count": 22,
   "outputs": [],
   "source": [],
   "metadata": {
    "collapsed": false,
    "pycharm": {
     "name": "#%%\n"
    }
   }
  }
 ]
}