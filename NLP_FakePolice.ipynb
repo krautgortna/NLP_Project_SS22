{
 "nbformat": 4,
 "nbformat_minor": 0,
 "metadata": {
  "colab": {
   "name": "NLP_FakePolice.ipynb",
   "provenance": [],
   "collapsed_sections": [],
   "include_colab_link": true
  },
  "kernelspec": {
   "name": "python3",
   "display_name": "Python 3"
  },
  "language_info": {
   "name": "python"
  }
 },
 "cells": [
  {
   "cell_type": "code",
   "execution_count": 64,
   "outputs": [
    {
     "name": "stderr",
     "output_type": "stream",
     "text": [
      "[nltk_data] Downloading package wordnet to\n",
      "[nltk_data]     C:\\Users\\prism\\AppData\\Roaming\\nltk_data...\n",
      "[nltk_data] Downloading package omw-1.4 to\n",
      "[nltk_data]     C:\\Users\\prism\\AppData\\Roaming\\nltk_data...\n",
      "[nltk_data] Downloading package stopwords to\n",
      "[nltk_data]     C:\\Users\\prism\\AppData\\Roaming\\nltk_data...\n",
      "[nltk_data]   Unzipping corpora\\stopwords.zip.\n",
      "[nltk_data] Downloading package punkt to\n",
      "[nltk_data]     C:\\Users\\prism\\AppData\\Roaming\\nltk_data...\n",
      "[nltk_data]   Unzipping tokenizers\\punkt.zip.\n"
     ]
    },
    {
     "data": {
      "text/plain": "True"
     },
     "execution_count": 64,
     "metadata": {},
     "output_type": "execute_result"
    }
   ],
   "source": [
    "import numpy as np\n",
    "import pandas as pd\n",
    "import matplotlib.pyplot as plt\n",
    "import seaborn as sns\n",
    "import nltk\n",
    "import re\n",
    "from wordcloud import WordCloud, STOPWORDS\n",
    "'''\n",
    "from pycontractions import Contractions\n",
    "cont = Contractions(api_key=\"glove-twitter-100\")\n",
    "'''\n",
    "import contractions\n",
    "from emot.emo_unicode import UNICODE_EMOJI # For emojis\n",
    "from emot.emo_unicode import EMOTICONS_EMO # For EMOTICONS\n",
    "\n",
    "from sklearn.model_selection import train_test_split\n",
    "from sklearn.feature_extraction.text import CountVectorizer, TfidfTransformer\n",
    "from sklearn.linear_model import SGDClassifier\n",
    "from scipy.sparse import csr_matrix\n",
    "from sklearn.model_selection import RandomizedSearchCV\n",
    "from scipy.stats import uniform\n",
    "from sklearn.metrics import confusion_matrix, classification_report\n",
    "\n",
    "from xgboost import XGBClassifier\n",
    "from sklearn.naive_bayes import MultinomialNB\n",
    "from sklearn.ensemble import GradientBoostingClassifier\n",
    "\n",
    "nltk.download('wordnet')\n",
    "nltk.download('omw-1.4')\n",
    "nltk.download('stopwords')\n",
    "nltk.download('punkt')"
   ],
   "metadata": {
    "collapsed": false,
    "pycharm": {
     "name": "#%%\n"
    }
   }
  },
  {
   "cell_type": "markdown",
   "source": [
    "# NLP Project 2022"
   ],
   "metadata": {
    "collapsed": false,
    "pycharm": {
     "name": "#%% md\n"
    }
   }
  },
  {
   "cell_type": "markdown",
   "source": [
    "## Get data"
   ],
   "metadata": {
    "collapsed": false,
    "pycharm": {
     "name": "#%% md\n"
    }
   }
  },
  {
   "cell_type": "code",
   "execution_count": 65,
   "outputs": [
    {
     "data": {
      "text/plain": "                    id  is_misinfo\n0  1344795424855642112           0\n1  1344794858133860353           0\n2  1344794822691983360           0\n3  1344794752819077123           1\n4  1344792070507134977           0",
      "text/html": "<div>\n<style scoped>\n    .dataframe tbody tr th:only-of-type {\n        vertical-align: middle;\n    }\n\n    .dataframe tbody tr th {\n        vertical-align: top;\n    }\n\n    .dataframe thead th {\n        text-align: right;\n    }\n</style>\n<table border=\"1\" class=\"dataframe\">\n  <thead>\n    <tr style=\"text-align: right;\">\n      <th></th>\n      <th>id</th>\n      <th>is_misinfo</th>\n    </tr>\n  </thead>\n  <tbody>\n    <tr>\n      <th>0</th>\n      <td>1344795424855642112</td>\n      <td>0</td>\n    </tr>\n    <tr>\n      <th>1</th>\n      <td>1344794858133860353</td>\n      <td>0</td>\n    </tr>\n    <tr>\n      <th>2</th>\n      <td>1344794822691983360</td>\n      <td>0</td>\n    </tr>\n    <tr>\n      <th>3</th>\n      <td>1344794752819077123</td>\n      <td>1</td>\n    </tr>\n    <tr>\n      <th>4</th>\n      <td>1344792070507134977</td>\n      <td>0</td>\n    </tr>\n  </tbody>\n</table>\n</div>"
     },
     "execution_count": 65,
     "metadata": {},
     "output_type": "execute_result"
    }
   ],
   "source": [
    "url = 'https://raw.githubusercontent.com/SakibShahriar95/ANTiVax/main/Labeled/VaxMisinfoData.csv'\n",
    "df = pd.read_csv(url)\n",
    "df.head()"
   ],
   "metadata": {
    "collapsed": false,
    "pycharm": {
     "name": "#%%\n"
    }
   }
  },
  {
   "cell_type": "code",
   "execution_count": 66,
   "outputs": [],
   "source": [
    "#  !pip install twarc\n",
    "#  !twarc configure"
   ],
   "metadata": {
    "collapsed": false,
    "pycharm": {
     "name": "#%%\n"
    }
   }
  },
  {
   "cell_type": "markdown",
   "source": [
    "Didn't work because of authentication"
   ],
   "metadata": {
    "collapsed": false,
    "pycharm": {
     "name": "#%% md\n"
    }
   }
  },
  {
   "cell_type": "code",
   "execution_count": 67,
   "outputs": [
    {
     "data": {
      "text/plain": "'\\nfrom twarc import Twarc\\nfrom urllib.request import urlretrieve\\n\\ntweet_ids_url = \\'https://raw.githubusercontent.com/SakibShahriar95/ANTiVax/main/Labeled/ids.txt\\'\\ntweet_ids = urlretrieve(tweet_ids_url, \\'./ids.txt\\') # it\\'s a file like object and works just like a file\\n\\ndf = pd.read_csv(\\'./ids.txt\\')\\ndf.head()\\n\\nconsumer_key=\"2lNba8Nvu9f0i5YgfmQhfh3mP\"\\nconsumer_secret=\"TGVv9QJhtkjSqm7QyMeLfpZm3IU3xjrrMabyae42VxbkaT5t0g\"\\naccess_token=\"1600730532-ZCeeHr9h033QRlC95BLZrpz85TRFN4pZ0w7vGhY\"\\naccess_token_secret=\"eoiufziPLBr0eYgR12gAoAEiTQjlnTkZ1BHBLXoDuQbtC\"\\nt = Twarc(consumer_key, consumer_secret, access_token, access_token_secret)\\n\\ndf = pd.DataFrame()\\nfor tweet in t.hydrate(open(\\'./ids.txt\\')):\\n  row = { \\'id\\': tweet[\\'id\\'], \\'text\\': tweet[\\'text\\'] }\\n  df.append(row, ignore_index = True)\\n'"
     },
     "execution_count": 67,
     "metadata": {},
     "output_type": "execute_result"
    }
   ],
   "source": [
    "'''\n",
    "from twarc import Twarc\n",
    "from urllib.request import urlretrieve\n",
    "\n",
    "tweet_ids_url = 'https://raw.githubusercontent.com/SakibShahriar95/ANTiVax/main/Labeled/ids.txt'\n",
    "tweet_ids = urlretrieve(tweet_ids_url, './ids.txt') # it's a file like object and works just like a file\n",
    "\n",
    "df = pd.read_csv('./ids.txt')\n",
    "df.head()\n",
    "\n",
    "consumer_key=\"2lNba8Nvu9f0i5YgfmQhfh3mP\"\n",
    "consumer_secret=\"TGVv9QJhtkjSqm7QyMeLfpZm3IU3xjrrMabyae42VxbkaT5t0g\"\n",
    "access_token=\"1600730532-ZCeeHr9h033QRlC95BLZrpz85TRFN4pZ0w7vGhY\"\n",
    "access_token_secret=\"eoiufziPLBr0eYgR12gAoAEiTQjlnTkZ1BHBLXoDuQbtC\"\n",
    "t = Twarc(consumer_key, consumer_secret, access_token, access_token_secret)\n",
    "\n",
    "df = pd.DataFrame()\n",
    "for tweet in t.hydrate(open('./ids.txt')):\n",
    "  row = { 'id': tweet['id'], 'text': tweet['text'] }\n",
    "  df.append(row, ignore_index = True)\n",
    "'''\n"
   ],
   "metadata": {
    "collapsed": false,
    "pycharm": {
     "name": "#%%\n"
    }
   }
  },
  {
   "cell_type": "markdown",
   "source": [
    "We hydrated offline and saved it to Github to retrieve it from there"
   ],
   "metadata": {
    "collapsed": false,
    "pycharm": {
     "name": "#%% md\n"
    }
   }
  },
  {
   "cell_type": "code",
   "execution_count": 68,
   "outputs": [
    {
     "data": {
      "text/plain": "0        My 87 year old grandmother has been quarantini...\n1        I’m so excited that with this vaccine I can se...\n2        So excited that I was able to close out 2020 o...\n3        Well, it happened. My daughter used my grandch...\n4        I’m getting my COVID-19 vaccine, baby! I’m so ...\n                               ...                        \n12292    Ooh! Potential #CoronaVac by @Sinovac side-eff...\n12293    This rocks, very excited to get the vaccine as...\n12294    We're excited to announce a COVID-19 vaccinati...\n12295    Dec 2020:\\nMOH: Vaccines are here!\\nFPs: Yay! ...\n12296    Fauci to #unvaccinated Americans: “get over th...\nName: text, Length: 12297, dtype: object"
     },
     "execution_count": 68,
     "metadata": {},
     "output_type": "execute_result"
    }
   ],
   "source": [
    "url = 'https://raw.githubusercontent.com/krautgortna/NLP_Project_SS22/main/data/hydrated_tweets.csv'\n",
    "all_data = pd.read_csv(url)\n",
    "all_data.text"
   ],
   "metadata": {
    "collapsed": false,
    "pycharm": {
     "name": "#%%\n"
    }
   }
  },
  {
   "cell_type": "code",
   "execution_count": 69,
   "outputs": [
    {
     "data": {
      "text/plain": "                            Total   Percent\nin_reply_to_status_id       12297  1.000000\nretweet_screen_name         12297  1.000000\nretweet_id                  12297  1.000000\nquote_id                    12297  1.000000\nin_reply_to_user_id         12297  1.000000\nuser_time_zone              12297  1.000000\nin_reply_to_screen_name     12297  1.000000\ncoordinates                 12265  0.997398\nplace                       11785  0.958364\nmedia                        9704  0.789136\nurls                         9273  0.754086\nhashtags                     8889  0.722859\nuser_urls                    7719  0.627714\npossibly_sensitive           7032  0.571847\nuser_location                3228  0.262503\nuser_description             1115  0.090673\nuser_name                       5  0.000407\nuser_statuses_count             0  0.000000\nuser_screen_name                0  0.000000\nuser_listed_count               0  0.000000\nuser_friends_count              0  0.000000\nuser_followers_count            0  0.000000\nuser_favourites_count           0  0.000000\nsource                          0  0.000000\nuser_default_profile_image      0  0.000000",
      "text/html": "<div>\n<style scoped>\n    .dataframe tbody tr th:only-of-type {\n        vertical-align: middle;\n    }\n\n    .dataframe tbody tr th {\n        vertical-align: top;\n    }\n\n    .dataframe thead th {\n        text-align: right;\n    }\n</style>\n<table border=\"1\" class=\"dataframe\">\n  <thead>\n    <tr style=\"text-align: right;\">\n      <th></th>\n      <th>Total</th>\n      <th>Percent</th>\n    </tr>\n  </thead>\n  <tbody>\n    <tr>\n      <th>in_reply_to_status_id</th>\n      <td>12297</td>\n      <td>1.000000</td>\n    </tr>\n    <tr>\n      <th>retweet_screen_name</th>\n      <td>12297</td>\n      <td>1.000000</td>\n    </tr>\n    <tr>\n      <th>retweet_id</th>\n      <td>12297</td>\n      <td>1.000000</td>\n    </tr>\n    <tr>\n      <th>quote_id</th>\n      <td>12297</td>\n      <td>1.000000</td>\n    </tr>\n    <tr>\n      <th>in_reply_to_user_id</th>\n      <td>12297</td>\n      <td>1.000000</td>\n    </tr>\n    <tr>\n      <th>user_time_zone</th>\n      <td>12297</td>\n      <td>1.000000</td>\n    </tr>\n    <tr>\n      <th>in_reply_to_screen_name</th>\n      <td>12297</td>\n      <td>1.000000</td>\n    </tr>\n    <tr>\n      <th>coordinates</th>\n      <td>12265</td>\n      <td>0.997398</td>\n    </tr>\n    <tr>\n      <th>place</th>\n      <td>11785</td>\n      <td>0.958364</td>\n    </tr>\n    <tr>\n      <th>media</th>\n      <td>9704</td>\n      <td>0.789136</td>\n    </tr>\n    <tr>\n      <th>urls</th>\n      <td>9273</td>\n      <td>0.754086</td>\n    </tr>\n    <tr>\n      <th>hashtags</th>\n      <td>8889</td>\n      <td>0.722859</td>\n    </tr>\n    <tr>\n      <th>user_urls</th>\n      <td>7719</td>\n      <td>0.627714</td>\n    </tr>\n    <tr>\n      <th>possibly_sensitive</th>\n      <td>7032</td>\n      <td>0.571847</td>\n    </tr>\n    <tr>\n      <th>user_location</th>\n      <td>3228</td>\n      <td>0.262503</td>\n    </tr>\n    <tr>\n      <th>user_description</th>\n      <td>1115</td>\n      <td>0.090673</td>\n    </tr>\n    <tr>\n      <th>user_name</th>\n      <td>5</td>\n      <td>0.000407</td>\n    </tr>\n    <tr>\n      <th>user_statuses_count</th>\n      <td>0</td>\n      <td>0.000000</td>\n    </tr>\n    <tr>\n      <th>user_screen_name</th>\n      <td>0</td>\n      <td>0.000000</td>\n    </tr>\n    <tr>\n      <th>user_listed_count</th>\n      <td>0</td>\n      <td>0.000000</td>\n    </tr>\n    <tr>\n      <th>user_friends_count</th>\n      <td>0</td>\n      <td>0.000000</td>\n    </tr>\n    <tr>\n      <th>user_followers_count</th>\n      <td>0</td>\n      <td>0.000000</td>\n    </tr>\n    <tr>\n      <th>user_favourites_count</th>\n      <td>0</td>\n      <td>0.000000</td>\n    </tr>\n    <tr>\n      <th>source</th>\n      <td>0</td>\n      <td>0.000000</td>\n    </tr>\n    <tr>\n      <th>user_default_profile_image</th>\n      <td>0</td>\n      <td>0.000000</td>\n    </tr>\n  </tbody>\n</table>\n</div>"
     },
     "execution_count": 69,
     "metadata": {},
     "output_type": "execute_result"
    }
   ],
   "source": [
    "Total = all_data.isnull().sum().sort_values(ascending=False)\n",
    "percent = (all_data.isnull().sum() / all_data.isnull().count()).sort_values(ascending=False)\n",
    "missing_stats = pd.concat([Total, percent], axis=1, keys=['Total', 'Percent'])\n",
    "\n",
    "all_data_drop_80_missing = all_data.drop((missing_stats[missing_stats['Percent'] > .8]).index, axis=1)\n",
    "missing_stats.head(25)"
   ],
   "metadata": {
    "collapsed": false,
    "pycharm": {
     "name": "#%%\n"
    }
   }
  },
  {
   "cell_type": "code",
   "execution_count": 70,
   "outputs": [
    {
     "data": {
      "text/plain": "                        id  is_misinfo  \\\n0      1344795424855642112           0   \n1      1344794858133860353           0   \n2      1344794822691983360           0   \n3      1344794752819077123           1   \n4      1344790296119422980           1   \n...                    ...         ...   \n12292  1413088663886573569           1   \n12293  1413087751474397186           0   \n12294  1413087030578401283           0   \n12295  1413085519710363648           0   \n12296  1413085365745774593           0   \n\n                                                    text  \\\n0      if you kissed someone on Amelia St, don’t worr...   \n1      i really doubt 2021 will be much different imo...   \n2      People want answers, but they’re also just exc...   \n3      Why any healthy person would want to take an e...   \n4      1/1 @TheBMA surely consenting people to a two ...   \n...                                                  ...   \n12292  Go ahead, take it...#Vaccine #TheJab #Genocide...   \n12293  Going to my first vaccine today. Very very ner...   \n12294  Media: \"The #Japanese government declared a ne...   \n12295  Getting my first dose vaccine tomorrow. HUKM d...   \n12296  I’m so happy that my mom got her first dose va...   \n\n                                                hashtags  \n0                                                    NaN  \n1                                                    NaN  \n2                                                    NaN  \n3                                                    NaN  \n4                                                    NaN  \n...                                                  ...  \n12292  Vaccine TheJab Genocide Depopulation Resist198...  \n12293                     firstjab VACCINE hull hull2021  \n12294                               Japanese coronavirus  \n12295                                                NaN  \n12296                                                NaN  \n\n[12297 rows x 4 columns]",
      "text/html": "<div>\n<style scoped>\n    .dataframe tbody tr th:only-of-type {\n        vertical-align: middle;\n    }\n\n    .dataframe tbody tr th {\n        vertical-align: top;\n    }\n\n    .dataframe thead th {\n        text-align: right;\n    }\n</style>\n<table border=\"1\" class=\"dataframe\">\n  <thead>\n    <tr style=\"text-align: right;\">\n      <th></th>\n      <th>id</th>\n      <th>is_misinfo</th>\n      <th>text</th>\n      <th>hashtags</th>\n    </tr>\n  </thead>\n  <tbody>\n    <tr>\n      <th>0</th>\n      <td>1344795424855642112</td>\n      <td>0</td>\n      <td>if you kissed someone on Amelia St, don’t worr...</td>\n      <td>NaN</td>\n    </tr>\n    <tr>\n      <th>1</th>\n      <td>1344794858133860353</td>\n      <td>0</td>\n      <td>i really doubt 2021 will be much different imo...</td>\n      <td>NaN</td>\n    </tr>\n    <tr>\n      <th>2</th>\n      <td>1344794822691983360</td>\n      <td>0</td>\n      <td>People want answers, but they’re also just exc...</td>\n      <td>NaN</td>\n    </tr>\n    <tr>\n      <th>3</th>\n      <td>1344794752819077123</td>\n      <td>1</td>\n      <td>Why any healthy person would want to take an e...</td>\n      <td>NaN</td>\n    </tr>\n    <tr>\n      <th>4</th>\n      <td>1344790296119422980</td>\n      <td>1</td>\n      <td>1/1 @TheBMA surely consenting people to a two ...</td>\n      <td>NaN</td>\n    </tr>\n    <tr>\n      <th>...</th>\n      <td>...</td>\n      <td>...</td>\n      <td>...</td>\n      <td>...</td>\n    </tr>\n    <tr>\n      <th>12292</th>\n      <td>1413088663886573569</td>\n      <td>1</td>\n      <td>Go ahead, take it...#Vaccine #TheJab #Genocide...</td>\n      <td>Vaccine TheJab Genocide Depopulation Resist198...</td>\n    </tr>\n    <tr>\n      <th>12293</th>\n      <td>1413087751474397186</td>\n      <td>0</td>\n      <td>Going to my first vaccine today. Very very ner...</td>\n      <td>firstjab VACCINE hull hull2021</td>\n    </tr>\n    <tr>\n      <th>12294</th>\n      <td>1413087030578401283</td>\n      <td>0</td>\n      <td>Media: \"The #Japanese government declared a ne...</td>\n      <td>Japanese coronavirus</td>\n    </tr>\n    <tr>\n      <th>12295</th>\n      <td>1413085519710363648</td>\n      <td>0</td>\n      <td>Getting my first dose vaccine tomorrow. HUKM d...</td>\n      <td>NaN</td>\n    </tr>\n    <tr>\n      <th>12296</th>\n      <td>1413085365745774593</td>\n      <td>0</td>\n      <td>I’m so happy that my mom got her first dose va...</td>\n      <td>NaN</td>\n    </tr>\n  </tbody>\n</table>\n<p>12297 rows × 4 columns</p>\n</div>"
     },
     "execution_count": 70,
     "metadata": {},
     "output_type": "execute_result"
    }
   ],
   "source": [
    "df_merged = df.merge(all_data[['id', 'text', 'hashtags']], on='id')\n",
    "df_merged\n"
   ],
   "metadata": {
    "collapsed": false,
    "pycharm": {
     "name": "#%%\n"
    }
   }
  },
  {
   "cell_type": "code",
   "execution_count": 71,
   "outputs": [
    {
     "data": {
      "text/plain": "                        id  is_misinfo  \\\n0      1344795424855642112           0   \n1      1344794858133860353           0   \n2      1344794822691983360           0   \n3      1344794752819077123           1   \n4      1344790296119422980           1   \n...                    ...         ...   \n12292  1413088663886573569           1   \n12293  1413087751474397186           0   \n12294  1413087030578401283           0   \n12295  1413085519710363648           0   \n12296  1413085365745774593           0   \n\n                                                    text  \\\n0      if you kissed someone on Amelia St, don’t worr...   \n1      i really doubt 2021 will be much different imo...   \n2      People want answers, but they’re also just exc...   \n3      Why any healthy person would want to take an e...   \n4      1/1 @TheBMA surely consenting people to a two ...   \n...                                                  ...   \n12292  Go ahead, take it...#Vaccine #TheJab #Genocide...   \n12293  Going to my first vaccine today. Very very ner...   \n12294  Media: \"The #Japanese government declared a ne...   \n12295  Getting my first dose vaccine tomorrow. HUKM d...   \n12296  I’m so happy that my mom got her first dose va...   \n\n                                                hashtags  \n0                                                    NaN  \n1                                                    NaN  \n2                                                    NaN  \n3                                                    NaN  \n4                                                    NaN  \n...                                                  ...  \n12292  Vaccine TheJab Genocide Depopulation Resist198...  \n12293                     firstjab VACCINE hull hull2021  \n12294                               Japanese coronavirus  \n12295                                                NaN  \n12296                                                NaN  \n\n[12198 rows x 4 columns]",
      "text/html": "<div>\n<style scoped>\n    .dataframe tbody tr th:only-of-type {\n        vertical-align: middle;\n    }\n\n    .dataframe tbody tr th {\n        vertical-align: top;\n    }\n\n    .dataframe thead th {\n        text-align: right;\n    }\n</style>\n<table border=\"1\" class=\"dataframe\">\n  <thead>\n    <tr style=\"text-align: right;\">\n      <th></th>\n      <th>id</th>\n      <th>is_misinfo</th>\n      <th>text</th>\n      <th>hashtags</th>\n    </tr>\n  </thead>\n  <tbody>\n    <tr>\n      <th>0</th>\n      <td>1344795424855642112</td>\n      <td>0</td>\n      <td>if you kissed someone on Amelia St, don’t worr...</td>\n      <td>NaN</td>\n    </tr>\n    <tr>\n      <th>1</th>\n      <td>1344794858133860353</td>\n      <td>0</td>\n      <td>i really doubt 2021 will be much different imo...</td>\n      <td>NaN</td>\n    </tr>\n    <tr>\n      <th>2</th>\n      <td>1344794822691983360</td>\n      <td>0</td>\n      <td>People want answers, but they’re also just exc...</td>\n      <td>NaN</td>\n    </tr>\n    <tr>\n      <th>3</th>\n      <td>1344794752819077123</td>\n      <td>1</td>\n      <td>Why any healthy person would want to take an e...</td>\n      <td>NaN</td>\n    </tr>\n    <tr>\n      <th>4</th>\n      <td>1344790296119422980</td>\n      <td>1</td>\n      <td>1/1 @TheBMA surely consenting people to a two ...</td>\n      <td>NaN</td>\n    </tr>\n    <tr>\n      <th>...</th>\n      <td>...</td>\n      <td>...</td>\n      <td>...</td>\n      <td>...</td>\n    </tr>\n    <tr>\n      <th>12292</th>\n      <td>1413088663886573569</td>\n      <td>1</td>\n      <td>Go ahead, take it...#Vaccine #TheJab #Genocide...</td>\n      <td>Vaccine TheJab Genocide Depopulation Resist198...</td>\n    </tr>\n    <tr>\n      <th>12293</th>\n      <td>1413087751474397186</td>\n      <td>0</td>\n      <td>Going to my first vaccine today. Very very ner...</td>\n      <td>firstjab VACCINE hull hull2021</td>\n    </tr>\n    <tr>\n      <th>12294</th>\n      <td>1413087030578401283</td>\n      <td>0</td>\n      <td>Media: \"The #Japanese government declared a ne...</td>\n      <td>Japanese coronavirus</td>\n    </tr>\n    <tr>\n      <th>12295</th>\n      <td>1413085519710363648</td>\n      <td>0</td>\n      <td>Getting my first dose vaccine tomorrow. HUKM d...</td>\n      <td>NaN</td>\n    </tr>\n    <tr>\n      <th>12296</th>\n      <td>1413085365745774593</td>\n      <td>0</td>\n      <td>I’m so happy that my mom got her first dose va...</td>\n      <td>NaN</td>\n    </tr>\n  </tbody>\n</table>\n<p>12198 rows × 4 columns</p>\n</div>"
     },
     "execution_count": 71,
     "metadata": {},
     "output_type": "execute_result"
    }
   ],
   "source": [
    "df_merged.drop_duplicates(subset='text')"
   ],
   "metadata": {
    "collapsed": false,
    "pycharm": {
     "name": "#%%\n"
    }
   }
  },
  {
   "cell_type": "code",
   "execution_count": 72,
   "outputs": [
    {
     "data": {
      "text/plain": "[nan,\n 'HeroesOf2020',\n 'MGH',\n 'stopthespread',\n 'lockdown',\n 'StandStrong',\n 'Covidvaccine',\n 'CalltoArms',\n 'BeGreatVaccinate',\n 'ShotOfHope',\n '417fightscovid',\n 'CovidVaccine',\n 'GetVaccinated',\n 'ThisIsOurShot',\n 'Science',\n 'scienceforthewin',\n 'VaccinesWork',\n 'COVID19',\n 'WearAMask',\n 'tweetiatrician',\n 'HAPPYNEWYEAR2021',\n 'GoodBye2020',\n 'HAPPYNEWYEAR',\n 'Newsmax',\n 'VACCINE',\n 'StopTheSpread',\n 'covidvaccine',\n 'COVID19vaccine',\n 'getvaccinated',\n 'sciencebitch',\n 'igottheshot',\n 'covid',\n 'Idaho',\n 'NewYearsEve',\n 'ThisisOURshot',\n 'CommunityImmunity',\n 'carenotcovid',\n 'BecauseTheJourneyMatters',\n 'Moderna',\n 'IDtwitter',\n 'covidsucks',\n 'bringin2021',\n 'NotThrowingAwayMyShot',\n 'COVID19Vaccine',\n 'AMA',\n 'OhioStateMedical',\n 'vaccine',\n 'Ouchie4Fauci',\n 'PVTU',\n 'DepopulationControl',\n 'NWOplan',\n 'GeorgiaGuidestones',\n 'MedTwitter',\n 'novaccine',\n 'EndTheLockdowns',\n 'GreatReset',\n 'CovidFraud',\n 'Throwback',\n 'H1N1',\n 'H1N1Vaccine',\n 'Vaccine',\n 'Covid',\n 'Covid19',\n 'Coronavirus',\n 'Covid19Vaccine',\n 'Vaccines',\n 'Coronavirusvaccine',\n 'SARS_CoV_2',\n 'SARSCoV2',\n 'COVID20',\n 'NDs4COVIDvax',\n 'VaccinesSaveLives',\n 'RBG',\n 'bye2020',\n 'kindaexcited',\n 'EssentialWorker',\n 'pharmacists',\n '1TroubleMaker',\n 'ModernaVaccine',\n 'WillFerrell',\n 'GYPOTech',\n 'WeBuildBrandsGYPO',\n '2021YearOfSmiles',\n '2021goals',\n '2021จะมีเธอป่ะ',\n '2021Wishes',\n '2020Wrapped',\n 'SMEs',\n '100DaysOfCode',\n 'entrepreneurs',\n 'Bioweapon',\n 'modernavaccine',\n 'IUHealth',\n 'GCchat',\n 'healthcare',\n 'vaccinated',\n 'sterilization',\n 'covid19',\n 'worldhealthorganization',\n 'who',\n 'agenda21',\n 'agenda2030',\n 'fertility',\n 'Clubhouse',\n 'COVIDVaccine',\n 'couragetolove',\n 'CCPVirus',\n 'CantBullyUs',\n 'NoVaccineForMe',\n 'nomandates',\n 'noforcedcovidvaccines',\n 'Pfizer',\n 'nwo',\n 'endtimes',\n 'coronavirus',\n 'vaccination',\n 'depopulation',\n 'billgates',\n 'revelation',\n 'martiallaw',\n 'wednesdaythought',\n 'datascience',\n 'rstats',\n 'pydata',\n 'BioNTech',\n 'Fauchisafraud',\n 'Fakescience',\n 'FakeVaccines',\n 'BillGatesBioTerrorist',\n 'horrorcommunity',\n 'news',\n 'ukgov',\n 'UKlockdown',\n 'foodbanks',\n 'lies',\n 'forcedvaccinations',\n 'MakeShots',\n 'Covid19UK',\n 'DontGetTooExcited',\n 'CrimesAgainstHumanity',\n 'Mychoice',\n 'yayscience',\n 'StopCovid',\n 'COVIDIOT',\n 'BigTechCensorship',\n 'retweet',\n 'Covaxin',\n 'FirstResponders',\n 'SSL',\n 'covid_19',\n 'corona',\n 'vaccinate',\n 'maricopa',\n 'maricopacounty',\n 'arizona',\n 'az',\n 'journorequests',\n 'Prevention',\n 'Depopulation',\n 'Pandemic',\n 'COVID',\n 'JobHunt',\n 'JobSearch',\n 'blessed',\n 'covidvacccine',\n 'vaccines',\n 'shootyourshot',\n 'moderna',\n 'science',\n 'medicine',\n 'infectiousdiseases',\n 'PfizerVaccine',\n 'econtwitter',\n 'shouldbeweddingday',\n 'loveisnotcancelled',\n 'grateful',\n 'PublicHealth',\n 'crushcovidwny',\n 'gettruth',\n 'getorganized',\n 'getfree',\n 'AVCT',\n 'covid19ireland',\n 'CovidVaccinesideeffects',\n 'CoronaInfoCH',\n 'Switzerland',\n 'NHS',\n 'oxfordvaccine',\n 'nhs',\n 'pfizer',\n 'DocsforVax',\n 'PfizerCovidVaccine',\n 'WayTooEarly',\n 'gratefulinCT',\n 'care',\n '366daysofgratitude',\n 'gratitude',\n 'StayHome',\n 'NHSpeople',\n 'CNN',\n 'ChineseVirus',\n 'TestKitSalesAgenda',\n 'VaccineSalesAgenda',\n 'PharmaMafia',\n 'CoronaVaccine',\n 'CoronaScam',\n 'Scam',\n 'Agenda21',\n 'Arrestbillgates',\n 'southafricancoronavirus',\n 'FLU',\n 'Journalists',\n 'published',\n 'lbc',\n 'AstraZeneca',\n 'KamalaHarris',\n 'hope',\n 'Covid_19',\n 'teambahrain',\n 'UnitedAgainstCovid19',\n 'OxfordUniversity',\n 'Researchers',\n 'notforprofit',\n 'maskup',\n 'BidenHarris2020',\n 'BidenCalm',\n 'Grateful',\n 'beatCovid19',\n 'thisisourshot',\n 'THEIRABC',\n 'NSWPOL',\n 'rollupyoursleeve',\n 'GENOCIDE',\n 'PHOdocs',\n 'PedPC',\n 'sicklecell',\n 'pedpsych',\n 'TheLittleCouple',\n 'TLC',\n 'COVIDvaccine',\n 'coronavirusvaccine',\n 'Notthrowingawaymyshot',\n 'FauciOuchie',\n 'AtriumHealthProud',\n 'notthrowingawaymyshot',\n 'vaccineswork',\n 'RN',\n 'BREAKING',\n 'Coronasverige',\n 'UK',\n 'lifechanging',\n 'covidvaccination',\n 'Darkdaysareover',\n 'PfizerBioNTech',\n 'hopeforthefuture',\n 'blessedandgrateful',\n 'BoiChillTv',\n 'Ontario',\n 'Ottawa',\n 'Canada',\n 'TeamKaChillers',\n 'CoVid19',\n 'Truth',\n 'DoseOfHope',\n 'TwitteRx',\n 'goteam',\n 'health',\n 'palliativecare',\n 'covid19shot',\n 'hapc',\n 'MaskUp',\n 'SocialDistance',\n 'NYCVaxChamp',\n 'IGotTheShot',\n 'IGotMine',\n 'christmas',\n 'lightendoftunnel',\n 'nycvaxchamp',\n 'JHUNursing',\n 'ProtectingPeople',\n 'believeinscience',\n 'emotional',\n 'GetVaccinatedDC',\n 'HolidaySeason',\n 'thankful',\n 'covi̇d19',\n 'nurse',\n 'RamStrong',\n 'COVIDVaccination',\n 'myemsday',\n 'Vaccinated',\n 'fightcoronavirus',\n 'ScrewCovid',\n 'legend',\n 'covid19UK',\n 'thankyouNHS',\n 'Vaccinate',\n 'ITrustScience',\n 'NCHIRad',\n 'CovidVaccineAtCM',\n 'SleevesUpKC',\n 'AllChildrens',\n 'schoolnurses',\n 'parksidestrong',\n 'teamtroy',\n 'BlessedAndGrateful',\n 'EMSvax',\n 'MakeTheWorldABetterPlace',\n 'TrustScience',\n 'MavericksOnAMission',\n 'HerdImmunity',\n 'HPSNursesAreTheBest',\n 'EssentialWorkers',\n 'caregiver',\n 'MyCOVIDVax',\n 'beginningoftheend',\n 'IBelieveInScience',\n 'warpspeed',\n 'wellness',\n 'tuesdaymotivations',\n 'VaticanCovidCommission',\n 'COLeg',\n 'COpolitics',\n 'Docsforvax',\n 'becausethejourneymatters',\n 'CareNotCOVID',\n 'iamnotthrowingawaymyshot',\n 'mRNA',\n 'pandemic',\n 'superheroes',\n 'Heronstrong',\n 'so',\n 'gratituesday',\n 'balfenation',\n 'trustscience',\n 'scientists',\n 'doctors',\n 'researchers',\n 'anesthesiology',\n 'dentalanesthesiology',\n 'BerwickUponTweed',\n 'northumberland',\n 'FightAgainstCovid19',\n 'NOISundays',\n 'Farrakhan',\n 'twitter',\n 'GENETIC',\n 'DEPOPULATION',\n 'Alzheimers',\n 'Cancer',\n 'ALS',\n 'Parkinsons',\n 'SCIENCE',\n 'NOTPROFIT',\n 'formyuncle',\n 'Covidvaccines',\n 'Yukon',\n 'SignatureHCH',\n 'IBD',\n 'VaxAware',\n 'TGH',\n 'sciencesaveslives',\n 'CommunistChina',\n 'MadeInChina',\n 'ChinaVirus',\n 'INFOSEC',\n 'CrushCOVID',\n 'flushot',\n 'elderabuse',\n 'governmentcorruption',\n 'medicalmurder',\n 'BigPharma',\n 'ThesePeopleAreSick',\n 'ThesePeopleAreEvil',\n 'saveourelderly',\n 'thegreatawakening',\n 'wwg1wga',\n 'COVIDvaccinated',\n 'healthcareworkers',\n 'primarycare',\n 'alcoholban',\n 'healthcareworker',\n 'phase1a',\n 'supportyourlocalcommunityhealthcenter',\n 'stayhome',\n 'WearAMaskSaveALife',\n 'research',\n 'soexcitediscreamed',\n 'bestchristmaspresentever',\n 'happynewyear',\n 'NursePractitioner',\n 'LorettaFord',\n 'NPsLead',\n 'NPsForKids',\n 'PNP',\n 'pallicovid',\n 'level3',\n 'frontlinenurse',\n 'mmsm',\n 'COVIDー19',\n 'NHSheroes',\n 'formypatients',\n 'foreveryonewhohaslostsomuch',\n 'thankfulforscience',\n 'fuckyou2020',\n 'FreedomFromFear',\n 'DontWait',\n 'stopCOVID',\n 'upyourscorona',\n '2020InReview',\n 'GeorgiaVoters',\n 'GeorgiaVote',\n 'veteransuicide',\n 'mentalhealth',\n 'NoToVIPVaccination',\n 'Modi',\n 'thankyou',\n 'covıd19',\n 'jbGunnerTV',\n 'TiffanyDover',\n 'mrpandemic2',\n 'INthisTogether',\n 'ModernaTime',\n 'geek',\n 'BillGates',\n 'onrecord',\n 'WakeUpAmerica',\n 'Fake',\n 'thinking',\n 'Vaccination',\n 'Covid19Vaccines',\n 'Covid19Operation',\n 'DNA',\n 'GeneticEngineering',\n 'DrWakefield',\n 'HydroxyChloroquine',\n 'CovidCure',\n 'UCSDHealth',\n 'UCSDCares',\n 'EndCOVID19',\n 'InThisTogetherSD',\n 'nursing',\n 'arrestbillgates',\n 'scienceisamazing',\n 'Ilovevaccines',\n 'medicsforvaccination',\n 'Pediatrician',\n 'scienceisreal',\n 'frontlineworkers',\n 'SocialDistancing',\n 'facemasks',\n 'HandHygiene',\n 'like',\n 'life',\n 'stickitinmeplease',\n 'RepublicansDontCare',\n 'NukeChinaNow',\n 'DePopulation',\n 'CoronaHoax',\n 'Scamdemic',\n 'TheGlobalReset',\n '인피니트',\n 'playboicarti',\n 'dontbedumb',\n 'pleaseandthankyou',\n 'saturday',\n 'night',\n 'partytime',\n 'magicofmotion',\n 'Pakistani',\n 'Bitcoin',\n 'Ivermectin',\n 'Parasite',\n 'TheGreatReset',\n 'CoronavirusVaccine',\n 'validations',\n 'Plandemic',\n 'nanoparticles',\n 'ExposeBillGates',\n 'NewWorldOrder',\n 'wakeup',\n 'Staged',\n 'liesoflies',\n 'Covid1984',\n 'Rockefeller',\n '500MillionPeople',\n 'ExposeCOVID1984',\n 'STACEM',\n 'MasaGate',\n 'HCQ',\n 'politics',\n 'canada',\n 'trudeau',\n 'pharma',\n 'money',\n 'IDoNotConsent',\n 'VacunaCOVID19',\n 'COVIDSecondWave',\n 'CovidVaccineIsDangerous',\n 'ArrestCriminals',\n 'thalidomide',\n 'Agenda2030',\n 'DepopulationAgenda',\n 'nurembergtrials',\n 'LiarJohnson',\n 'NoLockdowns',\n 'refusetheprick',\n 'SCAMDEMIC2020',\n 'PEG',\n 'Pfizervaccine',\n 'experimentalvaccine',\n 'MedicalTyranny',\n 'humor',\n 'pyizer',\n 'occupyPfizer',\n 'antivaxxers',\n 'ProjectFear',\n 'nocovidvaccine',\n 'stopthehate',\n 'changetheworld',\n 'SpreadLoveAndLoveWillSpread',\n 'spreadlove',\n 'spreadthelove',\n 'StickItToCOVID',\n 'StillWearingAMaskTho',\n 'socialmitigation',\n 'herdimmunity',\n 'mutation',\n 'trump',\n 'failure',\n 'YQG',\n 'Windsor',\n 'pressfortruth',\n 'TwoShotsInTheArm',\n 'suckitCOVID',\n 'PraiseTheLord',\n 'COVID19AB',\n 'LTC',\n 'AbuDhabi',\n 'CommitToWin',\n 'TogetherWeRecover',\n 'bbcqt',\n 'RightToBareArms',\n 'C4News',\n 'nurses',\n 'askingforafriend',\n 'barnsleyhospital',\n 'Mumbai',\n 'juhu',\n 'JOHNSON',\n 'first',\n 'Shropshire',\n 'Shrewsbury',\n 'Telford',\n 'TheWrekin',\n 'CDC',\n 'BlackLivesMatter',\n 'Bridgerton',\n 'ENVtuber',\n 'GenshinImpact',\n 'lockdownverlaengerung',\n 'USA',\n 'xrp',\n 'YoureFired',\n 'Vaccinators',\n 'Events201',\n 'Wakingtimes',\n 'OperationWarpSpeed',\n 'DemonSemen',\n 'MasksDontWork',\n 'jeremyvine',\n 'bayarea',\n 'Virus',\n 'Poison',\n 'Humans',\n 'Exterminate',\n 'Dog',\n 'Cat',\n 'Chimpanzee',\n 'DECEPTION',\n 'GoldStarDailyNews',\n 'GSDNews',\n 'ImpactOnTwitch',\n 'ImpactOnAXSTV',\n 'Kanye',\n 'thatsanoformedawg',\n 'vacine',\n 'GodiMedia',\n 'infertility',\n 'Election2020',\n 'Trump',\n 'CletaMitchell',\n 'covidnsw',\n 'FauciOuchi',\n 'thisboutus',\n 'JAN6DC',\n 'SatanicCommunism',\n 'Implant',\n 'Excuses',\n 'Plan',\n 'Torture',\n 'Rape',\n 'Biontech',\n 'kindachicken',\n 'ProtectHealthCareWorkers',\n 'ProtectChicago',\n 'NurseTwitter',\n 'tearsofrelief',\n 'takemyshot',\n 'righttobarearms',\n 'shotofhope',\n 'populationcontrol',\n 'trusttheprocess',\n 'trustthescience',\n 'drsims',\n 'chicagovoicedoc',\n 'NoVaccine',\n 'savinglives',\n 'HealthcareWorkers',\n 'Pharmacytech',\n 'StayAtHome',\n 'COVIDVaccines',\n 'UTG',\n 'J5',\n 'CoronaVirusSA',\n 'u',\n 'whywevax',\n 'getthevaccine',\n 'itshealthnotpolitics',\n 'IGOTMINE',\n 'AdvocateAurora',\n 'EKU',\n 'FarmersProtest',\n 'ConronaVirus',\n 'Event201',\n 'NWO',\n 'HarrowdownHill',\n 'MDDialogue',\n 'LetsTalk',\n 'You',\n 'COVID19nsw',\n 'itchy',\n 'LyingBiden',\n 'BidenCheated2020',\n 'Biden',\n 'covidclownworld',\n 'msmpropaganda',\n 'vaccinations',\n 'Billgates',\n 'atsarehealthcare',\n 'at4all',\n 'happydays',\n 'Lockdown3',\n 'ZedTwitter',\n 'VaccineStrategy',\n 'savelives',\n 'cardiologist',\n 'TheVillages',\n 'TheVillagesNews',\n 'Irishfreedom',\n 'FreeBandaid',\n 'DoingMyPart',\n 'CNP',\n 'TrustYourVaccine',\n 'youhavebeenwarned',\n 'Covaxine',\n 'CVD19',\n 'FERTILITY',\n 'MISCARRIAGES',\n 'nationallockdown',\n 'level5',\n 'VaccineforSouthAfrica',\n 'India',\n 'FoxNews',\n 'NBC',\n 'COVIDMandates',\n 'update',\n 'DatingWithTumiSole',\n 'ScareTactics',\n 'BloodyBillGates',\n 'ForcedVaccinations',\n 'coronasvam',\n 'BharatBiotech',\n 'DCGI',\n 'XMen',\n 'BioWeapon',\n 'StopTheKillings',\n 'stopvaccines',\n 'novaccines',\n 'vaccinedeath',\n 'vaccineskill',\n 'TuskegeeExperiment',\n 'Arrest_Bill_Gates',\n 'KillBiil',\n 'NoVaccineToMe',\n 'FakeVaccine',\n 'NoVaccination',\n 'Event20',\n 'bioweapon',\n 'brainwashed',\n 'sheeple',\n 'coronago',\n 'Johnson',\n 'CNNNYE',\n 'oxfordastrazeneca',\n 'humanexperiment',\n 'HappyNewYear2021',\n 'staysafe',\n 'stayhealthy',\n 'staystrong',\n 'ValentinesDay',\n 'covid19vaccine',\n 'fullyvaccinated',\n 'NewYork',\n 'Asijike',\n 'auspol',\n 'pfizervacine',\n 'gotmyvaccine',\n 'covidshot',\n 'covid19MA',\n 'COVID19Vaccines',\n '2ndTimeLucky',\n 'sneakerhead',\n 'ivermectin',\n 'Evil',\n 'VAERS',\n 'goodbye',\n 'SoundCloud',\n 'np',\n 'RussianRoulette',\n 'Gates',\n 'GatesFoundation',\n 'Decouple',\n 'CCP',\n 'bethankful',\n 'stopcomplaining',\n 'backthetga',\n 'PfizerBiontech',\n 'BellsPalsy',\n 'anaphylaxis',\n 'InformedConsent',\n 'Health',\n 'Hydroxychloroquine',\n 'virus',\n 'ldnont',\n 'NanoParticles',\n 'Software',\n 'biden',\n 'sorearm',\n 'noothersideeffects',\n 'teacherperks',\n 'CovidArm',\n 'volunteer',\n 'ArizonaState',\n 'HealthPolicyValentines',\n 'WhatsInYourVaccine',\n 'VaccineInjury',\n 'VaccineDeaths',\n 'PolioVaccine',\n 'pathetic',\n 'covidjab',\n 'COVID19Vic',\n 'btc',\n 'reflectingfarrakhan',\n 'TheLastDriveIn',\n 'BestDayEver',\n 'Scarborough',\n 'MaineHealth',\n 'sciencerules',\n 'FridayNightReport',\n 'JOHNCARVER',\n 'TrumpVirus',\n 'COVID19Vaccination',\n 'StaySafe',\n 'KeyWest',\n 'IllBeOkay',\n 'Limelight',\n 'phizer',\n 'vsccine',\n 'london',\n 'NYT',\n 'covide19vaccine',\n 'NevadaCounty',\n 'Weareallinthistogether',\n 'sparkles',\n 'teachinginapandemic',\n 'kansasteacher',\n 'Get2Doses',\n 'HeresTheSpotGetYourShot',\n 'VaxUpCU',\n 'VaxUpIL',\n 'c4news',\n 'protectothers',\n 'protectgrandparents',\n 'wearamask',\n 'COVID19vaccination',\n 'BeSafe',\n 'seconddose',\n 'ExperimentalBiologicalAgent',\n 'JabsInArms',\n 'poker',\n 'sweettreats',\n 'valentines',\n 'FridayVibes',\n 'cookies',\n 'bigmanzone',\n 'bill',\n 'theboyreturns',\n 'vaccinecovid19',\n 'AmazonMusic',\n 'illegitimateJoeBiden',\n 'Americans',\n 'Vimeo',\n 'rdguk',\n 'note',\n 'no',\n 'upset',\n 'shocked',\n 'BeyondTuskegee',\n 'NoVaccines',\n 'Russian',\n 'Iran',\n 'Russia',\n 'Unews',\n 'waytooearly',\n 'ImApositive',\n 'vaccinationcampaign',\n 'OpinYon',\n 'WeTakeAStand',\n 'OyWeTakeAStand',\n 'wistem',\n 'losangeles',\n 'experimentalVaccine',\n 'experimental',\n 'GreatFULL',\n 'StVrainStorm',\n 'covid_19australia',\n 'Colorado',\n 'autoimmune',\n 'lungdisease',\n 'raynauds',\n 'JaysFight',\n 'PhysicalTherapy',\n 'OSU',\n 'WinterDriving',\n 'million',\n 'Bangladesh',\n 'VaccinationDrive',\n 'Covishield',\n 'FirstDoNoHarm',\n 'HippocraticOath',\n 'vaccinedeaths',\n 'hlth264',\n 'feedly',\n 'STATWARS',\n 'Britain',\n 'UnitedKingdom',\n 'NationalInventorsDay',\n 'Business',\n 'ClinicalTrial',\n 'Biotechnology',\n 'Fl',\n 'COVAXIN',\n 'nurselife',\n 'psa',\n 'sciencematters',\n 'jeffersonnurse',\n 'phillynurse',\n 'yoganurse',\n 'philadelphia',\n 'UNICEF',\n 'firstdose',\n 'BiontechLeaks',\n 'LargestVaccineDrive',\n 'IndiaFightsCorona',\n 'Borisjohnson',\n 'wato',\n 'bbcpm',\n 'tips',\n 'covidiots',\n 'Eugenics',\n 'bcpoli',\n 'onpoli',\n 'canpoli',\n 'cdnpoli',\n 'LeadUsMatamela',\n 'ReflectingFarrakhanChallenge',\n 'theCriterion',\n 'ReflectingFarrakhan',\n 'SisterShanteX',\n 'Flourish',\n 'Prosper',\n 'NationOfIslam',\n 'senior',\n 'graduate',\n 'graduation',\n 'classof2021',\n 'friendsshow',\n 'tvshow',\n 'quarantined',\n 'quarantine2021',\n 'friends',\n 'college',\n 'university',\n 'student',\n 'Pennsylvania',\n 'covidsurvivor',\n 'sendsoup',\n 'didmypart',\n 'getyourshot',\n 'Utopia',\n 'publichealth',\n 'epidemiology',\n 'americanairlines',\n 'ItsNotAVaccine',\n 'CrushCovid',\n 'VaccinatedAF',\n 'IGotMyShot',\n 'mask',\n 'CovidVaccineSideEffects',\n 'VaccineRolloutSA',\n 'RicoTheDems',\n 'ArrestThemAllNow',\n 'ImpeachObamasJudges',\n 'REFLECTINGFARRAKHAN',\n 'Vacunate',\n 'yosimevacuno',\n 'vaccinatedagainstcovid19',\n 'ConstitutionOverCoronaVirus',\n 'strong',\n 'getting',\n 'gettingback',\n 'Wuhan',\n 'mybodymychoice',\n 'manindersinghrandhawa',\n 'civildefence',\n 'shangeetravels',\n 'ofw',\n 'Dubai',\n 'mohap_uae',\n 'uae',\n 'beatthevirus',\n 'CovidHoax',\n 'Sterilization',\n 'experimentalbiologicalagent',\n '2ndDose',\n 'Dose',\n 'HealthCareWorker',\n 'MedStarHealth',\n 'MedStarMontgomeryMedicalCenter',\n 'Hospital',\n 'OlneyMaryland',\n 'Olney',\n 'Maryland',\n 'MD',\n 'XboxSeriesX',\n 'PS5',\n 'feb10',\n 'california',\n 'lompoc',\n 'santabarbara',\n 'vaxster',\n 'dt2021020918',\n 'imnotthrowinawaymyshot',\n 'pandemiclife',\n 'mrna',\n 'genetherapy',\n 'autoimmunedisease',\n 'iamvaccinated',\n 'mutantsuperpowers',\n 'BelieveScience',\n 'AmazonPrime',\n 'TheBoys',\n 'homelander',\n 'compoundv',\n 'Gotmygoldenticket',\n 'hailsatan',\n 'UArizona',\n 'ThankYouFirstResponders',\n 'EmoryHealthcare',\n 'Transhumanism',\n 'AdverseEvent',\n 'sideeffects',\n 'adversereaction',\n 'EXPERIMENTAL',\n 'utsw',\n 'utsouthwestern',\n 'AllDone',\n 'NotAVaccine',\n 'ExperimentalGeneTherapy',\n 'cannabis',\n 'NoNewNormal',\n 'Israel',\n 'MRNA',\n 'CoronaVirusUpdates',\n 'CovidVaccines',\n 'covidiot',\n 'ScienceJobs',\n 'TheExperimentalVaccines',\n 'TheWuhanVirus',\n ...]"
     },
     "execution_count": 72,
     "metadata": {},
     "output_type": "execute_result"
    }
   ],
   "source": [
    "list(df_merged['hashtags'].str.split(\" \").explode('hashtags').unique())"
   ],
   "metadata": {
    "collapsed": false,
    "pycharm": {
     "name": "#%%\n"
    }
   }
  },
  {
   "cell_type": "markdown",
   "source": [
    "# EDA"
   ],
   "metadata": {
    "collapsed": false,
    "pycharm": {
     "name": "#%% md\n"
    }
   }
  },
  {
   "cell_type": "code",
   "execution_count": 258,
   "outputs": [
    {
     "data": {
      "text/plain": "      user_screen_name  count  total_misinfo\n281       robertbtracy     71             71\n438       BrasscheckTV     13             13\n512        KenMcCarthy     13             13\n8132       saskvaccine     13              0\n1128       citizenzee3     12             12\n4467      CovidVaxster     12              0\n6295        edendomain     12             12\n189          DigbyKale     11             11\n3423          jjoyce_r     11             11\n4792    ScienceCareers      8              8\n972            elvisjj      7              7\n3461         lescrooge      7              7\n6783    FindAVaxYorkPA      7              0\n151       quiltmomemmy      6              6\n3466          normsaid      6              6\n4309          UNICEFBD      6              0\n5708           TinaBr2      6              6\n7071            VAXD17      6              0\n8592   MatthiasCorvin6      6              6\n9074     anisaz9_basit      6              6\n689         1_stalking      5              5\n1575        LeoBruce09      5              5\n2175          nzone333      5              0\n3157         clerysboy      5              5\n3179           911poet      5              5\n3456          LyrikLev      5              5\n3502     JohnHolmes192      5              5\n3582       EicemanGail      5              5\n3734        mitchmusic      5              5\n4207    AmericanGirl43      5              5\n4441         docdoug45      5              5\n6340           _timos_      5              5\n6400    ScottSpidlePPC      5              5\n6447        DuckFupped      5              5\n6614   american_seeker      5              5\n7448          DRandall      5              0\n7871   Benjami09195757      5              5\n10265  Cornpop4Trump45      5              5\n57         ArchaicAlly      4              4\n92         davidkurten      4              4\n252         MnEmployed      4              2\n931         MabryMindy      4              4\n1193     JustShiaTings      4              0\n2071   dualipaiscoming      4              0\n2251        RichHoblyn      4              4\n2313        JH66138862      4              4\n2680       TiffanyT80s      4              4\n3050       HPT30147483      4              4\n3204   kisnamajdurekta      4              4\n3528      rossmcmahon_      4              4",
      "text/html": "<div>\n<style scoped>\n    .dataframe tbody tr th:only-of-type {\n        vertical-align: middle;\n    }\n\n    .dataframe tbody tr th {\n        vertical-align: top;\n    }\n\n    .dataframe thead th {\n        text-align: right;\n    }\n</style>\n<table border=\"1\" class=\"dataframe\">\n  <thead>\n    <tr style=\"text-align: right;\">\n      <th></th>\n      <th>user_screen_name</th>\n      <th>count</th>\n      <th>total_misinfo</th>\n    </tr>\n  </thead>\n  <tbody>\n    <tr>\n      <th>281</th>\n      <td>robertbtracy</td>\n      <td>71</td>\n      <td>71</td>\n    </tr>\n    <tr>\n      <th>438</th>\n      <td>BrasscheckTV</td>\n      <td>13</td>\n      <td>13</td>\n    </tr>\n    <tr>\n      <th>512</th>\n      <td>KenMcCarthy</td>\n      <td>13</td>\n      <td>13</td>\n    </tr>\n    <tr>\n      <th>8132</th>\n      <td>saskvaccine</td>\n      <td>13</td>\n      <td>0</td>\n    </tr>\n    <tr>\n      <th>1128</th>\n      <td>citizenzee3</td>\n      <td>12</td>\n      <td>12</td>\n    </tr>\n    <tr>\n      <th>4467</th>\n      <td>CovidVaxster</td>\n      <td>12</td>\n      <td>0</td>\n    </tr>\n    <tr>\n      <th>6295</th>\n      <td>edendomain</td>\n      <td>12</td>\n      <td>12</td>\n    </tr>\n    <tr>\n      <th>189</th>\n      <td>DigbyKale</td>\n      <td>11</td>\n      <td>11</td>\n    </tr>\n    <tr>\n      <th>3423</th>\n      <td>jjoyce_r</td>\n      <td>11</td>\n      <td>11</td>\n    </tr>\n    <tr>\n      <th>4792</th>\n      <td>ScienceCareers</td>\n      <td>8</td>\n      <td>8</td>\n    </tr>\n    <tr>\n      <th>972</th>\n      <td>elvisjj</td>\n      <td>7</td>\n      <td>7</td>\n    </tr>\n    <tr>\n      <th>3461</th>\n      <td>lescrooge</td>\n      <td>7</td>\n      <td>7</td>\n    </tr>\n    <tr>\n      <th>6783</th>\n      <td>FindAVaxYorkPA</td>\n      <td>7</td>\n      <td>0</td>\n    </tr>\n    <tr>\n      <th>151</th>\n      <td>quiltmomemmy</td>\n      <td>6</td>\n      <td>6</td>\n    </tr>\n    <tr>\n      <th>3466</th>\n      <td>normsaid</td>\n      <td>6</td>\n      <td>6</td>\n    </tr>\n    <tr>\n      <th>4309</th>\n      <td>UNICEFBD</td>\n      <td>6</td>\n      <td>0</td>\n    </tr>\n    <tr>\n      <th>5708</th>\n      <td>TinaBr2</td>\n      <td>6</td>\n      <td>6</td>\n    </tr>\n    <tr>\n      <th>7071</th>\n      <td>VAXD17</td>\n      <td>6</td>\n      <td>0</td>\n    </tr>\n    <tr>\n      <th>8592</th>\n      <td>MatthiasCorvin6</td>\n      <td>6</td>\n      <td>6</td>\n    </tr>\n    <tr>\n      <th>9074</th>\n      <td>anisaz9_basit</td>\n      <td>6</td>\n      <td>6</td>\n    </tr>\n    <tr>\n      <th>689</th>\n      <td>1_stalking</td>\n      <td>5</td>\n      <td>5</td>\n    </tr>\n    <tr>\n      <th>1575</th>\n      <td>LeoBruce09</td>\n      <td>5</td>\n      <td>5</td>\n    </tr>\n    <tr>\n      <th>2175</th>\n      <td>nzone333</td>\n      <td>5</td>\n      <td>0</td>\n    </tr>\n    <tr>\n      <th>3157</th>\n      <td>clerysboy</td>\n      <td>5</td>\n      <td>5</td>\n    </tr>\n    <tr>\n      <th>3179</th>\n      <td>911poet</td>\n      <td>5</td>\n      <td>5</td>\n    </tr>\n    <tr>\n      <th>3456</th>\n      <td>LyrikLev</td>\n      <td>5</td>\n      <td>5</td>\n    </tr>\n    <tr>\n      <th>3502</th>\n      <td>JohnHolmes192</td>\n      <td>5</td>\n      <td>5</td>\n    </tr>\n    <tr>\n      <th>3582</th>\n      <td>EicemanGail</td>\n      <td>5</td>\n      <td>5</td>\n    </tr>\n    <tr>\n      <th>3734</th>\n      <td>mitchmusic</td>\n      <td>5</td>\n      <td>5</td>\n    </tr>\n    <tr>\n      <th>4207</th>\n      <td>AmericanGirl43</td>\n      <td>5</td>\n      <td>5</td>\n    </tr>\n    <tr>\n      <th>4441</th>\n      <td>docdoug45</td>\n      <td>5</td>\n      <td>5</td>\n    </tr>\n    <tr>\n      <th>6340</th>\n      <td>_timos_</td>\n      <td>5</td>\n      <td>5</td>\n    </tr>\n    <tr>\n      <th>6400</th>\n      <td>ScottSpidlePPC</td>\n      <td>5</td>\n      <td>5</td>\n    </tr>\n    <tr>\n      <th>6447</th>\n      <td>DuckFupped</td>\n      <td>5</td>\n      <td>5</td>\n    </tr>\n    <tr>\n      <th>6614</th>\n      <td>american_seeker</td>\n      <td>5</td>\n      <td>5</td>\n    </tr>\n    <tr>\n      <th>7448</th>\n      <td>DRandall</td>\n      <td>5</td>\n      <td>0</td>\n    </tr>\n    <tr>\n      <th>7871</th>\n      <td>Benjami09195757</td>\n      <td>5</td>\n      <td>5</td>\n    </tr>\n    <tr>\n      <th>10265</th>\n      <td>Cornpop4Trump45</td>\n      <td>5</td>\n      <td>5</td>\n    </tr>\n    <tr>\n      <th>57</th>\n      <td>ArchaicAlly</td>\n      <td>4</td>\n      <td>4</td>\n    </tr>\n    <tr>\n      <th>92</th>\n      <td>davidkurten</td>\n      <td>4</td>\n      <td>4</td>\n    </tr>\n    <tr>\n      <th>252</th>\n      <td>MnEmployed</td>\n      <td>4</td>\n      <td>2</td>\n    </tr>\n    <tr>\n      <th>931</th>\n      <td>MabryMindy</td>\n      <td>4</td>\n      <td>4</td>\n    </tr>\n    <tr>\n      <th>1193</th>\n      <td>JustShiaTings</td>\n      <td>4</td>\n      <td>0</td>\n    </tr>\n    <tr>\n      <th>2071</th>\n      <td>dualipaiscoming</td>\n      <td>4</td>\n      <td>0</td>\n    </tr>\n    <tr>\n      <th>2251</th>\n      <td>RichHoblyn</td>\n      <td>4</td>\n      <td>4</td>\n    </tr>\n    <tr>\n      <th>2313</th>\n      <td>JH66138862</td>\n      <td>4</td>\n      <td>4</td>\n    </tr>\n    <tr>\n      <th>2680</th>\n      <td>TiffanyT80s</td>\n      <td>4</td>\n      <td>4</td>\n    </tr>\n    <tr>\n      <th>3050</th>\n      <td>HPT30147483</td>\n      <td>4</td>\n      <td>4</td>\n    </tr>\n    <tr>\n      <th>3204</th>\n      <td>kisnamajdurekta</td>\n      <td>4</td>\n      <td>4</td>\n    </tr>\n    <tr>\n      <th>3528</th>\n      <td>rossmcmahon_</td>\n      <td>4</td>\n      <td>4</td>\n    </tr>\n  </tbody>\n</table>\n</div>"
     },
     "execution_count": 258,
     "metadata": {},
     "output_type": "execute_result"
    }
   ],
   "source": [
    "# Who have the most tweets & how many are misinfo?\n",
    "tweet_count = df.merge(all_data[['id', 'text', 'user_screen_name']], on='id')\n",
    "tweet_count['count'] = tweet_count.groupby('user_screen_name')['user_screen_name'].transform('count')\n",
    "tweet_count['total_misinfo'] = tweet_count.groupby('user_screen_name')['is_misinfo'].transform('sum')\n",
    "tweet_count = tweet_count[['user_screen_name', 'count', 'total_misinfo']].drop_duplicates()\n",
    "#tweet_count.loc[tweet_count['count'] > 1]\n",
    "tweet_count.nlargest(50, 'count')"
   ],
   "metadata": {
    "collapsed": false,
    "pycharm": {
     "name": "#%%\n"
    }
   }
  },
  {
   "cell_type": "code",
   "execution_count": 259,
   "outputs": [
    {
     "data": {
      "text/plain": "                     id  is_misinfo  \\\n0   1344079779717373956           1   \n1   1344075466534170626           1   \n2   1343931287858524162           1   \n3   1343682513911296001           1   \n4   1343006846060265472           1   \n5   1342517367251886081           1   \n6   1346235709938692099           1   \n7   1346107112749989888           1   \n8   1345858485251166211           1   \n9   1345757691596189697           1   \n10  1345755718633349121           1   \n11  1345384583198609415           1   \n12  1345207399309783043           1   \n\n                                                 text hashtags  \n0   MDs who've issued public warnings re: the expe...      NaN  \n1   If you want to participate in the world's firs...      NaN  \n2   Every time I see a post about \"the vaccine\", I...      NaN  \n3   Will post this every day. You might consider t...      NaN  \n4   Journalists and commentators: Let's clean up o...      NaN  \n5   I wonder how many people realize that the \"vac...      NaN  \n6   How terribly inconvenient for the pharma con a...      NaN  \n7   Everyone knows Fauci lies, but no one asks WHY...      NaN  \n8   2 issues: 1) Is compelled medical treatment of...      NaN  \n9   The reason behind the lies: How did a BS gene ...      NaN  \n10  Everyone should become conversant with the FDA...      NaN  \n11  Waiting for someone in \"journalism\" to tell pe...      NaN  \n12  FDA \"approval\" of the experimental gene therap...      NaN  ",
      "text/html": "<div>\n<style scoped>\n    .dataframe tbody tr th:only-of-type {\n        vertical-align: middle;\n    }\n\n    .dataframe tbody tr th {\n        vertical-align: top;\n    }\n\n    .dataframe thead th {\n        text-align: right;\n    }\n</style>\n<table border=\"1\" class=\"dataframe\">\n  <thead>\n    <tr style=\"text-align: right;\">\n      <th></th>\n      <th>id</th>\n      <th>is_misinfo</th>\n      <th>text</th>\n      <th>hashtags</th>\n    </tr>\n  </thead>\n  <tbody>\n    <tr>\n      <th>0</th>\n      <td>1344079779717373956</td>\n      <td>1</td>\n      <td>MDs who've issued public warnings re: the expe...</td>\n      <td>NaN</td>\n    </tr>\n    <tr>\n      <th>1</th>\n      <td>1344075466534170626</td>\n      <td>1</td>\n      <td>If you want to participate in the world's firs...</td>\n      <td>NaN</td>\n    </tr>\n    <tr>\n      <th>2</th>\n      <td>1343931287858524162</td>\n      <td>1</td>\n      <td>Every time I see a post about \"the vaccine\", I...</td>\n      <td>NaN</td>\n    </tr>\n    <tr>\n      <th>3</th>\n      <td>1343682513911296001</td>\n      <td>1</td>\n      <td>Will post this every day. You might consider t...</td>\n      <td>NaN</td>\n    </tr>\n    <tr>\n      <th>4</th>\n      <td>1343006846060265472</td>\n      <td>1</td>\n      <td>Journalists and commentators: Let's clean up o...</td>\n      <td>NaN</td>\n    </tr>\n    <tr>\n      <th>5</th>\n      <td>1342517367251886081</td>\n      <td>1</td>\n      <td>I wonder how many people realize that the \"vac...</td>\n      <td>NaN</td>\n    </tr>\n    <tr>\n      <th>6</th>\n      <td>1346235709938692099</td>\n      <td>1</td>\n      <td>How terribly inconvenient for the pharma con a...</td>\n      <td>NaN</td>\n    </tr>\n    <tr>\n      <th>7</th>\n      <td>1346107112749989888</td>\n      <td>1</td>\n      <td>Everyone knows Fauci lies, but no one asks WHY...</td>\n      <td>NaN</td>\n    </tr>\n    <tr>\n      <th>8</th>\n      <td>1345858485251166211</td>\n      <td>1</td>\n      <td>2 issues: 1) Is compelled medical treatment of...</td>\n      <td>NaN</td>\n    </tr>\n    <tr>\n      <th>9</th>\n      <td>1345757691596189697</td>\n      <td>1</td>\n      <td>The reason behind the lies: How did a BS gene ...</td>\n      <td>NaN</td>\n    </tr>\n    <tr>\n      <th>10</th>\n      <td>1345755718633349121</td>\n      <td>1</td>\n      <td>Everyone should become conversant with the FDA...</td>\n      <td>NaN</td>\n    </tr>\n    <tr>\n      <th>11</th>\n      <td>1345384583198609415</td>\n      <td>1</td>\n      <td>Waiting for someone in \"journalism\" to tell pe...</td>\n      <td>NaN</td>\n    </tr>\n    <tr>\n      <th>12</th>\n      <td>1345207399309783043</td>\n      <td>1</td>\n      <td>FDA \"approval\" of the experimental gene therap...</td>\n      <td>NaN</td>\n    </tr>\n  </tbody>\n</table>\n</div>"
     },
     "execution_count": 259,
     "metadata": {},
     "output_type": "execute_result"
    }
   ],
   "source": [
    "df.merge(all_data.loc[all_data['user_screen_name'] == 'KenMcCarthy'][['id', 'text', 'hashtags']], on='id')"
   ],
   "metadata": {
    "collapsed": false,
    "pycharm": {
     "name": "#%%\n"
    }
   }
  },
  {
   "cell_type": "code",
   "execution_count": 260,
   "outputs": [
    {
     "name": "stderr",
     "output_type": "stream",
     "text": [
      "C:\\Users\\prism\\AppData\\Local\\Programs\\Python\\Python39\\lib\\site-packages\\seaborn\\_decorators.py:36: FutureWarning: Pass the following variable as a keyword arg: x. From version 0.12, the only valid positional argument will be `data`, and passing other arguments without an explicit keyword will result in an error or misinterpretation.\n",
      "  warnings.warn(\n"
     ]
    },
    {
     "data": {
      "text/plain": "<AxesSubplot:xlabel='is_misinfo', ylabel='count'>"
     },
     "execution_count": 260,
     "metadata": {},
     "output_type": "execute_result"
    },
    {
     "data": {
      "text/plain": "<Figure size 432x288 with 1 Axes>",
      "image/png": "[encoded data removed]"
     },
     "metadata": {
      "needs_background": "light"
     },
     "output_type": "display_data"
    }
   ],
   "source": [
    "sns.countplot(df_merged.is_misinfo)"
   ],
   "metadata": {
    "collapsed": false,
    "pycharm": {
     "name": "#%%\n"
    }
   }
  },
  {
   "cell_type": "code",
   "execution_count": 261,
   "outputs": [
    {
     "data": {
      "text/plain": "                  tweetID emoji  is_misinfo  \\\n0     1344789441764737024     😂           0   \n1     1344789441764737024     🎉           0   \n2     1344782644408680448     🙈           0   \n3     1344771024798285826     😅           0   \n4     1344770503014297602     🙏           1   \n...                   ...   ...         ...   \n4362  1413095225686331393    🤲🏻           0   \n4363  1413095225686331393     💉           0   \n4364  1413093526867378181     🥵           0   \n4365  1413089672910213121     🥲           0   \n4366  1413085365745774593     💕           0   \n\n                                                  tweet  \n0     so excited for The Vaccine that i got a tetanu...  \n1     so excited for The Vaccine that i got a tetanu...  \n2     I finally got an appointment for the COVID vac...  \n3     Everyone saying “goodbye 2020” and acting exci...  \n4     Well, it happened. My daughter used my grandch...  \n...                                                 ...  \n4362  Alhamdulillah, vaccine day first dose💉🤲🏻 https...  \n4363  Alhamdulillah, vaccine day first dose💉🤲🏻 https...  \n4364  70% excited. 30% nervous for vaccine appointme...  \n4365  Got my second dose of the vaccine! Yay! But al...  \n4366  I’m so happy that my mom got her first dose va...  \n\n[4367 rows x 4 columns]",
      "text/html": "<div>\n<style scoped>\n    .dataframe tbody tr th:only-of-type {\n        vertical-align: middle;\n    }\n\n    .dataframe tbody tr th {\n        vertical-align: top;\n    }\n\n    .dataframe thead th {\n        text-align: right;\n    }\n</style>\n<table border=\"1\" class=\"dataframe\">\n  <thead>\n    <tr style=\"text-align: right;\">\n      <th></th>\n      <th>tweetID</th>\n      <th>emoji</th>\n      <th>is_misinfo</th>\n      <th>tweet</th>\n    </tr>\n  </thead>\n  <tbody>\n    <tr>\n      <th>0</th>\n      <td>1344789441764737024</td>\n      <td>😂</td>\n      <td>0</td>\n      <td>so excited for The Vaccine that i got a tetanu...</td>\n    </tr>\n    <tr>\n      <th>1</th>\n      <td>1344789441764737024</td>\n      <td>🎉</td>\n      <td>0</td>\n      <td>so excited for The Vaccine that i got a tetanu...</td>\n    </tr>\n    <tr>\n      <th>2</th>\n      <td>1344782644408680448</td>\n      <td>🙈</td>\n      <td>0</td>\n      <td>I finally got an appointment for the COVID vac...</td>\n    </tr>\n    <tr>\n      <th>3</th>\n      <td>1344771024798285826</td>\n      <td>😅</td>\n      <td>0</td>\n      <td>Everyone saying “goodbye 2020” and acting exci...</td>\n    </tr>\n    <tr>\n      <th>4</th>\n      <td>1344770503014297602</td>\n      <td>🙏</td>\n      <td>1</td>\n      <td>Well, it happened. My daughter used my grandch...</td>\n    </tr>\n    <tr>\n      <th>...</th>\n      <td>...</td>\n      <td>...</td>\n      <td>...</td>\n      <td>...</td>\n    </tr>\n    <tr>\n      <th>4362</th>\n      <td>1413095225686331393</td>\n      <td>🤲🏻</td>\n      <td>0</td>\n      <td>Alhamdulillah, vaccine day first dose💉🤲🏻 https...</td>\n    </tr>\n    <tr>\n      <th>4363</th>\n      <td>1413095225686331393</td>\n      <td>💉</td>\n      <td>0</td>\n      <td>Alhamdulillah, vaccine day first dose💉🤲🏻 https...</td>\n    </tr>\n    <tr>\n      <th>4364</th>\n      <td>1413093526867378181</td>\n      <td>🥵</td>\n      <td>0</td>\n      <td>70% excited. 30% nervous for vaccine appointme...</td>\n    </tr>\n    <tr>\n      <th>4365</th>\n      <td>1413089672910213121</td>\n      <td>🥲</td>\n      <td>0</td>\n      <td>Got my second dose of the vaccine! Yay! But al...</td>\n    </tr>\n    <tr>\n      <th>4366</th>\n      <td>1413085365745774593</td>\n      <td>💕</td>\n      <td>0</td>\n      <td>I’m so happy that my mom got her first dose va...</td>\n    </tr>\n  </tbody>\n</table>\n<p>4367 rows × 4 columns</p>\n</div>"
     },
     "execution_count": 261,
     "metadata": {},
     "output_type": "execute_result"
    }
   ],
   "source": [
    "# find all tweets containing emojis\n",
    "emoji_tweets = pd.DataFrame(columns = ['tweetID', 'emoji', 'is_misinfo', 'tweet'])\n",
    "for idx, tweet in enumerate(df_merged.text):\n",
    "  for emot in UNICODE_EMOJI:\n",
    "    if emot in tweet:\n",
    "      emoji_tweets.loc[len(emoji_tweets.index)] = [df_merged['id'][idx], emot, df_merged.is_misinfo[idx], tweet]\n",
    "\n",
    "emoji_tweets"
   ],
   "metadata": {
    "collapsed": false,
    "pycharm": {
     "name": "#%%\n"
    }
   }
  },
  {
   "cell_type": "code",
   "execution_count": 262,
   "outputs": [
    {
     "data": {
      "text/plain": "emoji\n💉    360.0\n🙏    145.0\n❤    125.0\n🏻    110.0\n😭     87.0\n🏼     80.0\n🙌     79.0\n😂     76.0\n🥳     73.0\n✅     69.0\n🏽     63.0\n💪     60.0\n🥰     59.0\n👍     58.0\n🎉     53.0\n😷     53.0\n😊     51.0\n😁     46.0\n🥺     46.0\n🏾     42.0\nName: 0, dtype: float64"
     },
     "execution_count": 262,
     "metadata": {},
     "output_type": "execute_result"
    }
   ],
   "source": [
    "emoji_misinfo_dist = emoji_tweets.groupby(['emoji', 'is_misinfo']).is_misinfo.count().nlargest(200).unstack()\n",
    "emoji_misinfo_dist[0].nlargest(20)\n",
    "#emoji_misinfo_dist.head(5).plot(kind='bar')\n"
   ],
   "metadata": {
    "collapsed": false,
    "pycharm": {
     "name": "#%%\n"
    }
   }
  },
  {
   "cell_type": "code",
   "execution_count": 263,
   "outputs": [
    {
     "data": {
      "text/plain": "emoji\n🤔     49.0\n💉     46.0\n🙄     20.0\n🤦     20.0\n😂     19.0\n♂     17.0\n👇     16.0\n🤣     15.0\n🏾     14.0\n♀     13.0\n😡     12.0\n🏻     11.0\n🙏     11.0\n🚨     11.0\n🇺🇸    10.0\n🤷     10.0\n‼      8.0\n🥴      8.0\n☠      7.0\n🏽      6.0\nName: 1, dtype: float64"
     },
     "execution_count": 263,
     "metadata": {},
     "output_type": "execute_result"
    }
   ],
   "source": [
    "emoji_misinfo_dist[1].nlargest(20)"
   ],
   "metadata": {
    "collapsed": false,
    "pycharm": {
     "name": "#%%\n"
    }
   }
  },
  {
   "cell_type": "markdown",
   "source": [
    "### Are allcaps an indicator?"
   ],
   "metadata": {
    "collapsed": false,
    "pycharm": {
     "name": "#%% md\n"
    }
   }
  },
  {
   "cell_type": "code",
   "execution_count": 264,
   "outputs": [
    {
     "data": {
      "text/plain": "                       id  num_allcaps_words  is_misinfo  \\\n0     1344795424855642112                0.0           0   \n7263  1387836067404042246                0.0           0   \n7266  1387835860888997891                0.0           0   \n7268  1387835524166135808                0.0           0   \n7269  1387835261300662273                0.0           0   \n...                   ...                ...         ...   \n3508  1360654515859574786               35.0           1   \n6391  1372354567438884867               35.0           1   \n8591  1385975111140925445               37.0           1   \n3048  1346102824250314760               38.0           1   \n6547  1371858666987606017               42.0           1   \n\n                                                  tweet  \n0     if you kissed someone on Amelia St don’t worry...  \n7263  I received my second vaccine shot yesterday &a...  \n7266  Vaccination Appointment  1st appt May 7 and 2n...  \n7268  Only 75 people show up at South Bend vaccine c...  \n7269  Why Not Take a Shot – #WhatAggravatesMe httpst...  \n...                                                 ...  \n3508  CDC NEEDS TO ADMIT  LABEL THE COVID VACCINE AS...  \n6391  AND MARATHI MANOOS IS BORN WITH A SPECIAL BRAI...  \n8591  CHINA AND BILL GATES AND YOUR ILLUMINATI GROUP...  \n3048  ALL OF CONGRESS THE PRESIDENCY WILL BE EXEMPT ...  \n6547  THE mRNA IS A VIRUS THAT BLOCKS AND STOPS THE ...  \n\n[12297 rows x 4 columns]",
      "text/html": "<div>\n<style scoped>\n    .dataframe tbody tr th:only-of-type {\n        vertical-align: middle;\n    }\n\n    .dataframe tbody tr th {\n        vertical-align: top;\n    }\n\n    .dataframe thead th {\n        text-align: right;\n    }\n</style>\n<table border=\"1\" class=\"dataframe\">\n  <thead>\n    <tr style=\"text-align: right;\">\n      <th></th>\n      <th>id</th>\n      <th>num_allcaps_words</th>\n      <th>is_misinfo</th>\n      <th>tweet</th>\n    </tr>\n  </thead>\n  <tbody>\n    <tr>\n      <th>0</th>\n      <td>1344795424855642112</td>\n      <td>0.0</td>\n      <td>0</td>\n      <td>if you kissed someone on Amelia St don’t worry...</td>\n    </tr>\n    <tr>\n      <th>7263</th>\n      <td>1387836067404042246</td>\n      <td>0.0</td>\n      <td>0</td>\n      <td>I received my second vaccine shot yesterday &amp;a...</td>\n    </tr>\n    <tr>\n      <th>7266</th>\n      <td>1387835860888997891</td>\n      <td>0.0</td>\n      <td>0</td>\n      <td>Vaccination Appointment  1st appt May 7 and 2n...</td>\n    </tr>\n    <tr>\n      <th>7268</th>\n      <td>1387835524166135808</td>\n      <td>0.0</td>\n      <td>0</td>\n      <td>Only 75 people show up at South Bend vaccine c...</td>\n    </tr>\n    <tr>\n      <th>7269</th>\n      <td>1387835261300662273</td>\n      <td>0.0</td>\n      <td>0</td>\n      <td>Why Not Take a Shot – #WhatAggravatesMe httpst...</td>\n    </tr>\n    <tr>\n      <th>...</th>\n      <td>...</td>\n      <td>...</td>\n      <td>...</td>\n      <td>...</td>\n    </tr>\n    <tr>\n      <th>3508</th>\n      <td>1360654515859574786</td>\n      <td>35.0</td>\n      <td>1</td>\n      <td>CDC NEEDS TO ADMIT  LABEL THE COVID VACCINE AS...</td>\n    </tr>\n    <tr>\n      <th>6391</th>\n      <td>1372354567438884867</td>\n      <td>35.0</td>\n      <td>1</td>\n      <td>AND MARATHI MANOOS IS BORN WITH A SPECIAL BRAI...</td>\n    </tr>\n    <tr>\n      <th>8591</th>\n      <td>1385975111140925445</td>\n      <td>37.0</td>\n      <td>1</td>\n      <td>CHINA AND BILL GATES AND YOUR ILLUMINATI GROUP...</td>\n    </tr>\n    <tr>\n      <th>3048</th>\n      <td>1346102824250314760</td>\n      <td>38.0</td>\n      <td>1</td>\n      <td>ALL OF CONGRESS THE PRESIDENCY WILL BE EXEMPT ...</td>\n    </tr>\n    <tr>\n      <th>6547</th>\n      <td>1371858666987606017</td>\n      <td>42.0</td>\n      <td>1</td>\n      <td>THE mRNA IS A VIRUS THAT BLOCKS AND STOPS THE ...</td>\n    </tr>\n  </tbody>\n</table>\n<p>12297 rows × 4 columns</p>\n</div>"
     },
     "execution_count": 264,
     "metadata": {},
     "output_type": "execute_result"
    }
   ],
   "source": [
    "num_allcaps_words = pd.DataFrame(columns = ['id', 'num_allcaps_words', 'is_misinfo', 'tweet'])\n",
    "for idx, tweet in enumerate(df_merged.text):\n",
    "  tweet = tweet.replace(\"\\n\", \" \")\n",
    "  tweet = re.sub(r'[/\\[\\]\\\\\\{\\}\\(\\)\\|\\;\\'\\:\\\"\\,\\!\\?\\.]', '', tweet)\n",
    "  words = tweet.split(\" \")\n",
    "  allcaps_count = 0.0\n",
    "  for word in words:\n",
    "    #len(word) > 2 because wods like 'I' aren't representative\n",
    "    if len(word) > 2 and word.isupper():\n",
    "      allcaps_count = allcaps_count + 1.0\n",
    "  num_allcaps_words.loc[len(num_allcaps_words.index)] = [df_merged['id'][idx], allcaps_count, df_merged.is_misinfo[idx], tweet]\n",
    "\n",
    "num_allcaps_words.sort_values(by='num_allcaps_words', inplace=True)\n",
    "num_allcaps_words"
   ],
   "metadata": {
    "collapsed": false,
    "pycharm": {
     "name": "#%%\n"
    }
   }
  },
  {
   "cell_type": "code",
   "execution_count": 265,
   "outputs": [
    {
     "data": {
      "text/plain": "                      id  num_allcaps_words\nis_misinfo                                 \n0           1.373930e+18           0.446466\n1           1.373673e+18           1.429601",
      "text/html": "<div>\n<style scoped>\n    .dataframe tbody tr th:only-of-type {\n        vertical-align: middle;\n    }\n\n    .dataframe tbody tr th {\n        vertical-align: top;\n    }\n\n    .dataframe thead th {\n        text-align: right;\n    }\n</style>\n<table border=\"1\" class=\"dataframe\">\n  <thead>\n    <tr style=\"text-align: right;\">\n      <th></th>\n      <th>id</th>\n      <th>num_allcaps_words</th>\n    </tr>\n    <tr>\n      <th>is_misinfo</th>\n      <th></th>\n      <th></th>\n    </tr>\n  </thead>\n  <tbody>\n    <tr>\n      <th>0</th>\n      <td>1.373930e+18</td>\n      <td>0.446466</td>\n    </tr>\n    <tr>\n      <th>1</th>\n      <td>1.373673e+18</td>\n      <td>1.429601</td>\n    </tr>\n  </tbody>\n</table>\n</div>"
     },
     "execution_count": 265,
     "metadata": {},
     "output_type": "execute_result"
    }
   ],
   "source": [
    "num_allcaps_words_class_means = num_allcaps_words.groupby(['is_misinfo']).mean()\n",
    "num_allcaps_words_class_means"
   ],
   "metadata": {
    "collapsed": false,
    "pycharm": {
     "name": "#%%\n"
    }
   }
  },
  {
   "cell_type": "code",
   "execution_count": 266,
   "outputs": [
    {
     "data": {
      "text/plain": "                        id  is_misinfo  \\\n0      1344795424855642112           0   \n1      1344794858133860353           0   \n2      1344794822691983360           0   \n3      1344794752819077123           1   \n4      1344790296119422980           1   \n...                    ...         ...   \n12292  1413088663886573569           1   \n12293  1413087751474397186           0   \n12294  1413087030578401283           0   \n12295  1413085519710363648           0   \n12296  1413085365745774593           0   \n\n                                                    text  \\\n0      if you kissed someone on Amelia St, don’t worr...   \n1      i really doubt 2021 will be much different imo...   \n2      People want answers, but they’re also just exc...   \n3      Why any healthy person would want to take an e...   \n4      1/1 @TheBMA surely consenting people to a two ...   \n...                                                  ...   \n12292  Go ahead, take it...#Vaccine #TheJab #Genocide...   \n12293  Going to my first vaccine today. Very very ner...   \n12294  Media: \"The #Japanese government declared a ne...   \n12295  Getting my first dose vaccine tomorrow. HUKM d...   \n12296  I’m so happy that my mom got her first dose va...   \n\n                                                hashtags  num_allcaps_words  \n0                                                    NaN                0.0  \n1                                                    NaN                0.0  \n2                                                    NaN                0.0  \n3                                                    NaN                0.0  \n4                                                    NaN                0.0  \n...                                                  ...                ...  \n12292  Vaccine TheJab Genocide Depopulation Resist198...                0.0  \n12293                     firstjab VACCINE hull hull2021                1.0  \n12294                               Japanese coronavirus                0.0  \n12295                                                NaN                1.0  \n12296                                                NaN                0.0  \n\n[12297 rows x 5 columns]",
      "text/html": "<div>\n<style scoped>\n    .dataframe tbody tr th:only-of-type {\n        vertical-align: middle;\n    }\n\n    .dataframe tbody tr th {\n        vertical-align: top;\n    }\n\n    .dataframe thead th {\n        text-align: right;\n    }\n</style>\n<table border=\"1\" class=\"dataframe\">\n  <thead>\n    <tr style=\"text-align: right;\">\n      <th></th>\n      <th>id</th>\n      <th>is_misinfo</th>\n      <th>text</th>\n      <th>hashtags</th>\n      <th>num_allcaps_words</th>\n    </tr>\n  </thead>\n  <tbody>\n    <tr>\n      <th>0</th>\n      <td>1344795424855642112</td>\n      <td>0</td>\n      <td>if you kissed someone on Amelia St, don’t worr...</td>\n      <td>NaN</td>\n      <td>0.0</td>\n    </tr>\n    <tr>\n      <th>1</th>\n      <td>1344794858133860353</td>\n      <td>0</td>\n      <td>i really doubt 2021 will be much different imo...</td>\n      <td>NaN</td>\n      <td>0.0</td>\n    </tr>\n    <tr>\n      <th>2</th>\n      <td>1344794822691983360</td>\n      <td>0</td>\n      <td>People want answers, but they’re also just exc...</td>\n      <td>NaN</td>\n      <td>0.0</td>\n    </tr>\n    <tr>\n      <th>3</th>\n      <td>1344794752819077123</td>\n      <td>1</td>\n      <td>Why any healthy person would want to take an e...</td>\n      <td>NaN</td>\n      <td>0.0</td>\n    </tr>\n    <tr>\n      <th>4</th>\n      <td>1344790296119422980</td>\n      <td>1</td>\n      <td>1/1 @TheBMA surely consenting people to a two ...</td>\n      <td>NaN</td>\n      <td>0.0</td>\n    </tr>\n    <tr>\n      <th>...</th>\n      <td>...</td>\n      <td>...</td>\n      <td>...</td>\n      <td>...</td>\n      <td>...</td>\n    </tr>\n    <tr>\n      <th>12292</th>\n      <td>1413088663886573569</td>\n      <td>1</td>\n      <td>Go ahead, take it...#Vaccine #TheJab #Genocide...</td>\n      <td>Vaccine TheJab Genocide Depopulation Resist198...</td>\n      <td>0.0</td>\n    </tr>\n    <tr>\n      <th>12293</th>\n      <td>1413087751474397186</td>\n      <td>0</td>\n      <td>Going to my first vaccine today. Very very ner...</td>\n      <td>firstjab VACCINE hull hull2021</td>\n      <td>1.0</td>\n    </tr>\n    <tr>\n      <th>12294</th>\n      <td>1413087030578401283</td>\n      <td>0</td>\n      <td>Media: \"The #Japanese government declared a ne...</td>\n      <td>Japanese coronavirus</td>\n      <td>0.0</td>\n    </tr>\n    <tr>\n      <th>12295</th>\n      <td>1413085519710363648</td>\n      <td>0</td>\n      <td>Getting my first dose vaccine tomorrow. HUKM d...</td>\n      <td>NaN</td>\n      <td>1.0</td>\n    </tr>\n    <tr>\n      <th>12296</th>\n      <td>1413085365745774593</td>\n      <td>0</td>\n      <td>I’m so happy that my mom got her first dose va...</td>\n      <td>NaN</td>\n      <td>0.0</td>\n    </tr>\n  </tbody>\n</table>\n<p>12297 rows × 5 columns</p>\n</div>"
     },
     "execution_count": 266,
     "metadata": {},
     "output_type": "execute_result"
    }
   ],
   "source": [
    "df_merged = df_merged.merge(num_allcaps_words[['id', 'num_allcaps_words']], on='id')\n",
    "df_merged"
   ],
   "metadata": {
    "collapsed": false,
    "pycharm": {
     "name": "#%%\n"
    }
   }
  },
  {
   "cell_type": "markdown",
   "source": [
    "### Wordcloud"
   ],
   "metadata": {
    "collapsed": false,
    "pycharm": {
     "name": "#%% md\n"
    }
   }
  },
  {
   "cell_type": "code",
   "execution_count": null,
   "outputs": [],
   "source": [
    "from collections import Counter\n",
    "\n",
    "def plot_wordcloud(tweets, title):\n",
    "  topwords = Counter(\" \".join(tweets).split()).most_common(200)\n",
    "  #print (topwords)\n",
    "  topword_list = []\n",
    "  for w, n in topwords:\n",
    "      topword_list.append(w);\n",
    "\n",
    "  topword_sentence = \" \".join(topword_list) + \" \"\n",
    "  #print(topword_sentence)\n",
    "\n",
    "  stopwords = nltk.corpus.stopwords.words('english')\n",
    "  wordcloud = WordCloud(width = 800, height = 800,\n",
    "                  background_color ='white',\n",
    "                  stopwords = stopwords,\n",
    "                  min_font_size = 10).generate(topword_sentence)\n",
    "\n",
    "  # plot the WordCloud image\n",
    "  plt.figure(figsize = (8, 8), facecolor = None)\n",
    "  plt.imshow(wordcloud)\n",
    "  plt.axis(\"off\")\n",
    "  plt.tight_layout(pad = 0)\n",
    "  plt.show()\n",
    "\n",
    "misinfo_texts = df_merged.text[df_merged['is_misinfo'] == 1]\n",
    "plot_wordcloud(misinfo_texts, 'Top words for tweets classified as misinformation')\n",
    "no_misinfo_texts = df_merged.text[df_merged['is_misinfo'] == 0]\n",
    "plot_wordcloud(no_misinfo_texts, 'Top words for tweets classified as no-misinformation')\n"
   ],
   "metadata": {
    "collapsed": false,
    "pycharm": {
     "name": "#%%\n"
    }
   }
  },
  {
   "cell_type": "markdown",
   "source": [
    "## Preprocessing"
   ],
   "metadata": {
    "collapsed": false,
    "pycharm": {
     "name": "#%% md\n"
    }
   }
  },
  {
   "cell_type": "code",
   "execution_count": 220,
   "outputs": [
    {
     "data": {
      "text/plain": "                        id  is_misinfo  \\\n0      1344795424855642112           0   \n1      1344794858133860353           0   \n2      1344794822691983360           0   \n3      1344794752819077123           1   \n4      1344790296119422980           1   \n...                    ...         ...   \n12292  1413088663886573569           1   \n12293  1413087751474397186           0   \n12294  1413087030578401283           0   \n12295  1413085519710363648           0   \n12296  1413085365745774593           0   \n\n                                                    text  \\\n0          [kissed, someone, amelia, st, worry, vaccine]   \n1      [really, doubt, 2021, much, different, going, ...   \n2      [people, want, answer, also, excited, get, vac...   \n3      [healthy, person, would, want, take, experimen...   \n4      [surely, consenting, people, two, part, licens...   \n...                                                  ...   \n12292  [go, ahead, take, vaccine, thejab, genocide, d...   \n12293  [going, first, vaccine, today, nervous, also, ...   \n12294  [medium, japanese, government, declared, new, ...   \n12295  [getting, first, dose, vaccine, tomorrowrrow, ...   \n12296  [happy, mom, got, first, dose, vaccine, appoin...   \n\n                                                hashtags  \n0                                                    NaN  \n1                                                    NaN  \n2                                                    NaN  \n3                                                    NaN  \n4                                                    NaN  \n...                                                  ...  \n12292  Vaccine TheJab Genocide Depopulation Resist198...  \n12293                     firstjab VACCINE hull hull2021  \n12294                               Japanese coronavirus  \n12295                                                NaN  \n12296                                                NaN  \n\n[12297 rows x 4 columns]",
      "text/html": "<div>\n<style scoped>\n    .dataframe tbody tr th:only-of-type {\n        vertical-align: middle;\n    }\n\n    .dataframe tbody tr th {\n        vertical-align: top;\n    }\n\n    .dataframe thead th {\n        text-align: right;\n    }\n</style>\n<table border=\"1\" class=\"dataframe\">\n  <thead>\n    <tr style=\"text-align: right;\">\n      <th></th>\n      <th>id</th>\n      <th>is_misinfo</th>\n      <th>text</th>\n      <th>hashtags</th>\n    </tr>\n  </thead>\n  <tbody>\n    <tr>\n      <th>0</th>\n      <td>1344795424855642112</td>\n      <td>0</td>\n      <td>[kissed, someone, amelia, st, worry, vaccine]</td>\n      <td>NaN</td>\n    </tr>\n    <tr>\n      <th>1</th>\n      <td>1344794858133860353</td>\n      <td>0</td>\n      <td>[really, doubt, 2021, much, different, going, ...</td>\n      <td>NaN</td>\n    </tr>\n    <tr>\n      <th>2</th>\n      <td>1344794822691983360</td>\n      <td>0</td>\n      <td>[people, want, answer, also, excited, get, vac...</td>\n      <td>NaN</td>\n    </tr>\n    <tr>\n      <th>3</th>\n      <td>1344794752819077123</td>\n      <td>1</td>\n      <td>[healthy, person, would, want, take, experimen...</td>\n      <td>NaN</td>\n    </tr>\n    <tr>\n      <th>4</th>\n      <td>1344790296119422980</td>\n      <td>1</td>\n      <td>[surely, consenting, people, two, part, licens...</td>\n      <td>NaN</td>\n    </tr>\n    <tr>\n      <th>...</th>\n      <td>...</td>\n      <td>...</td>\n      <td>...</td>\n      <td>...</td>\n    </tr>\n    <tr>\n      <th>12292</th>\n      <td>1413088663886573569</td>\n      <td>1</td>\n      <td>[go, ahead, take, vaccine, thejab, genocide, d...</td>\n      <td>Vaccine TheJab Genocide Depopulation Resist198...</td>\n    </tr>\n    <tr>\n      <th>12293</th>\n      <td>1413087751474397186</td>\n      <td>0</td>\n      <td>[going, first, vaccine, today, nervous, also, ...</td>\n      <td>firstjab VACCINE hull hull2021</td>\n    </tr>\n    <tr>\n      <th>12294</th>\n      <td>1413087030578401283</td>\n      <td>0</td>\n      <td>[medium, japanese, government, declared, new, ...</td>\n      <td>Japanese coronavirus</td>\n    </tr>\n    <tr>\n      <th>12295</th>\n      <td>1413085519710363648</td>\n      <td>0</td>\n      <td>[getting, first, dose, vaccine, tomorrowrrow, ...</td>\n      <td>NaN</td>\n    </tr>\n    <tr>\n      <th>12296</th>\n      <td>1413085365745774593</td>\n      <td>0</td>\n      <td>[happy, mom, got, first, dose, vaccine, appoin...</td>\n      <td>NaN</td>\n    </tr>\n  </tbody>\n</table>\n<p>12297 rows × 4 columns</p>\n</div>"
     },
     "execution_count": 220,
     "metadata": {},
     "output_type": "execute_result"
    }
   ],
   "source": [
    "def remove_targets(review_text):\n",
    "    return re.sub('(@[A-Za-z0-9])\\w+', '', review_text)\n",
    "\n",
    "def remove_hashtags(review_text):\n",
    "    return review_text.replace(\"#\", \" \")\n",
    "\n",
    "def remove_serial_post_pattern(review_text):\n",
    "    return re.sub('[0-9]+\\/[0-9]+', '', review_text)\n",
    "\n",
    "def remove_numbers(review_text):\n",
    "    return re.sub('[0-9]', '', review_text)\n",
    "\n",
    "def remove_punctuation(review_text):\n",
    "    review_text = re.sub(r'%', ' percent ', review_text)\n",
    "    return re.sub(r'[/\\[\\]\\\\\\{\\}\\(\\)\\|\\;\\'\\:\\\"\\,\\!\\?\\.]', '', review_text)\n",
    "\n",
    "def remove_newlines(review_text):\n",
    "    return review_text.replace(\"\\n\", \" \")\n",
    "\n",
    "def lemmatize(tokens):\n",
    "    try:\n",
    "        wnl = nltk.WordNetLemmatizer()\n",
    "    except LookupError:\n",
    "        nltk.download('wordnet')\n",
    "        wnl = nltk.WordNetLemmatizer()\n",
    "    return [wnl.lemmatize(t) for t in tokens]\n",
    "\n",
    "def expand_contractions(review_text):\n",
    "    return contractions.fix(review_text)\n",
    "\n",
    "def convert_emojis(text):\n",
    "    for emot in UNICODE_EMOJI:\n",
    "      text = text.replace(emot, \" \" + emot + \" \" )\n",
    "      text = text.replace(emot, \"_\".join(UNICODE_EMOJI[emot].replace(\",\",\"\").replace(\":\",\"\").split()))\n",
    "      text = text.replace(\"_\", \" \")\n",
    "    return text\n",
    "\n",
    "def remove_urls(text):\n",
    "    return re.sub(r'https?:\\/\\/(www\\.)?[-a-zA-Z0-9@:%._\\+~#=]{1,256}\\.[a-z]{2,4}\\b([-a-zA-Z0-9@:%_\\+.~#?&//=]*)', '', text)\n",
    "\n",
    "def convert_currencies(text):\n",
    "    if \"$\" in text:\n",
    "      text = text.replace(\"$\", \" dollar \")\n",
    "    if \"€\" in text:\n",
    "      text = text.replace(\"€\", \" euro \")\n",
    "    if \"£\" in text:\n",
    "      text = text.replace(\"£\", \" pound \")\n",
    "    return text\n",
    "\n",
    "def remove_consecutive_chars(text):\n",
    "    #while groups of 3 chars can be found, replace them with the single char\n",
    "    while re.findall(r'([a-z])\\1\\1', text):\n",
    "      text = re.sub(r'([a-z])\\1\\1', r'\\1', text)\n",
    "\n",
    "    return text\n",
    "\n",
    "def clean_misc(text):\n",
    "  text = text.replace(\"tomo\", \"tomorrow\")\n",
    "  text = text.replace(\"&amp\", \"and\")\n",
    "  text = text.replace(\"vacccine\", \"vaccine\")\n",
    "  text = text.replace(\"bcs\", \"because\")\n",
    "\n",
    "  return text\n",
    "\n",
    "def remove_stopwords(text):\n",
    "   return [ token for token in text\n",
    "               if token not in nltk.corpus.stopwords.words('english')]\n",
    "\n",
    "df_cleaned = df_merged.copy(deep=True)\n",
    "\n",
    "df_cleaned['text'] = df_cleaned['text'].apply(remove_targets)\n",
    "df_cleaned['text'] = df_cleaned['text'].apply(remove_hashtags)\n",
    "#df_cleaned['text'] = df_cleaned['text'].apply(convert_emojis)\n",
    "df_cleaned['text'] = df_cleaned['text'].apply(remove_urls) #use before remove_punctuation\n",
    "df_cleaned['text'] = df_cleaned['text'].apply(expand_contractions) #use before remove_punctuation\n",
    "df_cleaned['text'] = df_cleaned['text'].apply(remove_serial_post_pattern) #use before remove_punctuation\n",
    "df_cleaned['text'] = df_cleaned['text'].apply(convert_currencies) #use before remove_punctuation\n",
    "df_cleaned['text'] = df_cleaned['text'].apply(clean_misc)\n",
    "\n",
    "#df_cleaned['text'] = df_cleaned['text'].apply(remove_numbers)\n",
    "\n",
    "df_cleaned['text'] = df_cleaned['text'].apply(remove_punctuation)\n",
    "df_cleaned['text'] = df_cleaned['text'].apply(remove_newlines)\n",
    "\n",
    "df_cleaned['text'] = df_cleaned['text'].str.encode('ascii', 'ignore').str.decode('ascii')\n",
    "df_cleaned['text'] = df_cleaned['text'].str.lower()\n",
    "df_cleaned['text'] = df_cleaned['text'].str.replace(\"  \", \" \") #ensure single space characters\n",
    "df_cleaned['text'] = df_cleaned['text'].str.strip() #strip space at start and end\n",
    "\n",
    "df_cleaned['text'] = df_cleaned['text'].apply(remove_consecutive_chars)\n",
    "df_cleaned['text'] = df_cleaned['text'].apply(nltk.tokenize.word_tokenize)\n",
    "df_cleaned['text'] = df_cleaned['text'].apply(remove_stopwords)\n",
    "df_cleaned['text'] = df_cleaned['text'].apply(lemmatize) #maybe would work better with POS\n",
    "\n",
    "\n",
    "df_cleaned_lemmatized = df_cleaned.copy(deep=True)\n",
    "df_cleaned_lemmatized"
   ],
   "metadata": {
    "collapsed": false,
    "pycharm": {
     "name": "#%%\n"
    }
   }
  },
  {
   "cell_type": "code",
   "execution_count": null,
   "outputs": [],
   "source": [
    "print(df_merged['text'][9])\n",
    "df_cleaned['text'][9]"
   ],
   "metadata": {
    "collapsed": false,
    "pycharm": {
     "name": "#%%\n"
    }
   }
  },
  {
   "cell_type": "markdown",
   "source": [
    "## Train model"
   ],
   "metadata": {
    "collapsed": false,
    "pycharm": {
     "name": "#%% md\n"
    }
   }
  },
  {
   "cell_type": "code",
   "execution_count": 77,
   "outputs": [
    {
     "data": {
      "text/plain": "                        id  is_misinfo  \\\n0      1344795424855642112           0   \n1      1344794858133860353           0   \n2      1344794822691983360           0   \n3      1344794752819077123           1   \n4      1344790296119422980           1   \n...                    ...         ...   \n12292  1413088663886573569           1   \n12293  1413087751474397186           0   \n12294  1413087030578401283           0   \n12295  1413085519710363648           0   \n12296  1413085365745774593           0   \n\n                                                    text  \n0      if you kissed someone on Amelia St, don’t worr...  \n1      i really doubt 2021 will be much different imo...  \n2      People want answers, but they’re also just exc...  \n3      Why any healthy person would want to take an e...  \n4      1/1 @TheBMA surely consenting people to a two ...  \n...                                                  ...  \n12292  Go ahead, take it...#Vaccine #TheJab #Genocide...  \n12293  Going to my first vaccine today. Very very ner...  \n12294  Media: \"The #Japanese government declared a ne...  \n12295  Getting my first dose vaccine tomorrow. HUKM d...  \n12296  I’m so happy that my mom got her first dose va...  \n\n[12297 rows x 3 columns]",
      "text/html": "<div>\n<style scoped>\n    .dataframe tbody tr th:only-of-type {\n        vertical-align: middle;\n    }\n\n    .dataframe tbody tr th {\n        vertical-align: top;\n    }\n\n    .dataframe thead th {\n        text-align: right;\n    }\n</style>\n<table border=\"1\" class=\"dataframe\">\n  <thead>\n    <tr style=\"text-align: right;\">\n      <th></th>\n      <th>id</th>\n      <th>is_misinfo</th>\n      <th>text</th>\n    </tr>\n  </thead>\n  <tbody>\n    <tr>\n      <th>0</th>\n      <td>1344795424855642112</td>\n      <td>0</td>\n      <td>if you kissed someone on Amelia St, don’t worr...</td>\n    </tr>\n    <tr>\n      <th>1</th>\n      <td>1344794858133860353</td>\n      <td>0</td>\n      <td>i really doubt 2021 will be much different imo...</td>\n    </tr>\n    <tr>\n      <th>2</th>\n      <td>1344794822691983360</td>\n      <td>0</td>\n      <td>People want answers, but they’re also just exc...</td>\n    </tr>\n    <tr>\n      <th>3</th>\n      <td>1344794752819077123</td>\n      <td>1</td>\n      <td>Why any healthy person would want to take an e...</td>\n    </tr>\n    <tr>\n      <th>4</th>\n      <td>1344790296119422980</td>\n      <td>1</td>\n      <td>1/1 @TheBMA surely consenting people to a two ...</td>\n    </tr>\n    <tr>\n      <th>...</th>\n      <td>...</td>\n      <td>...</td>\n      <td>...</td>\n    </tr>\n    <tr>\n      <th>12292</th>\n      <td>1413088663886573569</td>\n      <td>1</td>\n      <td>Go ahead, take it...#Vaccine #TheJab #Genocide...</td>\n    </tr>\n    <tr>\n      <th>12293</th>\n      <td>1413087751474397186</td>\n      <td>0</td>\n      <td>Going to my first vaccine today. Very very ner...</td>\n    </tr>\n    <tr>\n      <th>12294</th>\n      <td>1413087030578401283</td>\n      <td>0</td>\n      <td>Media: \"The #Japanese government declared a ne...</td>\n    </tr>\n    <tr>\n      <th>12295</th>\n      <td>1413085519710363648</td>\n      <td>0</td>\n      <td>Getting my first dose vaccine tomorrow. HUKM d...</td>\n    </tr>\n    <tr>\n      <th>12296</th>\n      <td>1413085365745774593</td>\n      <td>0</td>\n      <td>I’m so happy that my mom got her first dose va...</td>\n    </tr>\n  </tbody>\n</table>\n<p>12297 rows × 3 columns</p>\n</div>"
     },
     "execution_count": 77,
     "metadata": {},
     "output_type": "execute_result"
    }
   ],
   "source": [
    "df_original = df.merge(all_data[['id', 'text']], on='id')\n",
    "df_original"
   ],
   "metadata": {
    "collapsed": false,
    "pycharm": {
     "name": "#%%\n"
    }
   }
  },
  {
   "cell_type": "code",
   "execution_count": 221,
   "outputs": [
    {
     "data": {
      "text/plain": "                        id  is_misinfo  \\\n0      1344795424855642112           0   \n1      1344794858133860353           0   \n2      1344794822691983360           0   \n3      1344794752819077123           1   \n4      1344790296119422980           1   \n...                    ...         ...   \n12292  1413088663886573569           1   \n12293  1413087751474397186           0   \n12294  1413087030578401283           0   \n12295  1413085519710363648           0   \n12296  1413085365745774593           0   \n\n                                                    text  \\\n0                 kissed someone amelia st worry vaccine   \n1      really doubt 2021 much different going corona ...   \n2      people want answer also excited get vaccine so...   \n3      healthy person would want take experimental va...   \n4      surely consenting people two part licensed vac...   \n...                                                  ...   \n12292  go ahead take vaccine thejab genocide depopula...   \n12293  going first vaccine today nervous also hate ne...   \n12294  medium japanese government declared new state ...   \n12295  getting first dose vaccine tomorrowrrow hukm d...   \n12296  happy mom got first dose vaccine appointment a...   \n\n                                                hashtags  \n0                                                    NaN  \n1                                                    NaN  \n2                                                    NaN  \n3                                                    NaN  \n4                                                    NaN  \n...                                                  ...  \n12292  Vaccine TheJab Genocide Depopulation Resist198...  \n12293                     firstjab VACCINE hull hull2021  \n12294                               Japanese coronavirus  \n12295                                                NaN  \n12296                                                NaN  \n\n[12297 rows x 4 columns]",
      "text/html": "<div>\n<style scoped>\n    .dataframe tbody tr th:only-of-type {\n        vertical-align: middle;\n    }\n\n    .dataframe tbody tr th {\n        vertical-align: top;\n    }\n\n    .dataframe thead th {\n        text-align: right;\n    }\n</style>\n<table border=\"1\" class=\"dataframe\">\n  <thead>\n    <tr style=\"text-align: right;\">\n      <th></th>\n      <th>id</th>\n      <th>is_misinfo</th>\n      <th>text</th>\n      <th>hashtags</th>\n    </tr>\n  </thead>\n  <tbody>\n    <tr>\n      <th>0</th>\n      <td>1344795424855642112</td>\n      <td>0</td>\n      <td>kissed someone amelia st worry vaccine</td>\n      <td>NaN</td>\n    </tr>\n    <tr>\n      <th>1</th>\n      <td>1344794858133860353</td>\n      <td>0</td>\n      <td>really doubt 2021 much different going corona ...</td>\n      <td>NaN</td>\n    </tr>\n    <tr>\n      <th>2</th>\n      <td>1344794822691983360</td>\n      <td>0</td>\n      <td>people want answer also excited get vaccine so...</td>\n      <td>NaN</td>\n    </tr>\n    <tr>\n      <th>3</th>\n      <td>1344794752819077123</td>\n      <td>1</td>\n      <td>healthy person would want take experimental va...</td>\n      <td>NaN</td>\n    </tr>\n    <tr>\n      <th>4</th>\n      <td>1344790296119422980</td>\n      <td>1</td>\n      <td>surely consenting people two part licensed vac...</td>\n      <td>NaN</td>\n    </tr>\n    <tr>\n      <th>...</th>\n      <td>...</td>\n      <td>...</td>\n      <td>...</td>\n      <td>...</td>\n    </tr>\n    <tr>\n      <th>12292</th>\n      <td>1413088663886573569</td>\n      <td>1</td>\n      <td>go ahead take vaccine thejab genocide depopula...</td>\n      <td>Vaccine TheJab Genocide Depopulation Resist198...</td>\n    </tr>\n    <tr>\n      <th>12293</th>\n      <td>1413087751474397186</td>\n      <td>0</td>\n      <td>going first vaccine today nervous also hate ne...</td>\n      <td>firstjab VACCINE hull hull2021</td>\n    </tr>\n    <tr>\n      <th>12294</th>\n      <td>1413087030578401283</td>\n      <td>0</td>\n      <td>medium japanese government declared new state ...</td>\n      <td>Japanese coronavirus</td>\n    </tr>\n    <tr>\n      <th>12295</th>\n      <td>1413085519710363648</td>\n      <td>0</td>\n      <td>getting first dose vaccine tomorrowrrow hukm d...</td>\n      <td>NaN</td>\n    </tr>\n    <tr>\n      <th>12296</th>\n      <td>1413085365745774593</td>\n      <td>0</td>\n      <td>happy mom got first dose vaccine appointment a...</td>\n      <td>NaN</td>\n    </tr>\n  </tbody>\n</table>\n<p>12297 rows × 4 columns</p>\n</div>"
     },
     "execution_count": 221,
     "metadata": {},
     "output_type": "execute_result"
    }
   ],
   "source": [
    "def conc(text):\n",
    "    return ' '.join(text)\n",
    "\n",
    "\n",
    "df_cleaned['text'] = df_cleaned_lemmatized['text'].apply(conc)\n",
    "df_cleaned"
   ],
   "metadata": {
    "collapsed": false,
    "pycharm": {
     "name": "#%%\n"
    }
   }
  },
  {
   "cell_type": "code",
   "execution_count": 251,
   "outputs": [
    {
     "data": {
      "text/plain": "((9837, 3), (9837,), (2460, 3), (2460,))"
     },
     "execution_count": 251,
     "metadata": {},
     "output_type": "execute_result"
    }
   ],
   "source": [
    "#X = df_original.drop('is_misinfo', axis=1)\n",
    "#y = df_original.is_misinfo\n",
    "X = df_cleaned.drop('is_misinfo', axis=1)\n",
    "y = df_cleaned.is_misinfo\n",
    "X_train, X_test, y_train, y_test = train_test_split(X, y, test_size=0.2, random_state=42)\n",
    "\n",
    "X_train.shape, y_train.shape, X_test.shape, y_test.shape"
   ],
   "metadata": {
    "collapsed": false,
    "pycharm": {
     "name": "#%%\n"
    }
   }
  },
  {
   "cell_type": "code",
   "execution_count": 252,
   "outputs": [],
   "source": [
    "X_train_texts = X_train.text\n",
    "\n",
    "def get_ngram_tf_idf(n, X_texts):\n",
    "    vectorizer = CountVectorizer(ngram_range=(1, n))\n",
    "    vectorizer.fit(X_train_texts)\n",
    "    X_ngram = vectorizer.transform(X_texts)\n",
    "    ngram_tf_idf_transformer = TfidfTransformer()\n",
    "    ngram_tf_idf_transformer.fit(X_ngram)\n",
    "    return ngram_tf_idf_transformer.transform(X_ngram), X_ngram\n",
    "\n",
    "\n",
    "# Unigram Tf-Idf\n",
    "X_train_unigram_tf_idf,X_train_unigram = get_ngram_tf_idf(1, X_train_texts)\n",
    "# Bigram Tf-Idf\n",
    "X_train_bigram_tf_idf,X_train_bigram = get_ngram_tf_idf(2, X_train_texts)"
   ],
   "metadata": {
    "collapsed": false,
    "pycharm": {
     "name": "#%%\n"
    }
   }
  },
  {
   "cell_type": "code",
   "execution_count": 253,
   "outputs": [
    {
     "name": "stdout",
     "output_type": "stream",
     "text": [
      "Unigram Counts\n",
      "SGDClassifier: Train score: 1.0 ; Validation score: 0.97\n",
      "XGBClassifier: Train score: 0.99 ; Validation score: 0.98\n",
      "MultinomialNB: Train score: 0.98 ; Validation score: 0.97\n",
      "Unigram Tf-Idf\n",
      "SGDClassifier: Train score: 1.0 ; Validation score: 0.97\n",
      "XGBClassifier: Train score: 0.99 ; Validation score: 0.97\n",
      "MultinomialNB: Train score: 0.97 ; Validation score: 0.96\n",
      "Bigram Counts\n",
      "SGDClassifier: Train score: 1.0 ; Validation score: 0.97\n",
      "XGBClassifier: Train score: 0.99 ; Validation score: 0.97\n",
      "MultinomialNB: Train score: 0.99 ; Validation score: 0.97\n",
      "Bigram Tf-Idf\n",
      "SGDClassifier: Train score: 1.0 ; Validation score: 0.98\n",
      "XGBClassifier: Train score: 0.99 ; Validation score: 0.98\n",
      "MultinomialNB: Train score: 0.99 ; Validation score: 0.94\n",
      "Best transformer: Unigram Counts\n"
     ]
    }
   ],
   "source": [
    "def train_and_show_scores(X: csr_matrix, y: np.array, title: str) -> None:\n",
    "    X_train, X_valid, y_train, y_valid = train_test_split(\n",
    "        X, y, train_size=0.8, stratify=y\n",
    "    )\n",
    "    print(f'{title}')\n",
    "    valid_score_sum = 0\n",
    "    for Classifier in [SGDClassifier, XGBClassifier, MultinomialNB]:\n",
    "        clf = Classifier()\n",
    "        clf.fit(X_train, y_train)\n",
    "        train_score = clf.score(X_train, y_train)\n",
    "        valid_score = clf.score(X_valid, y_valid)\n",
    "        valid_score_sum += valid_score\n",
    "        print(f'{clf.__str__()[:clf.__str__().index(\"(\")]}: Train score: {round(train_score, 2)} ; Validation score: {round(valid_score, 2)}')\n",
    "    return valid_score_sum/3\n",
    "\n",
    "\n",
    "titles = ['Unigram Counts', 'Unigram Tf-Idf', 'Bigram Counts', 'Bigram Tf-Idf']\n",
    "X_train_list = [X_train_unigram, X_train_unigram_tf_idf, X_train_bigram, X_train_bigram_tf_idf]\n",
    "transformers = zip(X_train_list, titles)\n",
    "valid_scores = []\n",
    "for X_train, title in transformers:\n",
    "    valid_scores.append(train_and_show_scores(X_train, y_train, title))\n",
    "print('Best transformer:', titles[np.argmax(valid_scores)])"
   ],
   "metadata": {
    "collapsed": false,
    "pycharm": {
     "name": "#%%\n"
    }
   }
  },
  {
   "cell_type": "markdown",
   "source": [
    "### Hyperparameter search"
   ],
   "metadata": {
    "collapsed": false,
    "pycharm": {
     "name": "#%% md\n"
    }
   }
  },
  {
   "cell_type": "code",
   "execution_count": 254,
   "outputs": [
    {
     "name": "stdout",
     "output_type": "stream",
     "text": [
      "Best params: {'alpha': 9.005016265529683e-05, 'eta0': 0.0072929489929776, 'learning_rate': 'adaptive', 'loss': 'squared_hinge', 'penalty': 'l1'}\n",
      "Best score: 0.9794653965222926\n"
     ]
    }
   ],
   "source": [
    "# Take best performing transformer\n",
    "x_train_transformed = X_train_list[np.argmax(valid_scores)]\n",
    "clf = SGDClassifier(class_weight='balanced')\n",
    "\n",
    "distributions = dict(\n",
    "    penalty=['l1', 'l2', 'elasticnet'],\n",
    "    alpha=uniform(loc=1e-6, scale=1e-4),\n",
    "    loss=['hinge', 'log', 'modified_huber', 'squared_hinge', 'perceptron'],\n",
    "    learning_rate=['optimal', 'invscaling', 'adaptive'],\n",
    "    eta0=uniform(loc=1e-7, scale=1e-2)\n",
    ")\n",
    "\n",
    "random_search_cv = RandomizedSearchCV(\n",
    "    estimator=clf,\n",
    "    param_distributions=distributions,\n",
    "    cv=5,\n",
    "    n_iter=50,\n",
    "    n_jobs = -1,\n",
    ")\n",
    "random_search_cv.fit(x_train_transformed, y_train)\n",
    "print(f'Best params: {random_search_cv.best_params_}')\n",
    "print(f'Best score: {random_search_cv.best_score_}')"
   ],
   "metadata": {
    "collapsed": false,
    "pycharm": {
     "name": "#%%\n"
    }
   }
  },
  {
   "cell_type": "markdown",
   "source": [
    "### Test model based on best hyperparameters"
   ],
   "metadata": {
    "collapsed": false,
    "pycharm": {
     "name": "#%% md\n"
    }
   }
  },
  {
   "cell_type": "code",
   "execution_count": 255,
   "outputs": [
    {
     "name": "stdout",
     "output_type": "stream",
     "text": [
      "Test score SGD:  0.9829268292682927\n"
     ]
    }
   ],
   "source": [
    "sgd_classifier = random_search_cv.best_estimator_\n",
    "sgd_classifier.fit(x_train_transformed, y_train)\n",
    "\n",
    "# get test data\n",
    "x_test_transformed_list = []\n",
    "for n in range(1, 3):\n",
    "    X_test_ngram_tf_idf,X_test_ngram = get_ngram_tf_idf(n, X_test.text)\n",
    "    x_test_transformed_list.extend([X_test_ngram, X_test_ngram_tf_idf])\n",
    "x_test_transformed = x_test_transformed_list[np.argmax(valid_scores)]\n",
    "\n",
    "#test score\n",
    "score = sgd_classifier.score(x_test_transformed, y_test)\n",
    "print(\"Test score SGD: \", score)"
   ],
   "metadata": {
    "collapsed": false,
    "pycharm": {
     "name": "#%%\n"
    }
   }
  },
  {
   "cell_type": "code",
   "execution_count": 256,
   "outputs": [
    {
     "name": "stdout",
     "output_type": "stream",
     "text": [
      "Test score MultinomialNB:  0.9691056910569106\n"
     ]
    }
   ],
   "source": [
    "# try MultinomialNB\n",
    "\n",
    "# Vectorize text reviews to numbers\n",
    "vec = CountVectorizer(ngram_range=(1, 1))\n",
    "x_train = vec.fit_transform(X_train_texts).toarray()\n",
    "x_test = vec.transform(X_test.text).toarray()\n",
    "\n",
    "model = MultinomialNB()\n",
    "model.fit(x_train, y_train)\n",
    "score = model.score(x_test, y_test)\n",
    "print(\"Test score MultinomialNB: \", score)"
   ],
   "metadata": {
    "collapsed": false,
    "pycharm": {
     "name": "#%%\n"
    }
   }
  },
  {
   "cell_type": "code",
   "execution_count": 257,
   "outputs": [
    {
     "name": "stdout",
     "output_type": "stream",
     "text": [
      "Test score XGB:  0.982520325203252\n"
     ]
    }
   ],
   "source": [
    "clf = XGBClassifier()\n",
    "clf.fit(x_train_transformed, y_train)\n",
    "score = clf.score(x_test_transformed, y_test)\n",
    "print(\"Test score XGB: \", score)"
   ],
   "metadata": {
    "collapsed": false,
    "pycharm": {
     "name": "#%%\n"
    }
   }
  },
  {
   "cell_type": "code",
   "execution_count": 237,
   "outputs": [
    {
     "data": {
      "text/plain": "61"
     },
     "execution_count": 237,
     "metadata": {},
     "output_type": "execute_result"
    }
   ],
   "source": [
    "# how long is largest tweet?\n",
    "df_cleaned_length = df_cleaned_lemmatized.copy(deep=True)\n",
    "df_cleaned_length['length'] = df_cleaned_length['text'].apply(len)\n",
    "v_size = df_cleaned_length.nlargest(1, 'length')['length'].iloc[0]\n",
    "v_size"
   ],
   "metadata": {
    "collapsed": false,
    "pycharm": {
     "name": "#%%\n"
    }
   }
  },
  {
   "cell_type": "code",
   "execution_count": 238,
   "outputs": [
    {
     "data": {
      "text/plain": "0            [kissed, someone, amelia, st, worry, vaccine]\n1        [really, doubt, 2021, much, different, going, ...\n2        [people, want, answer, also, excited, get, vac...\n3        [healthy, person, would, want, take, experimen...\n4        [surely, consenting, people, two, part, licens...\n                               ...                        \n12292    [go, ahead, take, vaccine, thejab, genocide, d...\n12293    [going, first, vaccine, today, nervous, also, ...\n12294    [medium, japanese, government, declared, new, ...\n12295    [getting, first, dose, vaccine, tomorrowrrow, ...\n12296    [happy, mom, got, first, dose, vaccine, appoin...\nName: text, Length: 12297, dtype: object"
     },
     "execution_count": 238,
     "metadata": {},
     "output_type": "execute_result"
    }
   ],
   "source": [
    "df_cleaned_length['text']"
   ],
   "metadata": {
    "collapsed": false,
    "pycharm": {
     "name": "#%%\n"
    }
   }
  },
  {
   "cell_type": "markdown",
   "source": [
    "## Keras model"
   ],
   "metadata": {
    "collapsed": false,
    "pycharm": {
     "name": "#%% md\n"
    }
   }
  },
  {
   "cell_type": "code",
   "execution_count": 239,
   "outputs": [],
   "source": [
    "import gensim\n",
    "from tensorflow import keras\n",
    "from keras.models import Model, Sequential\n",
    "from keras.layers import Dense, Activation, LSTM, Embedding, Hashing, Input, Bidirectional\n",
    "from keras.preprocessing.text import one_hot\n",
    "from keras_preprocessing.sequence import pad_sequences"
   ],
   "metadata": {
    "collapsed": false,
    "pycharm": {
     "name": "#%%\n"
    }
   }
  },
  {
   "cell_type": "code",
   "execution_count": 240,
   "outputs": [
    {
     "data": {
      "text/plain": "[1804,\n 2855,\n 2470,\n 2470,\n 1062,\n 1980,\n 2470,\n 910,\n 1779,\n 1062,\n 910,\n 4610,\n 1062,\n 1754,\n 1779,\n 1062,\n 3534,\n 2855,\n 1754,\n 2470,\n 1115,\n 1345,\n 910,\n 3724,\n 3724,\n 3442,\n 3905,\n 1754,\n 1402,\n 1402,\n 2855,\n 4610,\n 1062]"
     },
     "execution_count": 240,
     "metadata": {},
     "output_type": "execute_result"
    }
   ],
   "source": [
    "voc_size = 5000\n",
    "#onehot_repre = [Hashing(' '.join(tweet), voc_size, output_mode='one_hot') for tweet in df_cleaned['text']]\n",
    "onehot_repre = [one_hot(' '.join(words), voc_size) for words in df_cleaned['text']]\n",
    "onehot_repre[0]"
   ],
   "metadata": {
    "collapsed": false,
    "pycharm": {
     "name": "#%%\n"
    }
   }
  },
  {
   "cell_type": "code",
   "execution_count": 241,
   "outputs": [
    {
     "name": "stdout",
     "output_type": "stream",
     "text": [
      "[   0    0    0    0    0    0    0    0    0    0    0    0    0    0\n",
      "    0    0    0    0    0    0    0    0    0    0    0    0    0    0\n",
      " 1804 2855 2470 2470 1062 1980 2470  910 1779 1062  910 4610 1062 1754\n",
      " 1779 1062 3534 2855 1754 2470 1115 1345  910 3724 3724 3442 3905 1754\n",
      " 1402 1402 2855 4610 1062]\n"
     ]
    }
   ],
   "source": [
    "sent_length = v_size\n",
    "embedded_docs = pad_sequences(onehot_repre, padding='pre', maxlen=sent_length)\n",
    "print(embedded_docs[0])"
   ],
   "metadata": {
    "collapsed": false,
    "pycharm": {
     "name": "#%%\n"
    }
   }
  },
  {
   "cell_type": "code",
   "execution_count": 242,
   "outputs": [
    {
     "name": "stdout",
     "output_type": "stream",
     "text": [
      "Model: \"sequential_3\"\n",
      "_________________________________________________________________\n",
      " Layer (type)                Output Shape              Param #   \n",
      "=================================================================\n",
      " embedding_3 (Embedding)     (None, 61, 40)            200000    \n",
      "                                                                 \n",
      " lstm_3 (LSTM)               (None, 100)               56400     \n",
      "                                                                 \n",
      " dense_3 (Dense)             (None, 1)                 101       \n",
      "                                                                 \n",
      "=================================================================\n",
      "Total params: 256,501\n",
      "Trainable params: 256,501\n",
      "Non-trainable params: 0\n",
      "_________________________________________________________________\n",
      "None\n"
     ]
    }
   ],
   "source": [
    "embedding_vector_features = 40\n",
    "model_keras = Sequential()\n",
    "model_keras.add(Embedding(voc_size, embedding_vector_features, input_length=sent_length))\n",
    "model_keras.add(LSTM(100))\n",
    "model_keras.add(Dense(1, activation='sigmoid'))\n",
    "model_keras.compile(loss='binary_crossentropy', optimizer='adam', metrics=['accuracy'])\n",
    "print(model_keras.summary())"
   ],
   "metadata": {
    "collapsed": false,
    "pycharm": {
     "name": "#%%\n"
    }
   }
  },
  {
   "cell_type": "code",
   "execution_count": 243,
   "outputs": [],
   "source": [
    "x_final = np.array(embedded_docs)\n",
    "y_final = np.array(df_cleaned['is_misinfo'])"
   ],
   "metadata": {
    "collapsed": false,
    "pycharm": {
     "name": "#%%\n"
    }
   }
  },
  {
   "cell_type": "code",
   "execution_count": 244,
   "outputs": [],
   "source": [
    "X_train, X_test, y_train, y_test = train_test_split(x_final, y_final, test_size=0.2, random_state=42)"
   ],
   "metadata": {
    "collapsed": false,
    "pycharm": {
     "name": "#%%\n"
    }
   }
  },
  {
   "cell_type": "code",
   "execution_count": 245,
   "outputs": [
    {
     "name": "stdout",
     "output_type": "stream",
     "text": [
      "Epoch 1/20\n",
      "154/154 [==============================] - 7s 34ms/step - loss: 0.5403 - accuracy: 0.7322 - val_loss: 0.5068 - val_accuracy: 0.7528\n",
      "Epoch 2/20\n",
      "154/154 [==============================] - 5s 30ms/step - loss: 0.4862 - accuracy: 0.7665 - val_loss: 0.4730 - val_accuracy: 0.7610\n",
      "Epoch 3/20\n",
      "154/154 [==============================] - 5s 31ms/step - loss: 0.4644 - accuracy: 0.7777 - val_loss: 0.5176 - val_accuracy: 0.7744\n",
      "Epoch 4/20\n",
      "154/154 [==============================] - 5s 31ms/step - loss: 0.4582 - accuracy: 0.7787 - val_loss: 0.4589 - val_accuracy: 0.7809\n",
      "Epoch 5/20\n",
      "154/154 [==============================] - 5s 31ms/step - loss: 0.4374 - accuracy: 0.7869 - val_loss: 0.4243 - val_accuracy: 0.7955\n",
      "Epoch 6/20\n",
      "154/154 [==============================] - 5s 31ms/step - loss: 0.4043 - accuracy: 0.8062 - val_loss: 0.4005 - val_accuracy: 0.8012\n",
      "Epoch 7/20\n",
      "154/154 [==============================] - 5s 31ms/step - loss: 0.3783 - accuracy: 0.8205 - val_loss: 0.3714 - val_accuracy: 0.8179\n",
      "Epoch 8/20\n",
      "154/154 [==============================] - 5s 31ms/step - loss: 0.3528 - accuracy: 0.8331 - val_loss: 0.3612 - val_accuracy: 0.8305\n",
      "Epoch 9/20\n",
      "154/154 [==============================] - 5s 31ms/step - loss: 0.3300 - accuracy: 0.8450 - val_loss: 0.3217 - val_accuracy: 0.8528\n",
      "Epoch 10/20\n",
      "154/154 [==============================] - 5s 31ms/step - loss: 0.3120 - accuracy: 0.8574 - val_loss: 0.3141 - val_accuracy: 0.8593\n",
      "Epoch 11/20\n",
      "154/154 [==============================] - 5s 31ms/step - loss: 0.2870 - accuracy: 0.8700 - val_loss: 0.3142 - val_accuracy: 0.8496\n",
      "Epoch 12/20\n",
      "154/154 [==============================] - 5s 30ms/step - loss: 0.2702 - accuracy: 0.8790 - val_loss: 0.2877 - val_accuracy: 0.8809\n",
      "Epoch 13/20\n",
      "154/154 [==============================] - 5s 31ms/step - loss: 0.2538 - accuracy: 0.8884 - val_loss: 0.2940 - val_accuracy: 0.8585\n",
      "Epoch 14/20\n",
      "154/154 [==============================] - 5s 31ms/step - loss: 0.2376 - accuracy: 0.8953 - val_loss: 0.2666 - val_accuracy: 0.8931\n",
      "Epoch 15/20\n",
      "154/154 [==============================] - 5s 31ms/step - loss: 0.2340 - accuracy: 0.8983 - val_loss: 0.2673 - val_accuracy: 0.8854\n",
      "Epoch 16/20\n",
      "154/154 [==============================] - 5s 31ms/step - loss: 0.2171 - accuracy: 0.9065 - val_loss: 0.2668 - val_accuracy: 0.8927\n",
      "Epoch 17/20\n",
      "154/154 [==============================] - 5s 31ms/step - loss: 0.2065 - accuracy: 0.9112 - val_loss: 0.2489 - val_accuracy: 0.9061\n",
      "Epoch 18/20\n",
      "154/154 [==============================] - 5s 31ms/step - loss: 0.2000 - accuracy: 0.9140 - val_loss: 0.2469 - val_accuracy: 0.9008\n",
      "Epoch 19/20\n",
      "154/154 [==============================] - 5s 31ms/step - loss: 0.1968 - accuracy: 0.9138 - val_loss: 0.2447 - val_accuracy: 0.8967\n",
      "Epoch 20/20\n",
      "154/154 [==============================] - 5s 32ms/step - loss: 0.1826 - accuracy: 0.9227 - val_loss: 0.2363 - val_accuracy: 0.9069\n"
     ]
    },
    {
     "data": {
      "text/plain": "<keras.callbacks.History at 0x2343cb23dc0>"
     },
     "execution_count": 245,
     "metadata": {},
     "output_type": "execute_result"
    }
   ],
   "source": [
    "model_keras.fit(X_train, y_train, validation_data=(X_test, y_test), epochs=20, batch_size=64)"
   ],
   "metadata": {
    "collapsed": false,
    "pycharm": {
     "name": "#%%\n"
    }
   }
  },
  {
   "cell_type": "code",
   "execution_count": 246,
   "outputs": [
    {
     "name": "stdout",
     "output_type": "stream",
     "text": [
      "77/77 [==============================] - 1s 6ms/step\n"
     ]
    }
   ],
   "source": [
    "classes_x = (model_keras.predict(X_test) > 0.5).astype(\"int32\")"
   ],
   "metadata": {
    "collapsed": false,
    "pycharm": {
     "name": "#%%\n"
    }
   }
  },
  {
   "cell_type": "code",
   "execution_count": 247,
   "outputs": [],
   "source": [
    "from sklearn.metrics import confusion_matrix\n",
    "cf_matrix = confusion_matrix(y_test, classes_x)"
   ],
   "metadata": {
    "collapsed": false,
    "pycharm": {
     "name": "#%%\n"
    }
   }
  },
  {
   "cell_type": "code",
   "execution_count": 248,
   "outputs": [
    {
     "data": {
      "text/plain": "<Figure size 432x288 with 2 Axes>",
      "image/png": "[encoded data removed]"
     },
     "metadata": {
      "needs_background": "light"
     },
     "output_type": "display_data"
    }
   ],
   "source": [
    "ax = sns.heatmap(cf_matrix, annot=True, fmt='.0f', cmap='Blues')\n",
    "\n",
    "ax.set_title('Confusion Matrix\\n\\n')\n",
    "ax.set_xlabel('\\nPredicted Values')\n",
    "ax.set_ylabel('Actual Values ')\n",
    "\n",
    "## Ticket labels - List must be in alphabetical order\n",
    "ax.xaxis.set_ticklabels(['Negative','Positive'])\n",
    "ax.yaxis.set_ticklabels(['Negative','Positive'])\n",
    "\n",
    "## Display the visualization of the Confusion Matrix.\n",
    "plt.show()"
   ],
   "metadata": {
    "collapsed": false,
    "pycharm": {
     "name": "#%%\n"
    }
   }
  },
  {
   "cell_type": "code",
   "execution_count": 250,
   "outputs": [
    {
     "name": "stdout",
     "output_type": "stream",
     "text": [
      "0.906910569105691\n"
     ]
    }
   ],
   "source": [
    "from sklearn.metrics import accuracy_score\n",
    "score_0 = accuracy_score(y_test,classes_x)\n",
    "print(score_0)"
   ],
   "metadata": {
    "collapsed": false,
    "pycharm": {
     "name": "#%%\n"
    }
   }
  },
  {
   "cell_type": "markdown",
   "source": [
    "## Num caps as additional input layer"
   ],
   "metadata": {
    "collapsed": false,
    "pycharm": {
     "name": "#%% md\n"
    }
   }
  },
  {
   "cell_type": "code",
   "execution_count": 277,
   "outputs": [
    {
     "name": "stdout",
     "output_type": "stream",
     "text": [
      "308/308 [==============================] - 1s 1ms/step - loss: 0.1821 - mean_squared_error: 0.1821\n",
      "77/77 [==============================] - 0s 541us/step\n"
     ]
    },
    {
     "data": {
      "text/plain": "<Figure size 432x288 with 2 Axes>",
      "image/png": "[encoded data removed]"
     },
     "metadata": {
      "needs_background": "light"
     },
     "output_type": "display_data"
    },
    {
     "name": "stdout",
     "output_type": "stream",
     "text": [
      "0.7886178861788617\n"
     ]
    }
   ],
   "source": [
    "from keras.regularizers import l2\n",
    "from keras.layers import concatenate\n",
    "import tensorflow as tf\n",
    "\n",
    "# Use Input layers, specify input shape (dimensions except first)\n",
    "inp_cat_data = keras.layers.Input(shape=(sent_length,))\n",
    "inp_num_data = keras.layers.Input(shape=(1,))\n",
    "# Bind nulti_hot to embedding layer\n",
    "emb = keras.layers.Embedding(input_dim=voc_size, output_dim=embedding_vector_features)(inp_cat_data)\n",
    "# Also you need flatten embedded output of shape (?,3,2) to (?, 6) -\n",
    "# otherwise it's not possible to concatenate it with inp_num_data\n",
    "flatten = keras.layers.Flatten()(emb)\n",
    "# Concatenate two layers\n",
    "conc = keras.layers.Concatenate()([flatten, inp_num_data])\n",
    "dense1 = keras.layers.Dense(3, activation=tf.nn.relu, )(conc)\n",
    "# Creating output layer\n",
    "out = keras.layers.Dense(1, activation=None)(dense1)\n",
    "model = keras.Model(inputs=[inp_cat_data, inp_num_data], outputs=out)\n",
    "\n",
    "model.compile(optimizer=keras.optimizers.Adam(0.01),\n",
    "              loss=keras.losses.mean_squared_error,\n",
    "              metrics=[keras.metrics.mean_squared_error])\n",
    "\n",
    "x_final = np.array(embedded_docs)\n",
    "y_final = df_cleaned['is_misinfo']\n",
    "X_train, X_test, y_train, y_test = train_test_split(x_final, y_final, test_size=0.2, random_state=42)\n",
    "model.fit([X_train, df_merged.iloc[y_train.index].num_allcaps_words], y_train)\n",
    "\n",
    "classes_x = (model.predict([X_test, df_merged.iloc[y_test.index].num_allcaps_words]) > 0.5).astype(\"int32\")\n",
    "cf_matrix = confusion_matrix(y_test, classes_x)\n",
    "ax = sns.heatmap(cf_matrix, annot=True, fmt='.0f', cmap='Blues')\n",
    "ax.set_title('Confusion Matrix\\n\\n')\n",
    "ax.set_xlabel('\\nPredicted Values')\n",
    "ax.set_ylabel('Actual Values ')\n",
    "ax.xaxis.set_ticklabels(['Negative','Positive'])\n",
    "ax.yaxis.set_ticklabels(['Negative','Positive'])\n",
    "plt.show()\n",
    "\n",
    "score_0 = accuracy_score(y_test,classes_x)\n",
    "print('Accuracy:', score_0)"
   ],
   "metadata": {
    "collapsed": false,
    "pycharm": {
     "name": "#%%\n"
    }
   }
  },
  {
   "cell_type": "code",
   "execution_count": 283,
   "outputs": [
    {
     "data": {
      "text/plain": "<Figure size 432x288 with 2 Axes>",
      "image/png": "[encoded data removed]"
     },
     "metadata": {
      "needs_background": "light"
     },
     "output_type": "display_data"
    },
    {
     "name": "stdout",
     "output_type": "stream",
     "text": [
      "Accuracy: 0.7894308943089431\n"
     ]
    }
   ],
   "source": [
    "clf = XGBClassifier()\n",
    "clf.fit(X_train, y_train)\n",
    "y_pred = clf.predict(X_test)\n",
    "cf_matrix = confusion_matrix(y_test, y_pred)\n",
    "ax = sns.heatmap(cf_matrix, annot=True, fmt='.0f', cmap='Blues')\n",
    "ax.set_title('Confusion Matrix\\n\\n')\n",
    "ax.set_xlabel('\\nPredicted Values')\n",
    "ax.set_ylabel('Actual Values ')\n",
    "ax.xaxis.set_ticklabels(['Negative','Positive'])\n",
    "ax.yaxis.set_ticklabels(['Negative','Positive'])\n",
    "plt.show()\n",
    "\n",
    "score_0 = accuracy_score(y_test,y_pred)\n",
    "print('Accuracy:', score_0)"
   ],
   "metadata": {
    "collapsed": false,
    "pycharm": {
     "name": "#%%\n"
    }
   }
  },
  {
   "cell_type": "code",
   "execution_count": 282,
   "outputs": [
    {
     "name": "stdout",
     "output_type": "stream",
     "text": [
      "520\n",
      "201\n"
     ]
    },
    {
     "data": {
      "text/plain": "                       id  is_misinfo  \\\n6861  1388273712483405826           0   \n3437  1360991824047964165           0   \n7356  1387791873876664323           0   \n8683  1385597065116459008           1   \n4265  1359913241623678976           1   \n...                   ...         ...   \n1597  1341962263650045954           1   \n6984  1388136999354343426           0   \n2984  1346167708346425348           1   \n9626  1389427327176687622           1   \n1785  1346904314053152768           1   \n\n                                                   text  \\\n6861  COVID-19 Vaccination appointments available at...   \n3437  New post on @LeadStoriesCom: Fact Check: mRNA ...   \n7356  Who has two thumbs with that sweet, sweet Pfiz...   \n8683  Experimental 'vaccine' drug trials pushed by d...   \n4265  87 THOUSAND DOCTORS &amp; NURSES COME OUT AGAI...   \n...                                                 ...   \n1597  Bioweapons Treaty Author: COVID Vaccine Contai...   \n6984  Got my 2nd jab today. The facility is half as ...   \n2984  Alarmed by new wave of #COVID messaging from #...   \n9626  FOLKS DONT TAKE THE VACCINE. Think about it, w...   \n1785  Nurse in 'perfect health' found dead after get...   \n\n                                       hashtags  num_allcaps_words  \\\n6861                                        NaN                4.0   \n3437                                        NaN                3.0   \n7356                                 vaccinated                2.0   \n8683                                        NaN                3.0   \n4265                                        NaN               11.0   \n...                                         ...                ...   \n1597                                        NaN                2.0   \n6984                                        NaN                3.0   \n2984                                  COVID CNP                3.0   \n9626  vaccine DemocraticParty Control Communist                9.0   \n1785                                        NaN                1.0   \n\n      is_misinfo_pred  \n6861                1  \n3437                1  \n7356                1  \n8683                0  \n4265                0  \n...               ...  \n1597                0  \n6984                1  \n2984                0  \n9626                0  \n1785                0  \n\n[201 rows x 6 columns]",
      "text/html": "<div>\n<style scoped>\n    .dataframe tbody tr th:only-of-type {\n        vertical-align: middle;\n    }\n\n    .dataframe tbody tr th {\n        vertical-align: top;\n    }\n\n    .dataframe thead th {\n        text-align: right;\n    }\n</style>\n<table border=\"1\" class=\"dataframe\">\n  <thead>\n    <tr style=\"text-align: right;\">\n      <th></th>\n      <th>id</th>\n      <th>is_misinfo</th>\n      <th>text</th>\n      <th>hashtags</th>\n      <th>num_allcaps_words</th>\n      <th>is_misinfo_pred</th>\n    </tr>\n  </thead>\n  <tbody>\n    <tr>\n      <th>6861</th>\n      <td>1388273712483405826</td>\n      <td>0</td>\n      <td>COVID-19 Vaccination appointments available at...</td>\n      <td>NaN</td>\n      <td>4.0</td>\n      <td>1</td>\n    </tr>\n    <tr>\n      <th>3437</th>\n      <td>1360991824047964165</td>\n      <td>0</td>\n      <td>New post on @LeadStoriesCom: Fact Check: mRNA ...</td>\n      <td>NaN</td>\n      <td>3.0</td>\n      <td>1</td>\n    </tr>\n    <tr>\n      <th>7356</th>\n      <td>1387791873876664323</td>\n      <td>0</td>\n      <td>Who has two thumbs with that sweet, sweet Pfiz...</td>\n      <td>vaccinated</td>\n      <td>2.0</td>\n      <td>1</td>\n    </tr>\n    <tr>\n      <th>8683</th>\n      <td>1385597065116459008</td>\n      <td>1</td>\n      <td>Experimental 'vaccine' drug trials pushed by d...</td>\n      <td>NaN</td>\n      <td>3.0</td>\n      <td>0</td>\n    </tr>\n    <tr>\n      <th>4265</th>\n      <td>1359913241623678976</td>\n      <td>1</td>\n      <td>87 THOUSAND DOCTORS &amp;amp; NURSES COME OUT AGAI...</td>\n      <td>NaN</td>\n      <td>11.0</td>\n      <td>0</td>\n    </tr>\n    <tr>\n      <th>...</th>\n      <td>...</td>\n      <td>...</td>\n      <td>...</td>\n      <td>...</td>\n      <td>...</td>\n      <td>...</td>\n    </tr>\n    <tr>\n      <th>1597</th>\n      <td>1341962263650045954</td>\n      <td>1</td>\n      <td>Bioweapons Treaty Author: COVID Vaccine Contai...</td>\n      <td>NaN</td>\n      <td>2.0</td>\n      <td>0</td>\n    </tr>\n    <tr>\n      <th>6984</th>\n      <td>1388136999354343426</td>\n      <td>0</td>\n      <td>Got my 2nd jab today. The facility is half as ...</td>\n      <td>NaN</td>\n      <td>3.0</td>\n      <td>1</td>\n    </tr>\n    <tr>\n      <th>2984</th>\n      <td>1346167708346425348</td>\n      <td>1</td>\n      <td>Alarmed by new wave of #COVID messaging from #...</td>\n      <td>COVID CNP</td>\n      <td>3.0</td>\n      <td>0</td>\n    </tr>\n    <tr>\n      <th>9626</th>\n      <td>1389427327176687622</td>\n      <td>1</td>\n      <td>FOLKS DONT TAKE THE VACCINE. Think about it, w...</td>\n      <td>vaccine DemocraticParty Control Communist</td>\n      <td>9.0</td>\n      <td>0</td>\n    </tr>\n    <tr>\n      <th>1785</th>\n      <td>1346904314053152768</td>\n      <td>1</td>\n      <td>Nurse in 'perfect health' found dead after get...</td>\n      <td>NaN</td>\n      <td>1.0</td>\n      <td>0</td>\n    </tr>\n  </tbody>\n</table>\n<p>201 rows × 6 columns</p>\n</div>"
     },
     "execution_count": 282,
     "metadata": {},
     "output_type": "execute_result"
    }
   ],
   "source": [
    "# maybe if number of caps words ~ number of all words in tweet\n",
    "df_merged_test = df_merged.copy(deep=True).iloc[y_test.index]\n",
    "df_merged_test['is_misinfo_pred'] = classes_x\n",
    "df_merged_test = df_merged_test.loc[~(df_merged_test['is_misinfo_pred'] == df_merged_test['is_misinfo'])]\n",
    "print('Wrong predictions:', len(df_merged_test))\n",
    "df_merged_test = df_merged_test.loc[df_merged_test['num_allcaps_words'] > 0]\n",
    "print('Wrong predictions with #caps > 0:', len(df_merged_test))\n",
    "df_merged_test"
   ],
   "metadata": {
    "collapsed": false,
    "pycharm": {
     "name": "#%%\n"
    }
   }
  },
  {
   "cell_type": "code",
   "execution_count": null,
   "outputs": [],
   "source": [],
   "metadata": {
    "collapsed": false,
    "pycharm": {
     "name": "#%%\n"
    }
   }
  }
 ]
}