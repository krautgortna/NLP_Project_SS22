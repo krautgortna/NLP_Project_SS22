{
 "nbformat": 4,
 "nbformat_minor": 0,
 "metadata": {
  "colab": {
   "name": "NLP_FakePolice.ipynb",
   "provenance": [],
   "collapsed_sections": [],
   "include_colab_link": true
  },
  "kernelspec": {
   "name": "python3",
   "display_name": "Python 3"
  },
  "language_info": {
   "name": "python"
  }
 },
 "cells": [
  {
   "cell_type": "code",
   "execution_count": 32,
   "outputs": [],
   "source": [
    "import numpy as np\n",
    "import pandas as pd\n",
    "import matplotlib.pyplot as plt\n",
    "import seaborn as sns\n",
    "\n",
    "from sklearn.model_selection import train_test_split\n",
    "from sklearn.feature_extraction.text import CountVectorizer, TfidfTransformer\n",
    "from sklearn.linear_model import SGDClassifier\n",
    "from scipy.sparse import csr_matrix\n",
    "from sklearn.model_selection import RandomizedSearchCV\n",
    "from scipy.stats import uniform\n",
    "from sklearn.metrics import confusion_matrix, classification_report\n",
    "\n",
    "from xgboost import XGBClassifier\n",
    "from sklearn.naive_bayes import MultinomialNB\n",
    "from sklearn.ensemble import GradientBoostingClassifier"
   ],
   "metadata": {
    "collapsed": false,
    "pycharm": {
     "name": "#%%\n"
    }
   }
  },
  {
   "cell_type": "markdown",
   "metadata": {
    "id": "view-in-github",
    "colab_type": "text",
    "pycharm": {
     "name": "#%% md\n"
    }
   },
   "source": [
    "<a href=\"https://colab.research.google.com/github/krautgortna/NLP_Project_SS22/blob/main/NLP_FakePolice.ipynb\" target=\"_parent\"><img src=\"https://colab.research.google.com/assets/colab-badge.svg\" alt=\"Open In Colab\"/></a>"
   ]
  },
  {
   "cell_type": "markdown",
   "source": [
    "# NLP Project 2022"
   ],
   "metadata": {
    "id": "b_fFRIjpuMvp",
    "pycharm": {
     "name": "#%% md\n"
    }
   }
  },
  {
   "cell_type": "markdown",
   "source": [
    "## Get data"
   ],
   "metadata": {
    "id": "Zft62WWOuTWX",
    "pycharm": {
     "name": "#%% md\n"
    }
   }
  },
  {
   "cell_type": "code",
   "execution_count": 33,
   "metadata": {
    "id": "_qacxmU_suDj",
    "colab": {
     "base_uri": "https://localhost:8080/",
     "height": 206
    },
    "outputId": "19ef183d-620a-4152-a1fc-75d1c6d2b80a",
    "pycharm": {
     "name": "#%%\n"
    }
   },
   "outputs": [
    {
     "data": {
      "text/plain": "                    id  is_misinfo\n0  1344795424855642112           0\n1  1344794858133860353           0\n2  1344794822691983360           0\n3  1344794752819077123           1\n4  1344792070507134977           0",
      "text/html": "<div>\n<style scoped>\n    .dataframe tbody tr th:only-of-type {\n        vertical-align: middle;\n    }\n\n    .dataframe tbody tr th {\n        vertical-align: top;\n    }\n\n    .dataframe thead th {\n        text-align: right;\n    }\n</style>\n<table border=\"1\" class=\"dataframe\">\n  <thead>\n    <tr style=\"text-align: right;\">\n      <th></th>\n      <th>id</th>\n      <th>is_misinfo</th>\n    </tr>\n  </thead>\n  <tbody>\n    <tr>\n      <th>0</th>\n      <td>1344795424855642112</td>\n      <td>0</td>\n    </tr>\n    <tr>\n      <th>1</th>\n      <td>1344794858133860353</td>\n      <td>0</td>\n    </tr>\n    <tr>\n      <th>2</th>\n      <td>1344794822691983360</td>\n      <td>0</td>\n    </tr>\n    <tr>\n      <th>3</th>\n      <td>1344794752819077123</td>\n      <td>1</td>\n    </tr>\n    <tr>\n      <th>4</th>\n      <td>1344792070507134977</td>\n      <td>0</td>\n    </tr>\n  </tbody>\n</table>\n</div>"
     },
     "execution_count": 33,
     "metadata": {},
     "output_type": "execute_result"
    }
   ],
   "source": [
    "url = 'https://raw.githubusercontent.com/SakibShahriar95/ANTiVax/main/Labeled/VaxMisinfoData.csv'\n",
    "df = pd.read_csv(url)\n",
    "df.head()"
   ]
  },
  {
   "cell_type": "code",
   "source": [
    "#  !pip install twarc\n",
    "#  !twarc configure"
   ],
   "metadata": {
    "id": "Blz6qTAUKerp",
    "pycharm": {
     "name": "#%%\n"
    }
   },
   "execution_count": 34,
   "outputs": []
  },
  {
   "cell_type": "markdown",
   "source": [
    "from twarc import Twarc\n",
    "from urllib.request import urlretrieve\n",
    "\n",
    "tweet_ids_url = 'https://raw.githubusercontent.com/SakibShahriar95/ANTiVax/main/Labeled/ids.txt'\n",
    "tweet_ids = urlretrieve(tweet_ids_url, './ids.txt') # it's a file like object and works just like a file\n",
    "\n",
    "df = pd.read_csv('./ids.txt')\n",
    "df.head()\n",
    "\n",
    "consumer_key=\"2lNba8Nvu9f0i5YgfmQhfh3mP\"\n",
    "consumer_secret=\"TGVv9QJhtkjSqm7QyMeLfpZm3IU3xjrrMabyae42VxbkaT5t0g\"\n",
    "access_token=\"1600730532-ZCeeHr9h033QRlC95BLZrpz85TRFN4pZ0w7vGhY\"\n",
    "access_token_secret=\"eoiufziPLBr0eYgR12gAoAEiTQjlnTkZ1BHBLXoDuQbtC\"\n",
    "t = Twarc(consumer_key, consumer_secret, access_token, access_token_secret)\n",
    "\n",
    "df = pd.DataFrame()\n",
    "for tweet in t.hydrate(open('./ids.txt')):\n",
    "  row = { 'id': tweet['id'], 'text': tweet['text'] }\n",
    "  df.append(row, ignore_index = True)\n",
    "\n"
   ],
   "metadata": {
    "collapsed": false,
    "pycharm": {
     "name": "#%% md\n"
    }
   }
  },
  {
   "cell_type": "code",
   "source": [
    "url = 'https://raw.githubusercontent.com/krautgortna/NLP_Project_SS22/main/data/hydrated_tweets.csv'\n",
    "df_all_data = pd.read_csv(url)\n",
    "df_all_data.text"
   ],
   "metadata": {
    "colab": {
     "base_uri": "https://localhost:8080/"
    },
    "id": "sKx6Z3BRXZm1",
    "outputId": "fa6d7ba6-6894-4500-89f0-1222c5be0f40",
    "pycharm": {
     "name": "#%%\n"
    }
   },
   "execution_count": 35,
   "outputs": [
    {
     "data": {
      "text/plain": "0        My 87 year old grandmother has been quarantini...\n1        I’m so excited that with this vaccine I can se...\n2        So excited that I was able to close out 2020 o...\n3        Well, it happened. My daughter used my grandch...\n4        I’m getting my COVID-19 vaccine, baby! I’m so ...\n                               ...                        \n12292    Ooh! Potential #CoronaVac by @Sinovac side-eff...\n12293    This rocks, very excited to get the vaccine as...\n12294    We're excited to announce a COVID-19 vaccinati...\n12295    Dec 2020:\\nMOH: Vaccines are here!\\nFPs: Yay! ...\n12296    Fauci to #unvaccinated Americans: “get over th...\nName: text, Length: 12297, dtype: object"
     },
     "execution_count": 35,
     "metadata": {},
     "output_type": "execute_result"
    }
   ]
  },
  {
   "cell_type": "markdown",
   "source": [
    "## Preprocessing"
   ],
   "metadata": {
    "id": "AMD_qy_suY3X",
    "pycharm": {
     "name": "#%% md\n"
    }
   }
  },
  {
   "cell_type": "code",
   "source": [],
   "metadata": {
    "id": "hgAFstR_ub1f",
    "pycharm": {
     "name": "#%%\n"
    }
   },
   "execution_count": 35,
   "outputs": []
  },
  {
   "cell_type": "markdown",
   "source": [
    "## Train model"
   ],
   "metadata": {
    "id": "p2yfp9PaucPn",
    "pycharm": {
     "name": "#%% md\n"
    }
   }
  },
  {
   "cell_type": "code",
   "source": [
    "df_original = df.merge(df_all_data[['id', 'text']], on='id')\n",
    "df_original"
   ],
   "metadata": {
    "id": "chQDVYlcuhwX",
    "pycharm": {
     "name": "#%%\n"
    }
   },
   "execution_count": 36,
   "outputs": [
    {
     "data": {
      "text/plain": "                        id  is_misinfo  \\\n0      1344795424855642112           0   \n1      1344794858133860353           0   \n2      1344794822691983360           0   \n3      1344794752819077123           1   \n4      1344790296119422980           1   \n...                    ...         ...   \n12292  1413088663886573569           1   \n12293  1413087751474397186           0   \n12294  1413087030578401283           0   \n12295  1413085519710363648           0   \n12296  1413085365745774593           0   \n\n                                                    text  \n0      if you kissed someone on Amelia St, don’t worr...  \n1      i really doubt 2021 will be much different imo...  \n2      People want answers, but they’re also just exc...  \n3      Why any healthy person would want to take an e...  \n4      1/1 @TheBMA surely consenting people to a two ...  \n...                                                  ...  \n12292  Go ahead, take it...#Vaccine #TheJab #Genocide...  \n12293  Going to my first vaccine today. Very very ner...  \n12294  Media: \"The #Japanese government declared a ne...  \n12295  Getting my first dose vaccine tomorrow. HUKM d...  \n12296  I’m so happy that my mom got her first dose va...  \n\n[12297 rows x 3 columns]",
      "text/html": "<div>\n<style scoped>\n    .dataframe tbody tr th:only-of-type {\n        vertical-align: middle;\n    }\n\n    .dataframe tbody tr th {\n        vertical-align: top;\n    }\n\n    .dataframe thead th {\n        text-align: right;\n    }\n</style>\n<table border=\"1\" class=\"dataframe\">\n  <thead>\n    <tr style=\"text-align: right;\">\n      <th></th>\n      <th>id</th>\n      <th>is_misinfo</th>\n      <th>text</th>\n    </tr>\n  </thead>\n  <tbody>\n    <tr>\n      <th>0</th>\n      <td>1344795424855642112</td>\n      <td>0</td>\n      <td>if you kissed someone on Amelia St, don’t worr...</td>\n    </tr>\n    <tr>\n      <th>1</th>\n      <td>1344794858133860353</td>\n      <td>0</td>\n      <td>i really doubt 2021 will be much different imo...</td>\n    </tr>\n    <tr>\n      <th>2</th>\n      <td>1344794822691983360</td>\n      <td>0</td>\n      <td>People want answers, but they’re also just exc...</td>\n    </tr>\n    <tr>\n      <th>3</th>\n      <td>1344794752819077123</td>\n      <td>1</td>\n      <td>Why any healthy person would want to take an e...</td>\n    </tr>\n    <tr>\n      <th>4</th>\n      <td>1344790296119422980</td>\n      <td>1</td>\n      <td>1/1 @TheBMA surely consenting people to a two ...</td>\n    </tr>\n    <tr>\n      <th>...</th>\n      <td>...</td>\n      <td>...</td>\n      <td>...</td>\n    </tr>\n    <tr>\n      <th>12292</th>\n      <td>1413088663886573569</td>\n      <td>1</td>\n      <td>Go ahead, take it...#Vaccine #TheJab #Genocide...</td>\n    </tr>\n    <tr>\n      <th>12293</th>\n      <td>1413087751474397186</td>\n      <td>0</td>\n      <td>Going to my first vaccine today. Very very ner...</td>\n    </tr>\n    <tr>\n      <th>12294</th>\n      <td>1413087030578401283</td>\n      <td>0</td>\n      <td>Media: \"The #Japanese government declared a ne...</td>\n    </tr>\n    <tr>\n      <th>12295</th>\n      <td>1413085519710363648</td>\n      <td>0</td>\n      <td>Getting my first dose vaccine tomorrow. HUKM d...</td>\n    </tr>\n    <tr>\n      <th>12296</th>\n      <td>1413085365745774593</td>\n      <td>0</td>\n      <td>I’m so happy that my mom got her first dose va...</td>\n    </tr>\n  </tbody>\n</table>\n<p>12297 rows × 3 columns</p>\n</div>"
     },
     "execution_count": 36,
     "metadata": {},
     "output_type": "execute_result"
    }
   ]
  },
  {
   "cell_type": "code",
   "execution_count": 37,
   "outputs": [
    {
     "data": {
      "text/plain": "((9837, 2), (9837,), (2460, 2), (2460,))"
     },
     "execution_count": 37,
     "metadata": {},
     "output_type": "execute_result"
    }
   ],
   "source": [
    "X = df_original.drop('is_misinfo', axis=1)\n",
    "y = df_original.is_misinfo\n",
    "X_train, X_test, y_train, y_test = train_test_split(X, y, test_size=0.2, random_state=0)\n",
    "\n",
    "X_train.shape, y_train.shape, X_test.shape, y_test.shape"
   ],
   "metadata": {
    "collapsed": false,
    "pycharm": {
     "name": "#%%\n"
    }
   }
  },
  {
   "cell_type": "code",
   "execution_count": 38,
   "outputs": [],
   "source": [
    "# Unigram Counts\n",
    "\n",
    "X_train_texts = X_train.text\n",
    "\n",
    "unigram_vectorizer = CountVectorizer(ngram_range=(1, 1))\n",
    "unigram_vectorizer.fit(X_train_texts)\n",
    "X_train_unigram = unigram_vectorizer.transform(X_train_texts)\n",
    "\n",
    "\n",
    "# Unigram Tf-Idf\n",
    "\n",
    "unigram_tf_idf_transformer = TfidfTransformer()\n",
    "unigram_tf_idf_transformer.fit(X_train_unigram)\n",
    "\n",
    "X_train_unigram_tf_idf = unigram_tf_idf_transformer.transform(X_train_unigram)\n",
    "\n",
    "\n",
    "# Bigram Counts\n",
    "\n",
    "bigram_vectorizer = CountVectorizer(ngram_range=(1, 2))\n",
    "bigram_vectorizer.fit(X_train_texts)\n",
    "X_train_bigram = bigram_vectorizer.transform(X_train_texts)\n",
    "\n",
    "\n",
    "# Bigram Tf-Idf\n",
    "\n",
    "bigram_tf_idf_transformer = TfidfTransformer()\n",
    "bigram_tf_idf_transformer.fit(X_train_bigram)\n",
    "\n",
    "X_train_bigram_tf_idf = bigram_tf_idf_transformer.transform(X_train_bigram)"
   ],
   "metadata": {
    "collapsed": false,
    "pycharm": {
     "name": "#%%\n"
    }
   }
  },
  {
   "cell_type": "code",
   "execution_count": 39,
   "outputs": [
    {
     "name": "stdout",
     "output_type": "stream",
     "text": [
      "Unigram Counts\n",
      "SGDClassifier: Train score: 1.0 ; Validation score: 0.98\n",
      "XGBoostClassifier: Train score: 0.99 ; Validation score: 0.97\n",
      "MultinomialNB: Train score: 0.98 ; Validation score: 0.95\n",
      "\n",
      "Unigram Tf-Idf\n",
      "SGDClassifier: Train score: 1.0 ; Validation score: 0.98\n",
      "XGBoostClassifier: Train score: 1.0 ; Validation score: 0.98\n",
      "MultinomialNB: Train score: 0.96 ; Validation score: 0.94\n",
      "\n",
      "Bigram Counts\n",
      "SGDClassifier: Train score: 1.0 ; Validation score: 0.98\n",
      "XGBoostClassifier: Train score: 0.99 ; Validation score: 0.98\n",
      "MultinomialNB: Train score: 0.99 ; Validation score: 0.96\n",
      "\n",
      "Bigram Tf-Idf\n",
      "SGDClassifier: Train score: 1.0 ; Validation score: 0.98\n",
      "XGBoostClassifier: Train score: 1.0 ; Validation score: 0.98\n",
      "MultinomialNB: Train score: 0.97 ; Validation score: 0.93\n",
      "\n"
     ]
    }
   ],
   "source": [
    "def train_and_show_scores(X: csr_matrix, y: np.array, title: str) -> None:\n",
    "    X_train, X_valid, y_train, y_valid = train_test_split(\n",
    "        X, y, train_size=0.8, stratify=y\n",
    "    )\n",
    "\n",
    "    clf = SGDClassifier()\n",
    "    clf.fit(X_train, y_train)\n",
    "    train_score = clf.score(X_train, y_train)\n",
    "    valid_score = clf.score(X_valid, y_valid)\n",
    "    print(f'{title}\\nSGDClassifier: Train score: {round(train_score, 2)} ; Validation score: {round(valid_score, 2)}')\n",
    "\n",
    "    clf = XGBClassifier()\n",
    "    clf.fit(X_train, y_train)\n",
    "    train_score = clf.score(X_train, y_train)\n",
    "    valid_score = clf.score(X_valid, y_valid)\n",
    "    print(f'XGBoostClassifier: Train score: {round(train_score, 2)} ; Validation score: {round(valid_score, 2)}')\n",
    "\n",
    "    clf = MultinomialNB()\n",
    "    clf.fit(X_train, y_train)\n",
    "    train_score = clf.score(X_train, y_train)\n",
    "    valid_score = clf.score(X_valid, y_valid)\n",
    "    print(f'MultinomialNB: Train score: {round(train_score, 2)} ; Validation score: {round(valid_score, 2)}\\n')\n",
    "\n",
    "train_and_show_scores(X_train_unigram, y_train, 'Unigram Counts')\n",
    "train_and_show_scores(X_train_unigram_tf_idf, y_train, 'Unigram Tf-Idf')\n",
    "train_and_show_scores(X_train_bigram, y_train, 'Bigram Counts')\n",
    "train_and_show_scores(X_train_bigram_tf_idf, y_train, 'Bigram Tf-Idf')"
   ],
   "metadata": {
    "collapsed": false,
    "pycharm": {
     "name": "#%%\n"
    }
   }
  },
  {
   "cell_type": "code",
   "execution_count": 40,
   "outputs": [
    {
     "name": "stdout",
     "output_type": "stream",
     "text": [
      "Best params: {'alpha': 5.5219751814163483e-05, 'eta0': 0.005179610988471306, 'learning_rate': 'optimal', 'loss': 'hinge', 'penalty': 'l1'}\n",
      "Best score: 0.980685167044858\n"
     ]
    }
   ],
   "source": [
    "x_train_transformed = X_train_bigram_tf_idf #this had the best validation score (88%)\n",
    "clf = SGDClassifier()\n",
    "\n",
    "distributions = dict(\n",
    "    penalty=['l1', 'l2', 'elasticnet'],\n",
    "    alpha=uniform(loc=1e-6, scale=1e-4),\n",
    "    loss=['hinge', 'log', 'modified_huber', 'squared_hinge', 'perceptron'],\n",
    "    learning_rate=['optimal', 'invscaling', 'adaptive'],\n",
    "    eta0=uniform(loc=1e-7, scale=1e-2)\n",
    ")\n",
    "\n",
    "random_search_cv = RandomizedSearchCV(\n",
    "    estimator=clf,\n",
    "    param_distributions=distributions,\n",
    "    cv=5,\n",
    "    n_iter=50,\n",
    "    n_jobs = -1,\n",
    ")\n",
    "random_search_cv.fit(x_train_transformed, y_train)\n",
    "print(f'Best params: {random_search_cv.best_params_}')\n",
    "print(f'Best score: {random_search_cv.best_score_}')"
   ],
   "metadata": {
    "collapsed": false,
    "pycharm": {
     "name": "#%%\n"
    }
   }
  },
  {
   "cell_type": "code",
   "execution_count": 41,
   "outputs": [
    {
     "name": "stdout",
     "output_type": "stream",
     "text": [
      "Test score SGD:  0.9829268292682927\n",
      "Test score MultinomialNB:  0.9666666666666667\n"
     ]
    }
   ],
   "source": [
    "sgd_classifier = random_search_cv.best_estimator_\n",
    "\n",
    "#Best params: {'alpha': 9.232722822313204e-05, 'eta0': 0.006418957642841877, 'learning_rate': 'adaptive', 'loss': 'squared_hinge', 'penalty': 'l2'}\n",
    "sgd_classifier = SGDClassifier(alpha=9.232722822313204e-05, eta0=0.006418957642841877, learning_rate='adaptive', loss='squared_hinge', penalty='l2')\n",
    "sgd_classifier.fit(x_train_transformed, y_train)\n",
    "\n",
    "#transform test data\n",
    "x_test_transformed = bigram_vectorizer.transform(X_test.text)\n",
    "x_test_transformed = bigram_tf_idf_transformer.transform(x_test_transformed)\n",
    "\n",
    "#test score\n",
    "score = sgd_classifier.score(x_test_transformed, y_test)\n",
    "print(\"Test score SGD: \", score)\n",
    "\n",
    "# try MultinomialNB\n",
    "\n",
    "# Vectorize text reviews to numbers\n",
    "vec = CountVectorizer(ngram_range=(1, 1))\n",
    "x_train = vec.fit_transform(X_train_texts).toarray()\n",
    "x_test = vec.transform(X_test.text).toarray()\n",
    "\n",
    "model = MultinomialNB()\n",
    "model.fit(x_train, y_train)\n",
    "score = model.score(x_test, y_test)\n",
    "print(\"Test score MultinomialNB: \", score)"
   ],
   "metadata": {
    "collapsed": false,
    "pycharm": {
     "name": "#%%\n"
    }
   }
  },
  {
   "cell_type": "code",
   "execution_count": 42,
   "outputs": [
    {
     "name": "stdout",
     "output_type": "stream",
     "text": [
      "Test score XGB:  0.9800813008130081\n"
     ]
    }
   ],
   "source": [
    "clf = XGBClassifier()\n",
    "clf.fit(x_train_transformed, y_train)\n",
    "score = clf.score(x_test_transformed, y_test)\n",
    "print(\"Test score XGB: \", score)"
   ],
   "metadata": {
    "collapsed": false,
    "pycharm": {
     "name": "#%%\n"
    }
   }
  },
  {
   "cell_type": "markdown",
   "source": [
    "## Tuning"
   ],
   "metadata": {
    "id": "qexuCjAKuiDA",
    "pycharm": {
     "name": "#%% md\n"
    }
   }
  },
  {
   "cell_type": "code",
   "source": [],
   "metadata": {
    "id": "5Mt9S39oumWH",
    "pycharm": {
     "name": "#%%\n"
    }
   },
   "execution_count": 42,
   "outputs": []
  },
  {
   "cell_type": "markdown",
   "source": [
    "## Debugging"
   ],
   "metadata": {
    "id": "rIuVzZ2tumyP",
    "pycharm": {
     "name": "#%% md\n"
    }
   }
  },
  {
   "cell_type": "code",
   "execution_count": 43,
   "outputs": [
    {
     "name": "stdout",
     "output_type": "stream",
     "text": [
      "Confusion Matrix\n",
      "[[1603   23]\n",
      " [  19  815]]\n"
     ]
    },
    {
     "data": {
      "text/plain": "<Figure size 432x288 with 2 Axes>",
      "image/png": "[encoded data removed]"
     },
     "metadata": {
      "needs_background": "light"
     },
     "output_type": "display_data"
    },
    {
     "name": "stdout",
     "output_type": "stream",
     "text": [
      "\n",
      "Classification Report\n",
      "              precision    recall  f1-score   support\n",
      "\n",
      "           0       0.99      0.99      0.99      1626\n",
      "           1       0.97      0.98      0.97       834\n",
      "\n",
      "    accuracy                           0.98      2460\n",
      "   macro avg       0.98      0.98      0.98      2460\n",
      "weighted avg       0.98      0.98      0.98      2460\n",
      "\n"
     ]
    }
   ],
   "source": [
    "y_pred = sgd_classifier.predict(x_test_transformed)\n",
    "\n",
    "print(\"Confusion Matrix\")\n",
    "cf_matrix = confusion_matrix(y_test, y_pred)\n",
    "print(cf_matrix)\n",
    "\n",
    "ax = sns.heatmap(cf_matrix, annot=True, fmt='.0f', cmap='Blues')\n",
    "\n",
    "ax.set_title('Confusion Matrix with labels\\n\\n')\n",
    "ax.set_xlabel('\\nPredicted Values')\n",
    "ax.set_ylabel('Actual Values ')\n",
    "\n",
    "## Ticket labels - List must be in alphabetical order\n",
    "ax.xaxis.set_ticklabels(['Negative','Positive'])\n",
    "ax.yaxis.set_ticklabels(['Negative','Positive'])\n",
    "\n",
    "## Display the visualization of the Confusion Matrix.\n",
    "plt.show()\n",
    "\n",
    "# Classification Report\n",
    "print(\"\\nClassification Report\")\n",
    "report = classification_report(y_test, y_pred)\n",
    "print(report)"
   ],
   "metadata": {
    "collapsed": false,
    "pycharm": {
     "name": "#%%\n"
    }
   }
  },
  {
   "cell_type": "code",
   "execution_count": 46,
   "outputs": [
    {
     "data": {
      "text/plain": "                        id                                               text  \\\n9524   1389655905055100931  I just saw a woman on tv that had the first sh...   \n8236   1387148412336869382  Doctors calling the vaccine  a bioweapond!\\n\\n...   \n7576   1387558999197892608  🤔 I ain't taking a #vaccine 😏 &amp; won't 😒 Th...   \n1872   1346899065355841542             Vaccine website - may affect fertility   \n6725   1388281248557125633  This Tweet from @chokokoyo has been withheld i...   \n4643   1359217309299007489  A medical doctor just told my parents that he ...   \n3124   1345765074657542144  Can someone please impregnate me before they f...   \n9033   1390265873454280706  Experts agree the COVID-19 vaccine is safe for...   \n4209   1360012484934045698  First, do WE get to pick the #covid_19 vaccine...   \n10839  1403530034888032259  The phrase “experimental vaccine” is the most ...   \n8113   1387249582682243074  There’s so much dangerous vaccine misinformati...   \n5160   1374111377904824329  There seems to be plenty of people ‘shouting’ ...   \n6590   1371765160264761347  Message to the EU \\nsend us all your dangerous...   \n6473   1372154094278836227  Well my administrator asked me if I wanted to ...   \n10600  1404016839533989891  Judge dismisses lawsuit from Houston hospital ...   \n9127   1390135558479892482  Thank god.  Practicing monopoly medicine while...   \n9757   1389160851760893953  #VaccineSideEffects #Moderna #NotFDAApproved #...   \n11877  1413496861273382916  This is for everyone excited about getting the...   \n3981   1360262240352546818  Take whatever COVID vaccine you can get. All o...   \n10107  1388307173579673603  My whole family gonna turn into the walking de...   \n7212   1387856571678531584  Why are people so afraid of a “micro chip from...   \n9189   1390085162961080326  Vaccine update #1: it’s been a few hours but I...   \n8995   1390294319286800384  ppl that think the covid vaccine is dangerous ...   \n7502   1387654765333475331  No, COVID-19 vaccines aren't \"gene therapy\" an...   \n4943   1358453799321554944  For people who say it is an 'experimental vacc...   \n10544  1404136332822138883  Yay. What dumbasses to think it's ok to spread...   \n9493   1389715322119335946  This girl I know keeps posting in IG that the ...   \n9074   1390206974634176514  We can't ignore the link between the COVID vac...   \n11289  1402804399064354822  If #JoeBiden is buying and pushing the 'TRIAL'...   \n9663   1389356923963658241  Currently rumours are being spread all over th...   \n6814   1388276432275755008  A positive development. Pfizer and BioNTech as...   \n3256   1345155228534886401  ‘No evidence’ Covid-19 contains pork, causes i...   \n9450   1389867929848647680  COVID Vaccine Media Advisory: Genocidal biomed...   \n2828   1346258223876083713  I have the option to get the vaccine but the w...   \n2421   1346592464669433863  19th &amp; 22nd:  Concerns About COVID-19 Vacc...   \n9531   1389645100494491652  And when Pfizer gets FDA approval what excuse ...   \n8860   1390400466446700546  I received the second dose of the Pfizer vacci...   \n2062   1346862109238419456  Just an idea 😎\\nBreaking news:\\nTide pod gener...   \n2016   1346887370759663617  *PFIZER: THERE IS NO DATA TO SUGGEST THE PFIZE...   \n1743   1346918277734424579  $PFE Confirms will evaluate Covid-19 vaccine i...   \n10469  1404270973726171147  Fact check: Document does not show the COVID-1...   \n1672   1346964266893586436  I'm so over living in a sick world. A vaccine ...   \n\n       is_misinfo_pred  is_misinfo_true  \n9524                 0                1  \n8236                 0                1  \n7576                 1                0  \n1872                 0                1  \n6725                 1                0  \n4643                 1                0  \n3124                 0                1  \n9033                 1                0  \n4209                 0                1  \n10839                1                0  \n8113                 1                0  \n5160                 1                0  \n6590                 0                1  \n6473                 0                1  \n10600                1                0  \n9127                 1                0  \n9757                 0                1  \n11877                0                1  \n3981                 1                0  \n10107                0                1  \n7212                 1                0  \n9189                 0                1  \n8995                 1                0  \n7502                 1                0  \n4943                 1                0  \n10544                1                0  \n9493                 0                1  \n9074                 0                1  \n11289                0                1  \n9663                 1                0  \n6814                 1                0  \n3256                 1                0  \n9450                 0                1  \n2828                 0                1  \n2421                 0                1  \n9531                 1                0  \n8860                 0                1  \n2062                 0                1  \n2016                 1                0  \n1743                 1                0  \n10469                1                0  \n1672                 1                0  ",
      "text/html": "<div>\n<style scoped>\n    .dataframe tbody tr th:only-of-type {\n        vertical-align: middle;\n    }\n\n    .dataframe tbody tr th {\n        vertical-align: top;\n    }\n\n    .dataframe thead th {\n        text-align: right;\n    }\n</style>\n<table border=\"1\" class=\"dataframe\">\n  <thead>\n    <tr style=\"text-align: right;\">\n      <th></th>\n      <th>id</th>\n      <th>text</th>\n      <th>is_misinfo_pred</th>\n      <th>is_misinfo_true</th>\n    </tr>\n  </thead>\n  <tbody>\n    <tr>\n      <th>9524</th>\n      <td>1389655905055100931</td>\n      <td>I just saw a woman on tv that had the first sh...</td>\n      <td>0</td>\n      <td>1</td>\n    </tr>\n    <tr>\n      <th>8236</th>\n      <td>1387148412336869382</td>\n      <td>Doctors calling the vaccine  a bioweapond!\\n\\n...</td>\n      <td>0</td>\n      <td>1</td>\n    </tr>\n    <tr>\n      <th>7576</th>\n      <td>1387558999197892608</td>\n      <td>🤔 I ain't taking a #vaccine 😏 &amp;amp; won't 😒 Th...</td>\n      <td>1</td>\n      <td>0</td>\n    </tr>\n    <tr>\n      <th>1872</th>\n      <td>1346899065355841542</td>\n      <td>Vaccine website - may affect fertility</td>\n      <td>0</td>\n      <td>1</td>\n    </tr>\n    <tr>\n      <th>6725</th>\n      <td>1388281248557125633</td>\n      <td>This Tweet from @chokokoyo has been withheld i...</td>\n      <td>1</td>\n      <td>0</td>\n    </tr>\n    <tr>\n      <th>4643</th>\n      <td>1359217309299007489</td>\n      <td>A medical doctor just told my parents that he ...</td>\n      <td>1</td>\n      <td>0</td>\n    </tr>\n    <tr>\n      <th>3124</th>\n      <td>1345765074657542144</td>\n      <td>Can someone please impregnate me before they f...</td>\n      <td>0</td>\n      <td>1</td>\n    </tr>\n    <tr>\n      <th>9033</th>\n      <td>1390265873454280706</td>\n      <td>Experts agree the COVID-19 vaccine is safe for...</td>\n      <td>1</td>\n      <td>0</td>\n    </tr>\n    <tr>\n      <th>4209</th>\n      <td>1360012484934045698</td>\n      <td>First, do WE get to pick the #covid_19 vaccine...</td>\n      <td>0</td>\n      <td>1</td>\n    </tr>\n    <tr>\n      <th>10839</th>\n      <td>1403530034888032259</td>\n      <td>The phrase “experimental vaccine” is the most ...</td>\n      <td>1</td>\n      <td>0</td>\n    </tr>\n    <tr>\n      <th>8113</th>\n      <td>1387249582682243074</td>\n      <td>There’s so much dangerous vaccine misinformati...</td>\n      <td>1</td>\n      <td>0</td>\n    </tr>\n    <tr>\n      <th>5160</th>\n      <td>1374111377904824329</td>\n      <td>There seems to be plenty of people ‘shouting’ ...</td>\n      <td>1</td>\n      <td>0</td>\n    </tr>\n    <tr>\n      <th>6590</th>\n      <td>1371765160264761347</td>\n      <td>Message to the EU \\nsend us all your dangerous...</td>\n      <td>0</td>\n      <td>1</td>\n    </tr>\n    <tr>\n      <th>6473</th>\n      <td>1372154094278836227</td>\n      <td>Well my administrator asked me if I wanted to ...</td>\n      <td>0</td>\n      <td>1</td>\n    </tr>\n    <tr>\n      <th>10600</th>\n      <td>1404016839533989891</td>\n      <td>Judge dismisses lawsuit from Houston hospital ...</td>\n      <td>1</td>\n      <td>0</td>\n    </tr>\n    <tr>\n      <th>9127</th>\n      <td>1390135558479892482</td>\n      <td>Thank god.  Practicing monopoly medicine while...</td>\n      <td>1</td>\n      <td>0</td>\n    </tr>\n    <tr>\n      <th>9757</th>\n      <td>1389160851760893953</td>\n      <td>#VaccineSideEffects #Moderna #NotFDAApproved #...</td>\n      <td>0</td>\n      <td>1</td>\n    </tr>\n    <tr>\n      <th>11877</th>\n      <td>1413496861273382916</td>\n      <td>This is for everyone excited about getting the...</td>\n      <td>0</td>\n      <td>1</td>\n    </tr>\n    <tr>\n      <th>3981</th>\n      <td>1360262240352546818</td>\n      <td>Take whatever COVID vaccine you can get. All o...</td>\n      <td>1</td>\n      <td>0</td>\n    </tr>\n    <tr>\n      <th>10107</th>\n      <td>1388307173579673603</td>\n      <td>My whole family gonna turn into the walking de...</td>\n      <td>0</td>\n      <td>1</td>\n    </tr>\n    <tr>\n      <th>7212</th>\n      <td>1387856571678531584</td>\n      <td>Why are people so afraid of a “micro chip from...</td>\n      <td>1</td>\n      <td>0</td>\n    </tr>\n    <tr>\n      <th>9189</th>\n      <td>1390085162961080326</td>\n      <td>Vaccine update #1: it’s been a few hours but I...</td>\n      <td>0</td>\n      <td>1</td>\n    </tr>\n    <tr>\n      <th>8995</th>\n      <td>1390294319286800384</td>\n      <td>ppl that think the covid vaccine is dangerous ...</td>\n      <td>1</td>\n      <td>0</td>\n    </tr>\n    <tr>\n      <th>7502</th>\n      <td>1387654765333475331</td>\n      <td>No, COVID-19 vaccines aren't \"gene therapy\" an...</td>\n      <td>1</td>\n      <td>0</td>\n    </tr>\n    <tr>\n      <th>4943</th>\n      <td>1358453799321554944</td>\n      <td>For people who say it is an 'experimental vacc...</td>\n      <td>1</td>\n      <td>0</td>\n    </tr>\n    <tr>\n      <th>10544</th>\n      <td>1404136332822138883</td>\n      <td>Yay. What dumbasses to think it's ok to spread...</td>\n      <td>1</td>\n      <td>0</td>\n    </tr>\n    <tr>\n      <th>9493</th>\n      <td>1389715322119335946</td>\n      <td>This girl I know keeps posting in IG that the ...</td>\n      <td>0</td>\n      <td>1</td>\n    </tr>\n    <tr>\n      <th>9074</th>\n      <td>1390206974634176514</td>\n      <td>We can't ignore the link between the COVID vac...</td>\n      <td>0</td>\n      <td>1</td>\n    </tr>\n    <tr>\n      <th>11289</th>\n      <td>1402804399064354822</td>\n      <td>If #JoeBiden is buying and pushing the 'TRIAL'...</td>\n      <td>0</td>\n      <td>1</td>\n    </tr>\n    <tr>\n      <th>9663</th>\n      <td>1389356923963658241</td>\n      <td>Currently rumours are being spread all over th...</td>\n      <td>1</td>\n      <td>0</td>\n    </tr>\n    <tr>\n      <th>6814</th>\n      <td>1388276432275755008</td>\n      <td>A positive development. Pfizer and BioNTech as...</td>\n      <td>1</td>\n      <td>0</td>\n    </tr>\n    <tr>\n      <th>3256</th>\n      <td>1345155228534886401</td>\n      <td>‘No evidence’ Covid-19 contains pork, causes i...</td>\n      <td>1</td>\n      <td>0</td>\n    </tr>\n    <tr>\n      <th>9450</th>\n      <td>1389867929848647680</td>\n      <td>COVID Vaccine Media Advisory: Genocidal biomed...</td>\n      <td>0</td>\n      <td>1</td>\n    </tr>\n    <tr>\n      <th>2828</th>\n      <td>1346258223876083713</td>\n      <td>I have the option to get the vaccine but the w...</td>\n      <td>0</td>\n      <td>1</td>\n    </tr>\n    <tr>\n      <th>2421</th>\n      <td>1346592464669433863</td>\n      <td>19th &amp;amp; 22nd:  Concerns About COVID-19 Vacc...</td>\n      <td>0</td>\n      <td>1</td>\n    </tr>\n    <tr>\n      <th>9531</th>\n      <td>1389645100494491652</td>\n      <td>And when Pfizer gets FDA approval what excuse ...</td>\n      <td>1</td>\n      <td>0</td>\n    </tr>\n    <tr>\n      <th>8860</th>\n      <td>1390400466446700546</td>\n      <td>I received the second dose of the Pfizer vacci...</td>\n      <td>0</td>\n      <td>1</td>\n    </tr>\n    <tr>\n      <th>2062</th>\n      <td>1346862109238419456</td>\n      <td>Just an idea 😎\\nBreaking news:\\nTide pod gener...</td>\n      <td>0</td>\n      <td>1</td>\n    </tr>\n    <tr>\n      <th>2016</th>\n      <td>1346887370759663617</td>\n      <td>*PFIZER: THERE IS NO DATA TO SUGGEST THE PFIZE...</td>\n      <td>1</td>\n      <td>0</td>\n    </tr>\n    <tr>\n      <th>1743</th>\n      <td>1346918277734424579</td>\n      <td>$PFE Confirms will evaluate Covid-19 vaccine i...</td>\n      <td>1</td>\n      <td>0</td>\n    </tr>\n    <tr>\n      <th>10469</th>\n      <td>1404270973726171147</td>\n      <td>Fact check: Document does not show the COVID-1...</td>\n      <td>1</td>\n      <td>0</td>\n    </tr>\n    <tr>\n      <th>1672</th>\n      <td>1346964266893586436</td>\n      <td>I'm so over living in a sick world. A vaccine ...</td>\n      <td>1</td>\n      <td>0</td>\n    </tr>\n  </tbody>\n</table>\n</div>"
     },
     "execution_count": 46,
     "metadata": {},
     "output_type": "execute_result"
    }
   ],
   "source": [
    "X_test['is_misinfo_pred'] = y_pred\n",
    "X_test['is_misinfo_true'] = y_test\n",
    "X_test.loc[~(X_test['is_misinfo_pred'] == X_test['is_misinfo_true'])]"
   ],
   "metadata": {
    "collapsed": false,
    "pycharm": {
     "name": "#%%\n"
    }
   }
  },
  {
   "cell_type": "code",
   "execution_count": null,
   "outputs": [],
   "source": [],
   "metadata": {
    "collapsed": false,
    "pycharm": {
     "name": "#%%\n"
    }
   }
  }
 ]
}