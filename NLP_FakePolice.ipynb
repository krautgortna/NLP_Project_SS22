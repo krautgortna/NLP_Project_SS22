{
 "nbformat": 4,
 "nbformat_minor": 0,
 "metadata": {
  "colab": {
   "name": "NLP_FakePolice.ipynb",
   "provenance": [],
   "collapsed_sections": [],
   "include_colab_link": true
  },
  "kernelspec": {
   "name": "python3",
   "display_name": "Python 3"
  },
  "language_info": {
   "name": "python"
  }
 },
 "cells": [
  {
   "cell_type": "code",
   "execution_count": 1,
   "outputs": [],
   "source": [
    "import numpy as np\n",
    "import pandas as pd\n",
    "import matplotlib.pyplot as plt\n",
    "import seaborn as sns\n",
    "\n",
    "from sklearn.model_selection import train_test_split\n",
    "from sklearn.feature_extraction.text import CountVectorizer, TfidfTransformer\n",
    "from sklearn.linear_model import SGDClassifier\n",
    "from scipy.sparse import csr_matrix\n",
    "from sklearn.model_selection import RandomizedSearchCV\n",
    "from scipy.stats import uniform\n",
    "from sklearn.metrics import confusion_matrix, classification_report\n",
    "\n",
    "from xgboost import XGBClassifier\n",
    "from sklearn.naive_bayes import MultinomialNB\n",
    "from sklearn.ensemble import GradientBoostingClassifier"
   ],
   "metadata": {
    "collapsed": false,
    "pycharm": {
     "name": "#%%\n"
    }
   }
  },
  {
   "cell_type": "markdown",
   "metadata": {
    "id": "view-in-github",
    "colab_type": "text",
    "pycharm": {
     "name": "#%% md\n"
    }
   },
   "source": [
    "<a href=\"https://colab.research.google.com/github/krautgortna/NLP_Project_SS22/blob/main/NLP_FakePolice.ipynb\" target=\"_parent\"><img src=\"https://colab.research.google.com/assets/colab-badge.svg\" alt=\"Open In Colab\"/></a>"
   ]
  },
  {
   "cell_type": "markdown",
   "source": [
    "# NLP Project 2022"
   ],
   "metadata": {
    "id": "b_fFRIjpuMvp",
    "pycharm": {
     "name": "#%% md\n"
    }
   }
  },
  {
   "cell_type": "markdown",
   "source": [
    "## Get data"
   ],
   "metadata": {
    "id": "Zft62WWOuTWX",
    "pycharm": {
     "name": "#%% md\n"
    }
   }
  },
  {
   "cell_type": "code",
   "execution_count": 2,
   "metadata": {
    "id": "_qacxmU_suDj",
    "colab": {
     "base_uri": "https://localhost:8080/",
     "height": 206
    },
    "outputId": "19ef183d-620a-4152-a1fc-75d1c6d2b80a",
    "pycharm": {
     "name": "#%%\n"
    }
   },
   "outputs": [
    {
     "data": {
      "text/plain": "                    id  is_misinfo\n0  1344795424855642112           0\n1  1344794858133860353           0\n2  1344794822691983360           0\n3  1344794752819077123           1\n4  1344792070507134977           0",
      "text/html": "<div>\n<style scoped>\n    .dataframe tbody tr th:only-of-type {\n        vertical-align: middle;\n    }\n\n    .dataframe tbody tr th {\n        vertical-align: top;\n    }\n\n    .dataframe thead th {\n        text-align: right;\n    }\n</style>\n<table border=\"1\" class=\"dataframe\">\n  <thead>\n    <tr style=\"text-align: right;\">\n      <th></th>\n      <th>id</th>\n      <th>is_misinfo</th>\n    </tr>\n  </thead>\n  <tbody>\n    <tr>\n      <th>0</th>\n      <td>1344795424855642112</td>\n      <td>0</td>\n    </tr>\n    <tr>\n      <th>1</th>\n      <td>1344794858133860353</td>\n      <td>0</td>\n    </tr>\n    <tr>\n      <th>2</th>\n      <td>1344794822691983360</td>\n      <td>0</td>\n    </tr>\n    <tr>\n      <th>3</th>\n      <td>1344794752819077123</td>\n      <td>1</td>\n    </tr>\n    <tr>\n      <th>4</th>\n      <td>1344792070507134977</td>\n      <td>0</td>\n    </tr>\n  </tbody>\n</table>\n</div>"
     },
     "execution_count": 2,
     "metadata": {},
     "output_type": "execute_result"
    }
   ],
   "source": [
    "url = 'https://raw.githubusercontent.com/SakibShahriar95/ANTiVax/main/Labeled/VaxMisinfoData.csv'\n",
    "df = pd.read_csv(url)\n",
    "df.head()"
   ]
  },
  {
   "cell_type": "code",
   "source": [
    "#  !pip install twarc\n",
    "#  !twarc configure"
   ],
   "metadata": {
    "id": "Blz6qTAUKerp",
    "pycharm": {
     "name": "#%%\n"
    }
   },
   "execution_count": 3,
   "outputs": []
  },
  {
   "cell_type": "markdown",
   "source": [
    "from twarc import Twarc\n",
    "from urllib.request import urlretrieve\n",
    "\n",
    "tweet_ids_url = 'https://raw.githubusercontent.com/SakibShahriar95/ANTiVax/main/Labeled/ids.txt'\n",
    "tweet_ids = urlretrieve(tweet_ids_url, './ids.txt') # it's a file like object and works just like a file\n",
    "\n",
    "df = pd.read_csv('./ids.txt')\n",
    "df.head()\n",
    "\n",
    "consumer_key=\"2lNba8Nvu9f0i5YgfmQhfh3mP\"\n",
    "consumer_secret=\"TGVv9QJhtkjSqm7QyMeLfpZm3IU3xjrrMabyae42VxbkaT5t0g\"\n",
    "access_token=\"1600730532-ZCeeHr9h033QRlC95BLZrpz85TRFN4pZ0w7vGhY\"\n",
    "access_token_secret=\"eoiufziPLBr0eYgR12gAoAEiTQjlnTkZ1BHBLXoDuQbtC\"\n",
    "t = Twarc(consumer_key, consumer_secret, access_token, access_token_secret)\n",
    "\n",
    "df = pd.DataFrame()\n",
    "for tweet in t.hydrate(open('./ids.txt')):\n",
    "  row = { 'id': tweet['id'], 'text': tweet['text'] }\n",
    "  df.append(row, ignore_index = True)\n",
    "\n"
   ],
   "metadata": {
    "collapsed": false,
    "pycharm": {
     "name": "#%% md\n"
    }
   }
  },
  {
   "cell_type": "code",
   "source": [
    "url = 'https://raw.githubusercontent.com/krautgortna/NLP_Project_SS22/main/data/hydrated_tweets.csv'\n",
    "df_all_data = pd.read_csv(url)\n",
    "df_all_data.text"
   ],
   "metadata": {
    "colab": {
     "base_uri": "https://localhost:8080/"
    },
    "id": "sKx6Z3BRXZm1",
    "outputId": "fa6d7ba6-6894-4500-89f0-1222c5be0f40",
    "pycharm": {
     "name": "#%%\n"
    }
   },
   "execution_count": 4,
   "outputs": [
    {
     "data": {
      "text/plain": "0        My 87 year old grandmother has been quarantini...\n1        I’m so excited that with this vaccine I can se...\n2        So excited that I was able to close out 2020 o...\n3        Well, it happened. My daughter used my grandch...\n4        I’m getting my COVID-19 vaccine, baby! I’m so ...\n                               ...                        \n12292    Ooh! Potential #CoronaVac by @Sinovac side-eff...\n12293    This rocks, very excited to get the vaccine as...\n12294    We're excited to announce a COVID-19 vaccinati...\n12295    Dec 2020:\\nMOH: Vaccines are here!\\nFPs: Yay! ...\n12296    Fauci to #unvaccinated Americans: “get over th...\nName: text, Length: 12297, dtype: object"
     },
     "execution_count": 4,
     "metadata": {},
     "output_type": "execute_result"
    }
   ]
  },
  {
   "cell_type": "markdown",
   "source": [
    "## Preprocessing"
   ],
   "metadata": {
    "id": "AMD_qy_suY3X",
    "pycharm": {
     "name": "#%% md\n"
    }
   }
  },
  {
   "cell_type": "code",
   "source": [],
   "metadata": {
    "id": "hgAFstR_ub1f",
    "pycharm": {
     "name": "#%%\n"
    }
   },
   "execution_count": 4,
   "outputs": []
  },
  {
   "cell_type": "markdown",
   "source": [
    "## Train model"
   ],
   "metadata": {
    "id": "p2yfp9PaucPn",
    "pycharm": {
     "name": "#%% md\n"
    }
   }
  },
  {
   "cell_type": "code",
   "source": [
    "df_original = df.merge(df_all_data[['id', 'text']], on='id')\n",
    "df_original"
   ],
   "metadata": {
    "id": "chQDVYlcuhwX",
    "pycharm": {
     "name": "#%%\n"
    }
   },
   "execution_count": 5,
   "outputs": [
    {
     "data": {
      "text/plain": "                        id  is_misinfo  \\\n0      1344795424855642112           0   \n1      1344794858133860353           0   \n2      1344794822691983360           0   \n3      1344794752819077123           1   \n4      1344790296119422980           1   \n...                    ...         ...   \n12292  1413088663886573569           1   \n12293  1413087751474397186           0   \n12294  1413087030578401283           0   \n12295  1413085519710363648           0   \n12296  1413085365745774593           0   \n\n                                                    text  \n0      if you kissed someone on Amelia St, don’t worr...  \n1      i really doubt 2021 will be much different imo...  \n2      People want answers, but they’re also just exc...  \n3      Why any healthy person would want to take an e...  \n4      1/1 @TheBMA surely consenting people to a two ...  \n...                                                  ...  \n12292  Go ahead, take it...#Vaccine #TheJab #Genocide...  \n12293  Going to my first vaccine today. Very very ner...  \n12294  Media: \"The #Japanese government declared a ne...  \n12295  Getting my first dose vaccine tomorrow. HUKM d...  \n12296  I’m so happy that my mom got her first dose va...  \n\n[12297 rows x 3 columns]",
      "text/html": "<div>\n<style scoped>\n    .dataframe tbody tr th:only-of-type {\n        vertical-align: middle;\n    }\n\n    .dataframe tbody tr th {\n        vertical-align: top;\n    }\n\n    .dataframe thead th {\n        text-align: right;\n    }\n</style>\n<table border=\"1\" class=\"dataframe\">\n  <thead>\n    <tr style=\"text-align: right;\">\n      <th></th>\n      <th>id</th>\n      <th>is_misinfo</th>\n      <th>text</th>\n    </tr>\n  </thead>\n  <tbody>\n    <tr>\n      <th>0</th>\n      <td>1344795424855642112</td>\n      <td>0</td>\n      <td>if you kissed someone on Amelia St, don’t worr...</td>\n    </tr>\n    <tr>\n      <th>1</th>\n      <td>1344794858133860353</td>\n      <td>0</td>\n      <td>i really doubt 2021 will be much different imo...</td>\n    </tr>\n    <tr>\n      <th>2</th>\n      <td>1344794822691983360</td>\n      <td>0</td>\n      <td>People want answers, but they’re also just exc...</td>\n    </tr>\n    <tr>\n      <th>3</th>\n      <td>1344794752819077123</td>\n      <td>1</td>\n      <td>Why any healthy person would want to take an e...</td>\n    </tr>\n    <tr>\n      <th>4</th>\n      <td>1344790296119422980</td>\n      <td>1</td>\n      <td>1/1 @TheBMA surely consenting people to a two ...</td>\n    </tr>\n    <tr>\n      <th>...</th>\n      <td>...</td>\n      <td>...</td>\n      <td>...</td>\n    </tr>\n    <tr>\n      <th>12292</th>\n      <td>1413088663886573569</td>\n      <td>1</td>\n      <td>Go ahead, take it...#Vaccine #TheJab #Genocide...</td>\n    </tr>\n    <tr>\n      <th>12293</th>\n      <td>1413087751474397186</td>\n      <td>0</td>\n      <td>Going to my first vaccine today. Very very ner...</td>\n    </tr>\n    <tr>\n      <th>12294</th>\n      <td>1413087030578401283</td>\n      <td>0</td>\n      <td>Media: \"The #Japanese government declared a ne...</td>\n    </tr>\n    <tr>\n      <th>12295</th>\n      <td>1413085519710363648</td>\n      <td>0</td>\n      <td>Getting my first dose vaccine tomorrow. HUKM d...</td>\n    </tr>\n    <tr>\n      <th>12296</th>\n      <td>1413085365745774593</td>\n      <td>0</td>\n      <td>I’m so happy that my mom got her first dose va...</td>\n    </tr>\n  </tbody>\n</table>\n<p>12297 rows × 3 columns</p>\n</div>"
     },
     "execution_count": 5,
     "metadata": {},
     "output_type": "execute_result"
    }
   ]
  },
  {
   "cell_type": "code",
   "execution_count": 6,
   "outputs": [
    {
     "data": {
      "text/plain": "((8607, 2), (8607,), (3690, 2), (3690,))"
     },
     "execution_count": 6,
     "metadata": {},
     "output_type": "execute_result"
    }
   ],
   "source": [
    "X = df_original.drop('is_misinfo', axis=1)\n",
    "y = df_original.is_misinfo\n",
    "X_train, X_test, y_train, y_test = train_test_split(X, y, test_size=0.3, random_state=0)\n",
    "\n",
    "X_train.shape, y_train.shape, X_test.shape, y_test.shape"
   ],
   "metadata": {
    "collapsed": false,
    "pycharm": {
     "name": "#%%\n"
    }
   }
  },
  {
   "cell_type": "code",
   "execution_count": 7,
   "outputs": [],
   "source": [
    "# Unigram Counts\n",
    "\n",
    "X_train_texts = X_train.text\n",
    "\n",
    "unigram_vectorizer = CountVectorizer(ngram_range=(1, 1))\n",
    "unigram_vectorizer.fit(X_train_texts)\n",
    "X_train_unigram = unigram_vectorizer.transform(X_train_texts)\n",
    "\n",
    "\n",
    "# Unigram Tf-Idf\n",
    "\n",
    "unigram_tf_idf_transformer = TfidfTransformer()\n",
    "unigram_tf_idf_transformer.fit(X_train_unigram)\n",
    "\n",
    "X_train_unigram_tf_idf = unigram_tf_idf_transformer.transform(X_train_unigram)\n",
    "\n",
    "\n",
    "# Bigram Counts\n",
    "\n",
    "bigram_vectorizer = CountVectorizer(ngram_range=(1, 2))\n",
    "bigram_vectorizer.fit(X_train_texts)\n",
    "X_train_bigram = bigram_vectorizer.transform(X_train_texts)\n",
    "\n",
    "\n",
    "# Bigram Tf-Idf\n",
    "\n",
    "bigram_tf_idf_transformer = TfidfTransformer()\n",
    "bigram_tf_idf_transformer.fit(X_train_bigram)\n",
    "\n",
    "X_train_bigram_tf_idf = bigram_tf_idf_transformer.transform(X_train_bigram)"
   ],
   "metadata": {
    "collapsed": false,
    "pycharm": {
     "name": "#%%\n"
    }
   }
  },
  {
   "cell_type": "code",
   "execution_count": 8,
   "outputs": [
    {
     "name": "stdout",
     "output_type": "stream",
     "text": [
      "Unigram Counts\n",
      "SGDClassifier: Train score: 1.0 ; Validation score: 0.98\n",
      "XGBoostClassifier: Train score: 0.99 ; Validation score: 0.98\n",
      "MultinomialNB: Train score: 0.98 ; Validation score: 0.95\n",
      "\n",
      "Unigram Tf-Idf\n",
      "SGDClassifier: Train score: 1.0 ; Validation score: 0.98\n",
      "XGBoostClassifier: Train score: 1.0 ; Validation score: 0.98\n",
      "MultinomialNB: Train score: 0.96 ; Validation score: 0.94\n",
      "\n",
      "Bigram Counts\n",
      "SGDClassifier: Train score: 1.0 ; Validation score: 0.97\n",
      "XGBoostClassifier: Train score: 1.0 ; Validation score: 0.98\n",
      "MultinomialNB: Train score: 0.99 ; Validation score: 0.96\n",
      "\n",
      "Bigram Tf-Idf\n",
      "SGDClassifier: Train score: 1.0 ; Validation score: 0.98\n",
      "XGBoostClassifier: Train score: 1.0 ; Validation score: 0.98\n",
      "MultinomialNB: Train score: 0.97 ; Validation score: 0.92\n",
      "\n"
     ]
    }
   ],
   "source": [
    "def train_and_show_scores(X: csr_matrix, y: np.array, title: str) -> None:\n",
    "    X_train, X_valid, y_train, y_valid = train_test_split(\n",
    "        X, y, train_size=0.8, stratify=y\n",
    "    )\n",
    "\n",
    "    clf = SGDClassifier()\n",
    "    clf.fit(X_train, y_train)\n",
    "    train_score = clf.score(X_train, y_train)\n",
    "    valid_score = clf.score(X_valid, y_valid)\n",
    "    print(f'{title}\\nSGDClassifier: Train score: {round(train_score, 2)} ; Validation score: {round(valid_score, 2)}')\n",
    "\n",
    "    clf = XGBClassifier()\n",
    "    clf.fit(X_train, y_train)\n",
    "    train_score = clf.score(X_train, y_train)\n",
    "    valid_score = clf.score(X_valid, y_valid)\n",
    "    print(f'XGBoostClassifier: Train score: {round(train_score, 2)} ; Validation score: {round(valid_score, 2)}')\n",
    "\n",
    "    clf = MultinomialNB()\n",
    "    clf.fit(X_train, y_train)\n",
    "    train_score = clf.score(X_train, y_train)\n",
    "    valid_score = clf.score(X_valid, y_valid)\n",
    "    print(f'MultinomialNB: Train score: {round(train_score, 2)} ; Validation score: {round(valid_score, 2)}\\n')\n",
    "\n",
    "train_and_show_scores(X_train_unigram, y_train, 'Unigram Counts')\n",
    "train_and_show_scores(X_train_unigram_tf_idf, y_train, 'Unigram Tf-Idf')\n",
    "train_and_show_scores(X_train_bigram, y_train, 'Bigram Counts')\n",
    "train_and_show_scores(X_train_bigram_tf_idf, y_train, 'Bigram Tf-Idf')"
   ],
   "metadata": {
    "collapsed": false,
    "pycharm": {
     "name": "#%%\n"
    }
   }
  },
  {
   "cell_type": "code",
   "execution_count": 9,
   "outputs": [
    {
     "name": "stdout",
     "output_type": "stream",
     "text": [
      "Best params: {'alpha': 6.9567079387589e-05, 'eta0': 0.0019570170635736096, 'learning_rate': 'optimal', 'loss': 'modified_huber', 'penalty': 'elasticnet'}\n",
      "Best score: 0.9805970652883254\n"
     ]
    }
   ],
   "source": [
    "x_train_transformed = X_train_bigram_tf_idf #this had the best validation score (88%)\n",
    "clf = SGDClassifier()\n",
    "\n",
    "distributions = dict(\n",
    "    penalty=['l1', 'l2', 'elasticnet'],\n",
    "    alpha=uniform(loc=1e-6, scale=1e-4),\n",
    "    loss=['hinge', 'log', 'modified_huber', 'squared_hinge', 'perceptron'],\n",
    "    learning_rate=['optimal', 'invscaling', 'adaptive'],\n",
    "    eta0=uniform(loc=1e-7, scale=1e-2)\n",
    ")\n",
    "\n",
    "random_search_cv = RandomizedSearchCV(\n",
    "    estimator=clf,\n",
    "    param_distributions=distributions,\n",
    "    cv=5,\n",
    "    n_iter=50,\n",
    "    n_jobs = -1,\n",
    ")\n",
    "random_search_cv.fit(x_train_transformed, y_train)\n",
    "print(f'Best params: {random_search_cv.best_params_}')\n",
    "print(f'Best score: {random_search_cv.best_score_}')"
   ],
   "metadata": {
    "collapsed": false,
    "pycharm": {
     "name": "#%%\n"
    }
   }
  },
  {
   "cell_type": "code",
   "execution_count": 16,
   "outputs": [
    {
     "name": "stdout",
     "output_type": "stream",
     "text": [
      "Test score SGD:  0.983739837398374\n",
      "Test score MultinomialNB:  0.9655826558265582\n"
     ]
    }
   ],
   "source": [
    "sgd_classifier = random_search_cv.best_estimator_\n",
    "\n",
    "#sgd_classifier = SGDClassifier(alpha=6.9567079387589e-05, eta0=0.0019570170635736096, learning_rate='optimal', loss='modified_huber', penalty='elasticnet')\n",
    "sgd_classifier = SGDClassifier(alpha=random_search_cv.best_params_['alpha'], eta0=random_search_cv.best_params_['eta0'], learning_rate=random_search_cv.best_params_['learning_rate'], loss=random_search_cv.best_params_['loss'], penalty=random_search_cv.best_params_['penalty'])\n",
    "sgd_classifier.fit(x_train_transformed, y_train)\n",
    "\n",
    "#transform test data\n",
    "x_test_transformed = bigram_vectorizer.transform(X_test.text)\n",
    "x_test_transformed = bigram_tf_idf_transformer.transform(x_test_transformed)\n",
    "\n",
    "#test score\n",
    "score = sgd_classifier.score(x_test_transformed, y_test)\n",
    "print(\"Test score SGD: \", score)\n",
    "\n",
    "# try MultinomialNB\n",
    "\n",
    "# Vectorize text reviews to numbers\n",
    "vec = CountVectorizer(ngram_range=(1, 1))\n",
    "x_train = vec.fit_transform(X_train_texts).toarray()\n",
    "x_test = vec.transform(X_test.text).toarray()\n",
    "\n",
    "model = MultinomialNB()\n",
    "model.fit(x_train, y_train)\n",
    "score = model.score(x_test, y_test)\n",
    "print(\"Test score MultinomialNB: \", score)"
   ],
   "metadata": {
    "collapsed": false,
    "pycharm": {
     "name": "#%%\n"
    }
   }
  },
  {
   "cell_type": "code",
   "execution_count": 11,
   "outputs": [
    {
     "name": "stdout",
     "output_type": "stream",
     "text": [
      "Test score XGB:  0.9758807588075881\n"
     ]
    }
   ],
   "source": [
    "clf = XGBClassifier()\n",
    "clf.fit(x_train_transformed, y_train)\n",
    "score = clf.score(x_test_transformed, y_test)\n",
    "print(\"Test score XGB: \", score)"
   ],
   "metadata": {
    "collapsed": false,
    "pycharm": {
     "name": "#%%\n"
    }
   }
  },
  {
   "cell_type": "markdown",
   "source": [
    "## Tuning"
   ],
   "metadata": {
    "id": "qexuCjAKuiDA",
    "pycharm": {
     "name": "#%% md\n"
    }
   }
  },
  {
   "cell_type": "code",
   "source": [],
   "metadata": {
    "id": "5Mt9S39oumWH",
    "pycharm": {
     "name": "#%%\n"
    }
   },
   "execution_count": 11,
   "outputs": []
  },
  {
   "cell_type": "markdown",
   "source": [
    "## Debugging"
   ],
   "metadata": {
    "id": "rIuVzZ2tumyP",
    "pycharm": {
     "name": "#%% md\n"
    }
   }
  },
  {
   "cell_type": "code",
   "execution_count": 12,
   "outputs": [
    {
     "name": "stdout",
     "output_type": "stream",
     "text": [
      "Confusion Matrix\n",
      "[[2404   37]\n",
      " [  35 1214]]\n"
     ]
    },
    {
     "data": {
      "text/plain": "<Figure size 432x288 with 2 Axes>",
      "image/png": "[encoded data removed]"
     },
     "metadata": {
      "needs_background": "light"
     },
     "output_type": "display_data"
    },
    {
     "name": "stdout",
     "output_type": "stream",
     "text": [
      "\n",
      "Classification Report\n",
      "              precision    recall  f1-score   support\n",
      "\n",
      "           0       0.99      0.98      0.99      2441\n",
      "           1       0.97      0.97      0.97      1249\n",
      "\n",
      "    accuracy                           0.98      3690\n",
      "   macro avg       0.98      0.98      0.98      3690\n",
      "weighted avg       0.98      0.98      0.98      3690\n",
      "\n"
     ]
    }
   ],
   "source": [
    "y_pred = sgd_classifier.predict(x_test_transformed)\n",
    "\n",
    "print(\"Confusion Matrix\")\n",
    "cf_matrix = confusion_matrix(y_test, y_pred)\n",
    "print(cf_matrix)\n",
    "\n",
    "ax = sns.heatmap(cf_matrix, annot=True, fmt='.0f', cmap='Blues')\n",
    "\n",
    "ax.set_title('Confusion Matrix with labels\\n\\n')\n",
    "ax.set_xlabel('\\nPredicted Values')\n",
    "ax.set_ylabel('Actual Values ')\n",
    "\n",
    "## Ticket labels - List must be in alphabetical order\n",
    "ax.xaxis.set_ticklabels(['Negative','Positive'])\n",
    "ax.yaxis.set_ticklabels(['Negative','Positive'])\n",
    "\n",
    "## Display the visualization of the Confusion Matrix.\n",
    "plt.show()\n",
    "\n",
    "# Classification Report\n",
    "print(\"\\nClassification Report\")\n",
    "report = classification_report(y_test, y_pred)\n",
    "print(report)"
   ],
   "metadata": {
    "collapsed": false,
    "pycharm": {
     "name": "#%%\n"
    }
   }
  },
  {
   "cell_type": "code",
   "execution_count": 13,
   "outputs": [
    {
     "data": {
      "text/plain": "                       id                                               text  \\\n9524  1389655905055100931  I just saw a woman on tv that had the first sh...   \n8236  1387148412336869382  Doctors calling the vaccine  a bioweapond!\\n\\n...   \n6725  1388281248557125633  This Tweet from @chokokoyo has been withheld i...   \n4643  1359217309299007489  A medical doctor just told my parents that he ...   \n3124  1345765074657542144  Can someone please impregnate me before they f...   \n...                   ...                                                ...   \n379   1344293096532676609  #econtwitter : discussions on papers, runs,  R...   \n1748  1346916513719189509  ICYMI: It’s dangerous to introduce COVID-19 va...   \n8201  1387166410321899526  Yes. This is a real story. The COVID vaccines ...   \n1995  1346889535406403587  Allergic reactions including anaphylaxis after...   \n1666  1346964683345940482  #COVIDvaccine Side effects\\n21 persons experie...   \n\n      is_misinfo_pred  is_misinfo_true  \n9524                0                1  \n8236                0                1  \n6725                1                0  \n4643                1                0  \n3124                0                1  \n...               ...              ...  \n379                 1                0  \n1748                0                1  \n8201                1                0  \n1995                0                1  \n1666                0                1  \n\n[72 rows x 4 columns]",
      "text/html": "<div>\n<style scoped>\n    .dataframe tbody tr th:only-of-type {\n        vertical-align: middle;\n    }\n\n    .dataframe tbody tr th {\n        vertical-align: top;\n    }\n\n    .dataframe thead th {\n        text-align: right;\n    }\n</style>\n<table border=\"1\" class=\"dataframe\">\n  <thead>\n    <tr style=\"text-align: right;\">\n      <th></th>\n      <th>id</th>\n      <th>text</th>\n      <th>is_misinfo_pred</th>\n      <th>is_misinfo_true</th>\n    </tr>\n  </thead>\n  <tbody>\n    <tr>\n      <th>9524</th>\n      <td>1389655905055100931</td>\n      <td>I just saw a woman on tv that had the first sh...</td>\n      <td>0</td>\n      <td>1</td>\n    </tr>\n    <tr>\n      <th>8236</th>\n      <td>1387148412336869382</td>\n      <td>Doctors calling the vaccine  a bioweapond!\\n\\n...</td>\n      <td>0</td>\n      <td>1</td>\n    </tr>\n    <tr>\n      <th>6725</th>\n      <td>1388281248557125633</td>\n      <td>This Tweet from @chokokoyo has been withheld i...</td>\n      <td>1</td>\n      <td>0</td>\n    </tr>\n    <tr>\n      <th>4643</th>\n      <td>1359217309299007489</td>\n      <td>A medical doctor just told my parents that he ...</td>\n      <td>1</td>\n      <td>0</td>\n    </tr>\n    <tr>\n      <th>3124</th>\n      <td>1345765074657542144</td>\n      <td>Can someone please impregnate me before they f...</td>\n      <td>0</td>\n      <td>1</td>\n    </tr>\n    <tr>\n      <th>...</th>\n      <td>...</td>\n      <td>...</td>\n      <td>...</td>\n      <td>...</td>\n    </tr>\n    <tr>\n      <th>379</th>\n      <td>1344293096532676609</td>\n      <td>#econtwitter : discussions on papers, runs,  R...</td>\n      <td>1</td>\n      <td>0</td>\n    </tr>\n    <tr>\n      <th>1748</th>\n      <td>1346916513719189509</td>\n      <td>ICYMI: It’s dangerous to introduce COVID-19 va...</td>\n      <td>0</td>\n      <td>1</td>\n    </tr>\n    <tr>\n      <th>8201</th>\n      <td>1387166410321899526</td>\n      <td>Yes. This is a real story. The COVID vaccines ...</td>\n      <td>1</td>\n      <td>0</td>\n    </tr>\n    <tr>\n      <th>1995</th>\n      <td>1346889535406403587</td>\n      <td>Allergic reactions including anaphylaxis after...</td>\n      <td>0</td>\n      <td>1</td>\n    </tr>\n    <tr>\n      <th>1666</th>\n      <td>1346964683345940482</td>\n      <td>#COVIDvaccine Side effects\\n21 persons experie...</td>\n      <td>0</td>\n      <td>1</td>\n    </tr>\n  </tbody>\n</table>\n<p>72 rows × 4 columns</p>\n</div>"
     },
     "execution_count": 13,
     "metadata": {},
     "output_type": "execute_result"
    }
   ],
   "source": [
    "X_test['is_misinfo_pred'] = y_pred\n",
    "X_test['is_misinfo_true'] = y_test\n",
    "X_test.loc[~(X_test['is_misinfo_pred'] == X_test['is_misinfo_true'])]"
   ],
   "metadata": {
    "collapsed": false,
    "pycharm": {
     "name": "#%%\n"
    }
   }
  },
  {
   "cell_type": "code",
   "execution_count": 13,
   "outputs": [],
   "source": [],
   "metadata": {
    "collapsed": false,
    "pycharm": {
     "name": "#%%\n"
    }
   }
  }
 ]
}